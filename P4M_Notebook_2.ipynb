{
  "nbformat": 4,
  "nbformat_minor": 0,
  "metadata": {
    "kernelspec": {
      "display_name": "Python 3",
      "language": "python",
      "name": "python3"
    },
    "language_info": {
      "codemirror_mode": {
        "name": "ipython",
        "version": 3
      },
      "file_extension": ".py",
      "mimetype": "text/x-python",
      "name": "python",
      "nbconvert_exporter": "python",
      "pygments_lexer": "ipython3",
      "version": "3.6.7"
    },
    "colab": {
      "name": "P4M_Notebook_2.ipynb",
      "provenance": [],
      "toc_visible": true,
      "collapsed_sections": [],
      "include_colab_link": true
    }
  },
  "cells": [
    {
      "cell_type": "markdown",
      "metadata": {
        "id": "view-in-github",
        "colab_type": "text"
      },
      "source": [
        "<a href=\"https://colab.research.google.com/github/xCHMNx/Math152/blob/main/P4M_Notebook_2.ipynb\" target=\"_parent\"><img src=\"https://colab.research.google.com/assets/colab-badge.svg\" alt=\"Open In Colab\"/></a>"
      ]
    },
    {
      "cell_type": "markdown",
      "metadata": {
        "id": "K-XYXmmluXdg"
      },
      "source": [
        "# Part 2:  Functions and Control Statements"
      ]
    },
    {
      "cell_type": "markdown",
      "metadata": {
        "id": "xvBm3ReiuXdj"
      },
      "source": [
        "A distinguishing property of *programming* languages is that the programmer can create their own *functions*.  Creating a *function* is like teaching the computer a new trick.  Typically a function will receive some data as *input*, will perform an *algorithm* involving the input data, and will *output* data when the algorithm terminates.  \n",
        "\n",
        "In this part, we explore Python functions.  We also explore control statements, which allow a program to behave in different ways for different inputs.  We also introduce the *while loop*, a loop whose repetition can be more carefully controlled than a for loop.  As an application of these techniques, we implement the Euclidean algorithm as a Python function in a few ways, to effectively find the GCD of integers.\n",
        "\n",
        "At the end, you will be prepared to explore the Collatz conjecture."
      ]
    },
    {
      "cell_type": "markdown",
      "metadata": {
        "id": "Cw0CHgACuXdk"
      },
      "source": [
        "## Getting started with Python functions"
      ]
    },
    {
      "cell_type": "markdown",
      "metadata": {
        "id": "o0UhM3CKuXdk"
      },
      "source": [
        "A *function* in Python is a construction which takes input data, performs some actions, and outputs data.  It is best to start with a few examples and break down the code.  Here is a function `square`.  Run the code as usual by pressing *shift-Enter* when the code block is selected."
      ]
    },
    {
      "cell_type": "code",
      "metadata": {
        "id": "-sH7F-YEuXdk"
      },
      "source": [
        "def square(x):\n",
        "    answer = x * x\n",
        "    return answer"
      ],
      "execution_count": null,
      "outputs": []
    },
    {
      "cell_type": "markdown",
      "metadata": {
        "id": "C6tqVsj6u4Ic"
      },
      "source": [
        "To see \"under the hood\" what Python is doing, we import the Python disassembler."
      ]
    },
    {
      "cell_type": "code",
      "metadata": {
        "id": "v-H2v_wOuXdl"
      },
      "source": [
        "from dis import dis"
      ],
      "execution_count": null,
      "outputs": []
    },
    {
      "cell_type": "code",
      "metadata": {
        "id": "6ZYvlyCYuXdl",
        "colab": {
          "base_uri": "https://localhost:8080/"
        },
        "outputId": "1b37aa7a-fc10-4340-e807-c8697329ab5f"
      },
      "source": [
        "dis(square)"
      ],
      "execution_count": null,
      "outputs": [
        {
          "output_type": "stream",
          "name": "stdout",
          "text": [
            "  2           0 LOAD_FAST                0 (x)\n",
            "              2 LOAD_FAST                0 (x)\n",
            "              4 BINARY_MULTIPLY\n",
            "              6 STORE_FAST               1 (answer)\n",
            "\n",
            "  3           8 LOAD_FAST                1 (answer)\n",
            "             10 RETURN_VALUE\n"
          ]
        }
      ]
    },
    {
      "cell_type": "markdown",
      "metadata": {
        "id": "p43oP8AquXdm"
      },
      "source": [
        "When you run the code block, you probably didn't see anything happen.  But you have effectively taught your computer a new trick, increasing the vocabulary of commands it understands through the Python interpreter.  \n",
        "\n",
        "More specifically, Python has turned your neat \"square function\" into a series of very quickly runnable commands (\"LOAD_FAST\" and \"BINARY_MULTIPLY\").  That way, every time you want to use your square function, Python will just go through the same series of quick operations.\n",
        "\n",
        "You don't really need to know the \"disassembled\" square function above... you can use the `square` command as you wish."
      ]
    },
    {
      "cell_type": "code",
      "metadata": {
        "id": "J1Drx8OauXdm",
        "colab": {
          "base_uri": "https://localhost:8080/"
        },
        "outputId": "3850979e-9f6e-44e2-c011-cb13b8796322"
      },
      "source": [
        "square(12)"
      ],
      "execution_count": null,
      "outputs": [
        {
          "output_type": "execute_result",
          "data": {
            "text/plain": [
              "144"
            ]
          },
          "metadata": {},
          "execution_count": 4
        }
      ]
    },
    {
      "cell_type": "code",
      "metadata": {
        "id": "RPfYsUfAuXdm",
        "colab": {
          "base_uri": "https://localhost:8080/"
        },
        "outputId": "98a815d9-b58b-4407-8057-49e32407de2f"
      },
      "source": [
        "square(1.5)"
      ],
      "execution_count": null,
      "outputs": [
        {
          "output_type": "execute_result",
          "data": {
            "text/plain": [
              "2.25"
            ]
          },
          "metadata": {},
          "execution_count": 5
        }
      ]
    },
    {
      "cell_type": "markdown",
      "metadata": {
        "id": "83KgYRaIuXdm"
      },
      "source": [
        "Let's break down the syntax of the *function declaration*, line by line.\n",
        "\n",
        "```python\n",
        "def square(x):\n",
        "    answer = x * x\n",
        "    return answer\n",
        "```\n",
        "\n",
        "The first line begins with the Python reserved word `def`.  (So don't use `def` as a variable name!).  The word `def` stands for \"define\" and it defines a function called `square`.  After the function name `square` comes parentheses `(x)` containing the **argument** `x`.  The *arguments* or *parameters* of a function refer to the input data.  Even if your function has no arguments, you need parentheses.  The argument `x` is used to name whatever number is input into the `square` function.  \n",
        "\n",
        "At the end of the function declaration line is a colon `:` and the following two lines are indented.  As in the case of for loops, the colon and indentation are signals of *scope*.  Everything on the indented lines is considered within the *scope of the function* and is carried out when the function is used later.\n",
        "\n",
        "The second line `answer = x * x` is the beginning of the scope of the function.  It declares a variable `answer` and sets the value to be `x * x`.  So if the argument `x` is 12, then `answer` will be set to 144.  The variable `answer`, being declared within the scope of the function, will not be accessible outside the scope of the function.  It is called a **local variable**.\n",
        "\n",
        "The last line `return answer` contains the Python reserved word `return`, which terminates the function and outputs the value of the variable `answer`.  So when you apply the function with the command `square(1.5)`, the number `1.5` is `passed` as the argument `x`, and `answer` is `2.25`, and that number `2.25` becomes the output."
      ]
    },
    {
      "cell_type": "markdown",
      "metadata": {
        "id": "v_nIkzhAuXdn"
      },
      "source": [
        "A function does not have to return a value.  Some functions might just provide some information.  Here is a function which displays the result of division with remainder as a sentence with addition and multiplication."
      ]
    },
    {
      "cell_type": "code",
      "metadata": {
        "id": "kblJD_kQuXdn"
      },
      "source": [
        "def display_divmod(a,b):\n",
        "    quotient = a // b # Integer division\n",
        "    remainder = a % b #\n",
        "    print(\"{} = {} ({}) + {}\".format(a,quotient,b,remainder))"
      ],
      "execution_count": null,
      "outputs": []
    },
    {
      "cell_type": "markdown",
      "metadata": {
        "id": "g2fq4CwHvtF1"
      },
      "source": [
        "If you want a quick look under the hood, here is the function disassembled.  Again, you don't need to know what everything means.  The four-line code above is translated into 20 very fast steps below, numbered 0,2,4, up to 38."
      ]
    },
    {
      "cell_type": "code",
      "metadata": {
        "id": "44kJtTHJuXdn",
        "colab": {
          "base_uri": "https://localhost:8080/"
        },
        "outputId": "8223131a-366d-435c-cadc-2e45d86c51b4"
      },
      "source": [
        "dis(display_divmod)"
      ],
      "execution_count": null,
      "outputs": [
        {
          "output_type": "stream",
          "name": "stdout",
          "text": [
            "  2           0 LOAD_FAST                0 (a)\n",
            "              2 LOAD_FAST                1 (b)\n",
            "              4 BINARY_FLOOR_DIVIDE\n",
            "              6 STORE_FAST               2 (quotient)\n",
            "\n",
            "  3           8 LOAD_FAST                0 (a)\n",
            "             10 LOAD_FAST                1 (b)\n",
            "             12 BINARY_MODULO\n",
            "             14 STORE_FAST               3 (remainder)\n",
            "\n",
            "  4          16 LOAD_GLOBAL              0 (print)\n",
            "             18 LOAD_CONST               1 ('{} = {} ({}) + {}')\n",
            "             20 LOAD_METHOD              1 (format)\n",
            "             22 LOAD_FAST                0 (a)\n",
            "             24 LOAD_FAST                2 (quotient)\n",
            "             26 LOAD_FAST                1 (b)\n",
            "             28 LOAD_FAST                3 (remainder)\n",
            "             30 CALL_METHOD              4\n",
            "             32 CALL_FUNCTION            1\n",
            "             34 POP_TOP\n",
            "             36 LOAD_CONST               0 (None)\n",
            "             38 RETURN_VALUE\n"
          ]
        }
      ]
    },
    {
      "cell_type": "markdown",
      "metadata": {
        "id": "g8zsMb4av9Pu"
      },
      "source": [
        "Below, we can run the function to see the output."
      ]
    },
    {
      "cell_type": "code",
      "metadata": {
        "scrolled": true,
        "id": "-5N5Px0XuXdn",
        "colab": {
          "base_uri": "https://localhost:8080/"
        },
        "outputId": "0b7cfcda-ca33-49a8-b9d5-3f580a3ccc1f"
      },
      "source": [
        "display_divmod(23,5)"
      ],
      "execution_count": null,
      "outputs": [
        {
          "output_type": "stream",
          "name": "stdout",
          "text": [
            "23 = 4 (5) + 3\n"
          ]
        }
      ]
    },
    {
      "cell_type": "markdown",
      "metadata": {
        "id": "JUD5Y7FLuXdn"
      },
      "source": [
        "Notice that this function has no `return` line.  The function terminates automatically at the end of its scope.\n",
        "\n",
        "The function also uses Python's **string formatting**.  This has changed between Python 2.x and 3.x, and this notebook uses Python 3.x syntax.\n",
        "\n",
        "String formatting allows you to insert placeholders like `{}` within a string, and later fill those places with a list of things.  "
      ]
    },
    {
      "cell_type": "code",
      "metadata": {
        "id": "qYo13qoyuXdn",
        "colab": {
          "base_uri": "https://localhost:8080/"
        },
        "outputId": "7912c5cd-bfd9-4c45-d0f7-cd3075e41b3f"
      },
      "source": [
        "print(\"My favorite number is {}\".format(17))  # The .format \"method\" substitutes 17 for {}"
      ],
      "execution_count": null,
      "outputs": [
        {
          "output_type": "stream",
          "name": "stdout",
          "text": [
            "My favorite number is 17\n"
          ]
        }
      ]
    },
    {
      "cell_type": "code",
      "metadata": {
        "id": "-XwFB1SBuXdo",
        "colab": {
          "base_uri": "https://localhost:8080/"
        },
        "outputId": "2de66d48-8c7b-4fe0-b488-a686283708d6"
      },
      "source": [
        "print(\"{} + {} = {}\".format(13,12,13+12))"
      ],
      "execution_count": null,
      "outputs": [
        {
          "output_type": "stream",
          "name": "stdout",
          "text": [
            "13 + 12 = 25\n"
          ]
        }
      ]
    },
    {
      "cell_type": "markdown",
      "metadata": {
        "id": "6_WwWoLOuXdo"
      },
      "source": [
        "The `format` command is an example of a **string method**.  It has the effect of replacing all placeholders `{}` by the its inputs, in sequence.  There is an intricate syntax for these placeholders, to allow one to match placeholders with values in different orders, and to format different kinds of values.  Here is the [official reference for string formatting in Python 3.x](https://docs.python.org/3/library/string.html#formatstrings).  We will only use the most basic features, exhibited below."
      ]
    },
    {
      "cell_type": "code",
      "metadata": {
        "id": "IVmzfGzsuXdo",
        "colab": {
          "base_uri": "https://localhost:8080/"
        },
        "outputId": "253c3bbd-d65f-4dff-92bd-92b5a8111ed1"
      },
      "source": [
        "print (\"The number {} comes before {}.\".format(1,2)) # This should be familiar.\n",
        "print (\"The number {1} comes before {0}.\".format(1,2)) # What happens?\n",
        "print (\"The number {1} comes before {1}.\".format(1,2)) # Got it now?\n",
        "\n"
      ],
      "execution_count": null,
      "outputs": [
        {
          "output_type": "stream",
          "name": "stdout",
          "text": [
            "The number 1 comes before 2.\n",
            "The number 2 comes before 1.\n",
            "The number 2 comes before 2.\n"
          ]
        }
      ]
    },
    {
      "cell_type": "markdown",
      "metadata": {
        "id": "ITCX3DmduXdo"
      },
      "source": [
        "By placing a number in the placeholder, like `{1}`, one can fill in the placeholders with the values in a different order, or repeat the same value.  The format method takes multiple parameters, and they are numbered:  parameter 0, parameter 1, parameter 2, etc..  So the placeholder `{1}` will be replaced by the second parameter (parameter 1).  It's confusing at first, but Python almost always starts counting at zero."
      ]
    },
    {
      "cell_type": "code",
      "metadata": {
        "id": "cDQWP_m4uXdo",
        "colab": {
          "base_uri": "https://localhost:8080/"
        },
        "outputId": "185eb10e-5d3a-475d-fc9e-fbbb47976225"
      },
      "source": [
        "print(\"pi is approximately {0}\".format(3.14159265))\n",
        "print(\"pi is approximately {0:f}\".format(3.14159265)) # The \"f\" in \"0:f\" formats the float.\n",
        "print(\"pi is approximately {0:0.3f}\".format(3.14159265)) # Choose 3 digits of precision.\n"
      ],
      "execution_count": null,
      "outputs": [
        {
          "output_type": "stream",
          "name": "stdout",
          "text": [
            "pi is approximately 3.14159265\n",
            "pi is approximately 3.141593\n",
            "pi is approximately 3.142\n"
          ]
        }
      ]
    },
    {
      "cell_type": "markdown",
      "metadata": {
        "id": "W9QjcrivuXdp"
      },
      "source": [
        "If you give some information about how the placeholder is being used, the format method will format things more nicely for printing.  The placeholder `{0:f}` will be replaced by parameter 0, and it will be formatted in a way that is nice for floats (hence the `f`).  Don't try formatting things outside of their type!"
      ]
    },
    {
      "cell_type": "code",
      "metadata": {
        "id": "WI4b7-z6uXdp",
        "colab": {
          "base_uri": "https://localhost:8080/",
          "height": 269
        },
        "outputId": "72137a54-b2db-412e-9723-28039d775372"
      },
      "source": [
        "print(\"{:d} is a pretty big integer.\".format(2**100)) # d is the formatting code for integers.\n",
        "print(\"{:f} is an integer, formatted like a float.\".format(2**100))\n",
        "print(\"{:f} is a float, of course.\".format(1/7))\n",
        "print(\"{:s} is a string.\".format('Hi there!')) # s is the formatting code for strings.\n",
        "print(\"{:d} will give us an error message.\".format(1/7))\n"
      ],
      "execution_count": null,
      "outputs": [
        {
          "output_type": "stream",
          "name": "stdout",
          "text": [
            "1267650600228229401496703205376 is a pretty big integer.\n",
            "1267650600228229401496703205376.000000 is an integer, formatted like a float.\n",
            "0.142857 is a float, of course.\n",
            "Hi there! is a string.\n"
          ]
        },
        {
          "output_type": "error",
          "ename": "ValueError",
          "evalue": "ignored",
          "traceback": [
            "\u001b[0;31m---------------------------------------------------------------------------\u001b[0m",
            "\u001b[0;31mValueError\u001b[0m                                Traceback (most recent call last)",
            "\u001b[0;32m<ipython-input-34-a243553941ff>\u001b[0m in \u001b[0;36m<module>\u001b[0;34m()\u001b[0m\n\u001b[1;32m      3\u001b[0m \u001b[0mprint\u001b[0m\u001b[0;34m(\u001b[0m\u001b[0;34m\"{:f} is a float, of course.\"\u001b[0m\u001b[0;34m.\u001b[0m\u001b[0mformat\u001b[0m\u001b[0;34m(\u001b[0m\u001b[0;36m1\u001b[0m\u001b[0;34m/\u001b[0m\u001b[0;36m7\u001b[0m\u001b[0;34m)\u001b[0m\u001b[0;34m)\u001b[0m\u001b[0;34m\u001b[0m\u001b[0;34m\u001b[0m\u001b[0m\n\u001b[1;32m      4\u001b[0m \u001b[0mprint\u001b[0m\u001b[0;34m(\u001b[0m\u001b[0;34m\"{:s} is a string.\"\u001b[0m\u001b[0;34m.\u001b[0m\u001b[0mformat\u001b[0m\u001b[0;34m(\u001b[0m\u001b[0;34m'Hi there!'\u001b[0m\u001b[0;34m)\u001b[0m\u001b[0;34m)\u001b[0m \u001b[0;31m# s is the formatting code for strings.\u001b[0m\u001b[0;34m\u001b[0m\u001b[0;34m\u001b[0m\u001b[0m\n\u001b[0;32m----> 5\u001b[0;31m \u001b[0mprint\u001b[0m\u001b[0;34m(\u001b[0m\u001b[0;34m\"{:d} will give us an error message.\"\u001b[0m\u001b[0;34m.\u001b[0m\u001b[0mformat\u001b[0m\u001b[0;34m(\u001b[0m\u001b[0;36m1\u001b[0m\u001b[0;34m/\u001b[0m\u001b[0;36m7\u001b[0m\u001b[0;34m)\u001b[0m\u001b[0;34m)\u001b[0m\u001b[0;34m\u001b[0m\u001b[0;34m\u001b[0m\u001b[0m\n\u001b[0m",
            "\u001b[0;31mValueError\u001b[0m: Unknown format code 'd' for object of type 'float'"
          ]
        }
      ]
    },
    {
      "cell_type": "code",
      "metadata": {
        "id": "Xa4ug6SMuXdp",
        "colab": {
          "base_uri": "https://localhost:8080/"
        },
        "outputId": "b9c149b7-2a83-404c-e7e1-f76e6ab181ed"
      },
      "source": [
        "from math import sqrt  # Make sure the square root function is loaded.\n",
        "print(\"The square root of {0:d} is about {1:f}.\".format(1000, sqrt(1000)))"
      ],
      "execution_count": 7,
      "outputs": [
        {
          "output_type": "stream",
          "name": "stdout",
          "text": [
            "The square root of 1000 is about 31.622777.\n"
          ]
        }
      ]
    },
    {
      "cell_type": "markdown",
      "metadata": {
        "id": "SimNBwI0uXdp"
      },
      "source": [
        "### Exercises\n",
        "\n",
        "1.  What are the signals of scope in Python?\n",
        "\n",
        "2.  Write a function called area_circle, which takes one argument radius. The function should return the area of the circle, as a floating point number. Then add one line to the function, using string formatting, so that it additionally prints a helpful sentence of the form \"The area of a circle of radius 1.0 is 3.14159.\" (depending on the radius and the area it computes).\n",
        "\n",
        "3.  Write a function called factorial, which takes one argument called `n`.  The function should return the factorian of `n` when `n` is a positive integer.  Don't worry about what happens when `n` is zero, or a bad input.  Don't use recursion (if you know it) -- just use a for loop.\n",
        "\n",
        "4. `format` is an example of a \"string method\".  Another neat one is `replace`.  Try `\"Python\".replace(\"yth\",\"arag\")` to see what it does.  \n",
        "\n",
        "5.  Try the formatting codes `%` and `E` (instead of `f`) for a floating point number.  What do they do?\n",
        "\n",
        "6. Can you think of a reason you might want to have a function with *no* arguments?"
      ]
    },
    {
      "cell_type": "markdown",
      "source": [
        "Code solutions have been presented in the code cell below. For written responses, see Solutions section below that."
      ],
      "metadata": {
        "id": "9Dr61RpciUUQ"
      }
    },
    {
      "cell_type": "code",
      "metadata": {
        "id": "J_WzLsqwuXdp",
        "colab": {
          "base_uri": "https://localhost:8080/"
        },
        "outputId": "123e73b7-835f-4855-8473-455955f71d90"
      },
      "source": [
        "#  Use this space to work on the Exercises.  \n",
        "#  Remember that you can add a new cell above/below by clicking to the left of a cell,\n",
        "#  (the cell will have a blue bar at the left) and then pressing \"a\" or \"b\" on the keyboard.\n",
        "from math import pi\n",
        "\n",
        "# 2.\n",
        "def area_circle(radius):\n",
        "  area = pi*radius**2\n",
        "  print(\"The area of a circle of radius {:d} is {:f}.\".format(radius, area))\n",
        "  return area\n",
        "area_circle(2)\n",
        "\n",
        "# 3.\n",
        "def factorial(n):\n",
        "  fact = 1\n",
        "  for i in range(n):\n",
        "    fact *= i+1\n",
        "  return fact\n",
        "print(factorial(5))\n",
        "\n",
        "#4.\n",
        "print(\"Python\".replace(\"yth\", \"arag\"))\n",
        "# The .replace() function takes a section of the string and replaces it with another section\n",
        "\n",
        "#5.\n",
        "print(\"Testing formatting of {:%}\".format(0.5)) #The % sign formats the number as a percent after multiplying by 100\n",
        "print(\"Testing formatting of {:E}\".format(2**50)) # The code E formats the number in scientific notation (exponential form)\n"
      ],
      "execution_count": null,
      "outputs": [
        {
          "output_type": "stream",
          "name": "stdout",
          "text": [
            "The area of a circle of radius 2 is 12.566371.\n",
            "120\n",
            "Paragon\n",
            "Testing formatting of 50.000000%\n",
            "Testing formatting of 1.125900E+15\n"
          ]
        }
      ]
    },
    {
      "cell_type": "markdown",
      "source": [
        "###Solutions\n",
        "1. In Python, a scope begins with some keyword, like `for` or `def`, followed by a `:`. Then, one indents the code following the `:` symbol. The scope ends when the indentation reverts to what it was before the `:` and keyword.\n",
        "\n",
        "2. See code above.\n",
        "3. See code above.\n",
        "\n",
        "4. As demonstrated above, the line `\"Python\".replace(\"yth\", \"arag\")` replaces the letters `\"yth\"` in `\"Python\"` with the letters `\"arag\"`, generating the word `\"Paragon\"`. The `.replace()` function swaps out the specified substring with another.\n",
        "\n",
        "5. The `%` sign formats the number as a percent after multiplying by 100, effectively treating 1 as 100%. The code `E` formats the input number in scientific notation (exponential form).\n",
        "\n",
        "6. One might want a function with no arguments if there was a chunk of code that needed to be run many times in a program, but didn't require any input values. It would be silly to copy the code over and over, so instead one could write a function which ran those lines of code whenever they were needed."
      ],
      "metadata": {
        "id": "TdIw9nBT5ExT"
      }
    },
    {
      "cell_type": "markdown",
      "metadata": {
        "id": "o-JZI8kbuXdp"
      },
      "source": [
        "## Control statements"
      ]
    },
    {
      "cell_type": "markdown",
      "metadata": {
        "id": "RoalaxvHuXdq"
      },
      "source": [
        "It is important for a computer program to behave differently under different circumstances.  The simplest control statements, `if` and its relative `else`, can be used to tell Python to carry out different actions depending on the value of a boolean variable.  The following function exhibits the syntax."
      ]
    },
    {
      "cell_type": "code",
      "metadata": {
        "id": "d8Fw2EdWuXdq"
      },
      "source": [
        "def is_even(n):\n",
        "    if n%2 == 0:\n",
        "        print(\"{} is even.\".format(n))\n",
        "        return True\n",
        "    else:\n",
        "        print(\"{} is odd.\".format(n))\n",
        "        return False"
      ],
      "execution_count": null,
      "outputs": []
    },
    {
      "cell_type": "code",
      "metadata": {
        "id": "Ki1TLpgcuXdq",
        "colab": {
          "base_uri": "https://localhost:8080/"
        },
        "outputId": "f2f74f4e-95b6-496b-b2e8-3d79908a1440"
      },
      "source": [
        "is_even(17)"
      ],
      "execution_count": null,
      "outputs": [
        {
          "output_type": "stream",
          "name": "stdout",
          "text": [
            "17 is odd.\n"
          ]
        },
        {
          "output_type": "execute_result",
          "data": {
            "text/plain": [
              "False"
            ]
          },
          "metadata": {},
          "execution_count": 3
        }
      ]
    },
    {
      "cell_type": "code",
      "metadata": {
        "id": "KXfWwovKuXdq",
        "colab": {
          "base_uri": "https://localhost:8080/"
        },
        "outputId": "008f05cd-6757-44e3-d227-ee149551ddf6"
      },
      "source": [
        "is_even(1000)"
      ],
      "execution_count": null,
      "outputs": [
        {
          "output_type": "stream",
          "name": "stdout",
          "text": [
            "1000 is even.\n"
          ]
        },
        {
          "output_type": "execute_result",
          "data": {
            "text/plain": [
              "True"
            ]
          },
          "metadata": {},
          "execution_count": 4
        }
      ]
    },
    {
      "cell_type": "markdown",
      "metadata": {
        "id": "HCZgs7ucuXdq"
      },
      "source": [
        "The broad syntax of the function should be familiar.  We have created a function called `is_even` with one argument called `n`.  The body of the function uses the **control statement** `if n%2 == 0:`.  Recall that `n%2` gives the remainder after dividing `n` by `2`.  Thus `n%2` is 0 or 1, depending on whether `n` is even or odd.  Therefore the **boolean** `n%2 == 0` is `True` if `n` is even, and `False` if `n` is odd.\n",
        "\n",
        "The next two lines (the first `print` and `return` statements) are within the **scope** of the `if <boolean>:` statement, as indicated by the colon and the indentation.  The `if <boolean>:` statement tells the Python interpreter to perform the statements within the scope if the boolean is `True`, and to ignore the statements within the scope if the boolean is `False`.\n",
        "\n",
        "Putting it together, we can analyze the code.\n",
        "```python\n",
        "    if n%2 == 0:\n",
        "        print(\"{} is even.\".format(n))\n",
        "        return True\n",
        "```\n",
        "If `n` is even, then the Python interpreter will print a sentence of the form `n is even`.  Then the interpreter will return (output) the value `True` and the function will terminate.  If `n` is odd, the Python interpreter will ignore the two lines of scope."
      ]
    },
    {
      "cell_type": "markdown",
      "metadata": {
        "id": "9i0HhA_wuXdq"
      },
      "source": [
        "Often we don't just want Python to *do nothing* when a condition is not satisfied.  In the case above, we would rather Python tell us that the number is odd.  The `else:` control statement tells Python what to do in case the `if <boolean>:` control statement receives a `False` boolean.  We analyze the code\n",
        "```python\n",
        "    else:\n",
        "        print(\"{} is odd.\".format(n))\n",
        "        return False\n",
        "```\n",
        "The `print` and `return` commands are within the scope of the `else:` control statement.  So when the `if` statement receives a false signal (the number `n` is odd), the program prints a sentence of the form `n is odd.` and then returns the value `False` and terminates the function."
      ]
    },
    {
      "cell_type": "markdown",
      "metadata": {
        "id": "2ZZTXkc3uXdq"
      },
      "source": [
        "The function `is_even` is a verbose, or \"talkative\" sort of function.  Such a function is sometimes useful in an interactive setting, where the programmer wants to understand everything that's going on.  But if the function had to be called a million times, the screen would fill with printed sentences!  In practice, an efficient and silent function `is_even` might look like the following."
      ]
    },
    {
      "cell_type": "code",
      "metadata": {
        "id": "JnCmNtv7uXdr"
      },
      "source": [
        "def is_even(n):\n",
        "    return (n%2 == 0)"
      ],
      "execution_count": null,
      "outputs": []
    },
    {
      "cell_type": "code",
      "metadata": {
        "id": "qJVILvBfuXdr",
        "colab": {
          "base_uri": "https://localhost:8080/"
        },
        "outputId": "8eb24cb2-fd92-4f19-9f2f-fa59d48de2b7"
      },
      "source": [
        "is_even(17)"
      ],
      "execution_count": null,
      "outputs": [
        {
          "output_type": "execute_result",
          "data": {
            "text/plain": [
              "False"
            ]
          },
          "metadata": {},
          "execution_count": 6
        }
      ]
    },
    {
      "cell_type": "markdown",
      "metadata": {
        "id": "sy9_xgM7uXdr"
      },
      "source": [
        "A `for` loop and an `if` control statement, used together, allow us to carry out a **brute force** search.  We can search for factors in order to check whether a number is prime.  Or we can look for solutions to an equation until we find one.\n",
        "\n",
        "One thing to note:  the function below begins with a block of text between a triple-quote (three single-quotes when typing).  That text is called a **docstring** and it is meant to document what the function does.  Writing clear docstrings becomes more important as you write longer programs, collaborate with other programmers, and when you want to return months or years later to use a program again.  There are different style conventions for docstrings; for example, here are [Google's docstring conventions](https://google.github.io/styleguide/pyguide.html?showone=Comments#Comments).  We take a less formal approach."
      ]
    },
    {
      "cell_type": "code",
      "metadata": {
        "id": "3Z-ygku6uXdr"
      },
      "source": [
        "def is_prime(n):\n",
        "    '''\n",
        "    Checks whether the argument n is a prime number.\n",
        "    Uses a brute force search for factors between 1 and n.\n",
        "    '''\n",
        "    for j in range(2,n):  # the list of numbers 2,3,...,n-1.\n",
        "        if n%j == 0:  # is n divisible by j?\n",
        "            print(\"{} is a factor of {}.\".format(j,n))\n",
        "            return False\n",
        "    return True"
      ],
      "execution_count": null,
      "outputs": []
    },
    {
      "cell_type": "markdown",
      "metadata": {
        "id": "kLAH4a_buXdr"
      },
      "source": [
        "An important note:  the `return` keyword **terminates** the function.  So as soon as a factor is found, the function terminates and outputs `False`.  If no factor is found, then the function execution survives past the loop, and the line `return True` is executed to terminate the function."
      ]
    },
    {
      "cell_type": "code",
      "metadata": {
        "id": "LSjrO41kuXdr",
        "colab": {
          "base_uri": "https://localhost:8080/"
        },
        "outputId": "5ab8af20-9150-4212-b13b-6e2149f04db7"
      },
      "source": [
        "is_prime(91)"
      ],
      "execution_count": null,
      "outputs": [
        {
          "output_type": "stream",
          "name": "stdout",
          "text": [
            "7 is a factor of 91.\n"
          ]
        },
        {
          "output_type": "execute_result",
          "data": {
            "text/plain": [
              "False"
            ]
          },
          "metadata": {},
          "execution_count": 8
        }
      ]
    },
    {
      "cell_type": "code",
      "metadata": {
        "id": "478jwHBwuXdr",
        "colab": {
          "base_uri": "https://localhost:8080/"
        },
        "outputId": "597bc7e8-2080-46dd-8960-88321bf7c4d8"
      },
      "source": [
        "is_prime(101)"
      ],
      "execution_count": null,
      "outputs": [
        {
          "output_type": "execute_result",
          "data": {
            "text/plain": [
              "True"
            ]
          },
          "metadata": {},
          "execution_count": 9
        }
      ]
    },
    {
      "cell_type": "markdown",
      "metadata": {
        "id": "RLMZKMW4uXds"
      },
      "source": [
        "Try the `is_prime` function on bigger numbers -- try numbers with 4 digits, 5 digits, 6 digits.  Where does it start to slow down?  Do you get any errors when the numbers are large?  Make sure to save your work first, just in case this crashes your computer!  \n",
        "\n"
      ]
    },
    {
      "cell_type": "code",
      "metadata": {
        "id": "5QVw3Xy8uXds",
        "colab": {
          "base_uri": "https://localhost:8080/"
        },
        "outputId": "606a7c75-f37c-486b-c100-61f2da79537e"
      },
      "source": [
        "# Experiment with is_prime here.\n",
        "%%time\n",
        "#is_prime(1237) # ~180 micro seconds for 4 digits\n",
        "#is_prime(12347) # ~1.07 milliseconds for 5 digits\n",
        "#is_prime(123457) # ~12.4 milliseconds for 6 digits\n",
        "is_prime(31636373) # ~2.84 seconds for 8 digits, getting slow\n",
        "#is_prime(479001599) # ~42 seconds for 9 digits, clearly very slow, not practical"
      ],
      "execution_count": null,
      "outputs": [
        {
          "output_type": "stream",
          "name": "stdout",
          "text": [
            "CPU times: user 2.8 s, sys: 18.9 ms, total: 2.82 s\n",
            "Wall time: 2.84 s\n"
          ]
        },
        {
          "output_type": "execute_result",
          "data": {
            "text/plain": [
              "True"
            ]
          },
          "metadata": {},
          "execution_count": 30
        }
      ]
    },
    {
      "cell_type": "markdown",
      "source": [
        "I didn't seem to get errors when the numbers were large, the program simply became less and less practical as the runtime got longer. By 9 digit primes, the program was taking more than 40 seconds to confirm that they were prime."
      ],
      "metadata": {
        "id": "Lo1rAW2u-tQn"
      }
    },
    {
      "cell_type": "markdown",
      "metadata": {
        "id": "Nxhj-gMjuXds"
      },
      "source": [
        "There are two limiting factors, which we study in more detail later.  These are **time** and **space** (your computer's memory space).  As the loop of `is_prime` goes on and on, it might take your computer a long time!  If each step of the loop takes only a nanosecond (1 billionth of a second), the loop would take about a second when executing `is_prime(1000000001)`.  If you tried `is_prime` on a much larger number, like `is_prime(2**101 - 1)`, the loop would take longer than the lifetime of the Earth.\n",
        "\n",
        "The other issue that can arise is a problem with *space*.  In Python 3.x, the `range(2,n)` cleverly *avoids* storing all the numbers between `2` and `n-1` in memory.  It just remembers the endpoints, and how to proceed from one number to the next.  In the older version, Python 2.x, the range command `range(2,n)` would have tried to store the entire list of numbers `[2,3,4,...,n-1]` in the memory of your computer.  Your computer has some (4 or 8 or 16, perhaps) gigabytes of memory (RAM).  A gigabyte is a billion bytes, and a byte is enough memory to store a number between 0 and 255.  (More detail about this later!).  So a gigabyte will not even hold a billion numbers.  So our `is_prime` function would have led to memory problems in Python 2.x, but in Python 3.x we don't have to worry (for now) about space."
      ]
    },
    {
      "cell_type": "markdown",
      "metadata": {
        "id": "em93aZ_huXds"
      },
      "source": [
        "### Exercises\n",
        "\n",
        "1.  Create a function `my_abs(x)` which outputs the absolute value of the argument `x`.  (Note that Python already has a built-in `abs(x)` function).  \n",
        "\n",
        "2.  Modify the `is_prime` function so that it prints a message `Number too big` and returns `None` if the input argument is bigger than one million.  (Note that `None` is a Python reserved word.  You can use the one-line statement `return None`.)  \n",
        "\n",
        "3.  Write a Python function `thrarity` which takes an argument `n`, and outputs the string `threeven` if `n` is a multiple of three, or `throdd` is `n` is one more than a multiple of three, or `thrugly` if `n` is one less than a multiple of three.  Example:  `thrarity(31)` should output `throdd` and `thrarity(44)` should output `thrugly`.  Hint:  study the `if`/`elif` syntax at [the official Python tutorial](https://docs.python.org/3/tutorial/controlflow.html#if-statements)\n",
        "\n",
        "4.  Write a Python function `sum_of_squares(n)` which finds and prints a pair of natural numbers $x$, $y$, such that $x^2 + y^2 = n$.  The function should use a brute force search and return `None` if no such pair of numbers $x,y$ exists.  Explore which natural numbers can be expressed as sums of two squares... hint:  look at prime numbers first!\n",
        "\n",
        "5.  Write a function `gamma(n)` which takes a positive integer n as input, and outputs the difference between the harmonic sum $\\frac{1}{1} + \\frac{1}{2} + \\frac{1}{3} + \\cdots + \\frac{1}{n}$ and the natural logarithm $\\log(n)$.  Use numpy to compute the logarithm, by using the command `from numpy import log` in a separate cell.  Approximate $\\gamma(n)$ as $n \\rightarrow \\infty$.  How large does $n$ need to be to get five digits of precision on this limit?  Can you prove that the limit $\\lim_{n \\rightarrow \\infty} \\gamma(n)$ exists?"
      ]
    },
    {
      "cell_type": "code",
      "source": [
        "from numpy import log"
      ],
      "metadata": {
        "id": "FMbRn7eqG34z"
      },
      "execution_count": 5,
      "outputs": []
    },
    {
      "cell_type": "code",
      "metadata": {
        "id": "l5IQH9hxuXds",
        "colab": {
          "base_uri": "https://localhost:8080/"
        },
        "outputId": "664468ed-8e24-4fbe-f805-8278644b5aae"
      },
      "source": [
        "#  Use this space for your solutions to the questions.\n",
        "# 1.\n",
        "# Here, we simply return x if it is already positive, if it isn't, we return the negation of x\n",
        "def my_abs(x):\n",
        "  if x >= 0:\n",
        "    return x\n",
        "  else:\n",
        "    return -1*x\n",
        "print(my_abs(50), my_abs(-50))\n",
        "print()\n",
        "\n",
        "# 2.\n",
        "def is_prime(n):\n",
        "    '''\n",
        "    Checks whether the argument n is a prime number.\n",
        "    Uses a brute force search for factors between 1 and n.\n",
        "    If the input is larger than 10^6, return None\n",
        "    '''\n",
        "    if n > 1e6:\n",
        "      print(\"Number too big\")\n",
        "      return None\n",
        "    for j in range(2,n):  # the list of numbers 2,3,...,n-1.\n",
        "        if n%j == 0:  # is n divisible by j?\n",
        "            print(\"{} is a factor of {}.\".format(j,n))\n",
        "            return False\n",
        "    return True\n",
        "print(is_prime(12347))\n",
        "is_prime(1000001)\n",
        "print()\n",
        "\n",
        "# 3.\n",
        "def thrarity(n):\n",
        "  \"\"\"Outputs threeven if n is a multiple of three, throdd if n is one more than\n",
        "  a multiple of three, and thrugly if n is one less than a multiple of three.\n",
        "  \"\"\"\n",
        "  if n % 3 == 0:\n",
        "    return \"Threeven\"\n",
        "  elif n % 3 == 1:\n",
        "    return \"Throdd\"\n",
        "  else:\n",
        "    return \"Thrugly\"\n",
        "print(thrarity(31), thrarity(44))\n",
        "print()\n",
        "\n",
        "# 4.\n",
        "def sum_of_squares(n):\n",
        "  \"\"\"Find natural numbers x and y such that x^2 + y^2 = n by brute force search. \n",
        "  If no such numbers exist, return None\"\"\"\n",
        "  for i in range(int(sqrt(n))+1):\n",
        "    for j in range(int(sqrt(n)+1)):\n",
        "      if i**2 + j**2 == n:\n",
        "        print(i, j)\n",
        "        return (i, j)\n",
        "  print(\"No natural number solutions to x^2 + y^2 = {}\".format(n))\n",
        "  return None\n",
        "sum_of_squares(6)\n",
        "\n",
        "# 5.\n",
        "def gamma(n):\n",
        "  # Compute harmonic sum 1/1 + 1/2 + 1/3 + ... + 1/n\n",
        "  harmonic_sum = 0\n",
        "  for i in range(n):\n",
        "    harmonic_sum += 1 / (i+1)\n",
        "  # Compute difference between this and log(n)\n",
        "  diff = my_abs(harmonic_sum - log(n))\n",
        "  return diff"
      ],
      "execution_count": 14,
      "outputs": [
        {
          "output_type": "stream",
          "name": "stdout",
          "text": [
            "50 50\n",
            "\n",
            "True\n",
            "Number too big\n",
            "\n",
            "Throdd Thrugly\n",
            "\n",
            "No natural number solutions to x^2 + y^2 = 6\n"
          ]
        }
      ]
    },
    {
      "cell_type": "markdown",
      "source": [
        "**For Exercises 1-3, see the code above.**"
      ],
      "metadata": {
        "id": "wpN4vTr1CeBS"
      }
    },
    {
      "cell_type": "code",
      "source": [
        "# 4. continued\n",
        "# Test which numbers n have integer solutions to x^2 + y^2 = n\n",
        "for i in range(50):\n",
        "  print(\"n={}\".format(i))\n",
        "  sum_of_squares(i)"
      ],
      "metadata": {
        "colab": {
          "base_uri": "https://localhost:8080/"
        },
        "id": "htFyPctWCvOp",
        "outputId": "e1c0d98e-49e9-4c2d-ca54-8d322d58c1ba"
      },
      "execution_count": 15,
      "outputs": [
        {
          "output_type": "stream",
          "name": "stdout",
          "text": [
            "n=0\n",
            "0 0\n",
            "n=1\n",
            "0 1\n",
            "n=2\n",
            "1 1\n",
            "n=3\n",
            "No natural number solutions to x^2 + y^2 = 3\n",
            "n=4\n",
            "0 2\n",
            "n=5\n",
            "1 2\n",
            "n=6\n",
            "No natural number solutions to x^2 + y^2 = 6\n",
            "n=7\n",
            "No natural number solutions to x^2 + y^2 = 7\n",
            "n=8\n",
            "2 2\n",
            "n=9\n",
            "0 3\n",
            "n=10\n",
            "1 3\n",
            "n=11\n",
            "No natural number solutions to x^2 + y^2 = 11\n",
            "n=12\n",
            "No natural number solutions to x^2 + y^2 = 12\n",
            "n=13\n",
            "2 3\n",
            "n=14\n",
            "No natural number solutions to x^2 + y^2 = 14\n",
            "n=15\n",
            "No natural number solutions to x^2 + y^2 = 15\n",
            "n=16\n",
            "0 4\n",
            "n=17\n",
            "1 4\n",
            "n=18\n",
            "3 3\n",
            "n=19\n",
            "No natural number solutions to x^2 + y^2 = 19\n",
            "n=20\n",
            "2 4\n",
            "n=21\n",
            "No natural number solutions to x^2 + y^2 = 21\n",
            "n=22\n",
            "No natural number solutions to x^2 + y^2 = 22\n",
            "n=23\n",
            "No natural number solutions to x^2 + y^2 = 23\n",
            "n=24\n",
            "No natural number solutions to x^2 + y^2 = 24\n",
            "n=25\n",
            "0 5\n",
            "n=26\n",
            "1 5\n",
            "n=27\n",
            "No natural number solutions to x^2 + y^2 = 27\n",
            "n=28\n",
            "No natural number solutions to x^2 + y^2 = 28\n",
            "n=29\n",
            "2 5\n",
            "n=30\n",
            "No natural number solutions to x^2 + y^2 = 30\n",
            "n=31\n",
            "No natural number solutions to x^2 + y^2 = 31\n",
            "n=32\n",
            "4 4\n",
            "n=33\n",
            "No natural number solutions to x^2 + y^2 = 33\n",
            "n=34\n",
            "3 5\n",
            "n=35\n",
            "No natural number solutions to x^2 + y^2 = 35\n",
            "n=36\n",
            "0 6\n",
            "n=37\n",
            "1 6\n",
            "n=38\n",
            "No natural number solutions to x^2 + y^2 = 38\n",
            "n=39\n",
            "No natural number solutions to x^2 + y^2 = 39\n",
            "n=40\n",
            "2 6\n",
            "n=41\n",
            "4 5\n",
            "n=42\n",
            "No natural number solutions to x^2 + y^2 = 42\n",
            "n=43\n",
            "No natural number solutions to x^2 + y^2 = 43\n",
            "n=44\n",
            "No natural number solutions to x^2 + y^2 = 44\n",
            "n=45\n",
            "3 6\n",
            "n=46\n",
            "No natural number solutions to x^2 + y^2 = 46\n",
            "n=47\n",
            "No natural number solutions to x^2 + y^2 = 47\n",
            "n=48\n",
            "No natural number solutions to x^2 + y^2 = 48\n",
            "n=49\n",
            "0 7\n"
          ]
        }
      ]
    },
    {
      "cell_type": "markdown",
      "source": [
        "**Exercise 4:** For the first few primes, it seems that 2, 5, 13, 17, 29, 37, and 41 have solutions, but 3, 7, 11, 19, 23, 31, 43, and 47 don't. Also it seems that some composite number have solutions and other don't, e.g. 8 and 18 do, but 15 and 24 don't. For odd prime numbers, it seems that those primes that are one more than a multiple of 4 *can* be written as the sum of two squares. In the list above, $5=4*1+1$ and 5 can be written as the sum of squares, $13=4*3+1$, and 13 can be written as the sum of squares, etc... This doesn't apply to all numbers though, since $21=4*5+1$, but 21 is not the sum of squares. For other numbers, obviously any square can be written as a sum of squares where one number is 0. Also, two times a square can be written as the sum of squares since you can just add the square to itself. I'm not sure what the general rule is for composite numbers though."
      ],
      "metadata": {
        "id": "qUdooc7wFiHD"
      }
    },
    {
      "cell_type": "code",
      "source": [
        "# 5. continued\n",
        "# Here we look at the gamma function and see what happens as n->infty\n",
        "for i in range(1, 9, 1):\n",
        "  print(\"For n={:0.2E}, gamma={}\".format(10**i, gamma(10**i)))"
      ],
      "metadata": {
        "colab": {
          "base_uri": "https://localhost:8080/"
        },
        "id": "TeeGiVvrG9uP",
        "outputId": "31efe525-69bb-4142-c566-5e195ef1fbd1"
      },
      "execution_count": null,
      "outputs": [
        {
          "output_type": "stream",
          "name": "stdout",
          "text": [
            "For n=1.00E+01, gamma=0.6263831609742079\n",
            "For n=1.00E+02, gamma=0.5822073316515288\n",
            "For n=1.00E+03, gamma=0.5777155815682065\n",
            "For n=1.00E+04, gamma=0.5772656640681646\n",
            "For n=1.00E+05, gamma=0.5772206648931064\n",
            "For n=1.00E+06, gamma=0.5772161649007153\n",
            "For n=1.00E+07, gamma=0.5772157148989514\n",
            "For n=1.00E+08, gamma=0.5772156699001876\n"
          ]
        }
      ]
    },
    {
      "cell_type": "markdown",
      "source": [
        "**Exercise 5:** We get 5 digits of precision on the limit of $\\gamma(n)$ as $n\\rightarrow\\infty$ at an $n$ of around $10^6$, or about 1 million.\n",
        "\n",
        "Next we prove that the limit $\\displaystyle\\lim_{n\\rightarrow\\infty}\\gamma(n)$ exists.\n",
        "\n",
        "*Proof:* We consider a sequence $a_n$ whose $n$-th term is given by:\n",
        "$$a_n=\\sum_{k=1}^n\\frac{1}{k}-\\ln(n)$$\n",
        "We will show that this sequence converges by demonstrating that it is:\n",
        "1. Monotonically decreasing.\n",
        "2. Bounded from below.\n",
        "\n",
        "To do the first, consider the difference between consecutive terms $a_{n+1}-a_n$. Expanding this out, we get:\n",
        "$$a_{n+1}-a_n=\\sum_{k=1}^{n+1}\\frac{1}{k}-\\ln(n+1)-\\sum_{k=1}^n\\frac{1}{k}+\\ln(n)$$\n",
        "Now, all terms but the $(n+1)$-th term in the harmonic sum subtract away leaving just $\\displaystyle\\frac{1}{n+1}-(\\ln(n+1)-\\ln(n))$. To simplify this further, we need to recall the Mean Value Theorem from Calculus.\n",
        "\n",
        "Recall that the Mean Value Theorem states that if we have some function $f(x)$ which is continuous on a closed interval $[a,\\,b]$ and differentiable on the open interval $(a,\\,b)$, then there exists a point $c$ for which $a<c<b$ and $f(b)-f(a)=(b-a)f'(c)$\n",
        "\n",
        "Now, let $f(x)=\\ln(x)$ and consider the interval $[n,\\,(n+1)]$. As long as we consider $n>0$, the function $\\ln(x)$ is continuous on this closed interval and differentiable on the open interval $(n,\\,(n+1))$. Therefore the Mean Value Theorem can be applied here. It tells us that there exists a point $c$ where $n<c<(n+1)$ and $\\ln(n+1)-\\ln(n)=(n+1-n)\\cdot\\frac{d}{dx}\\ln(x)|_c$. That is, we now have \n",
        "$$\\ln(n+1)-\\ln(n)=\\frac{1}{c}$$\n",
        "for some $c$ where $n<c<(n+1)$.\n",
        "\n",
        "So $a_{n+1}-a_n=\\frac{1}{n+1}-\\frac{1}{c}$ and, again, $n<c<(n+1)$. This tells us that $\\frac{1}{c}>\\frac{1}{n+1}$ and $a_{n+1}<a_n$. Hence the sequence $a_n$ is monotonically decreasing.\n",
        "\n",
        "Now we will show that $a_n$ is bounded from below. To this end, consider a plot of the function $f(x)=\\frac1x$. Notice that the value of this function at natural numbers $x=1,\\,2,\\,3,\\dots$ is one of the terms in the harmonic series $\\displaystyle\\sum_{k=1}^n\\frac{1}{k}$. Therefore, if one approximates the area under the curve of $\\frac1x$ from $x=1$ to $x=n$ using rectangles of width 1 and height $\\frac1x$, with the left edge aligned with the function, one obtains exactly the harmonic sum $\\displaystyle\\sum_{k=1}^n\\frac{1}{k}$. In other words, $\\displaystyle\\sum_{k=1}^n\\frac{1}{k}$ is a Riemann Sum approximation for the area under the curve $\\frac1x$ from $x=1$ to $x=n$. A plot of the situation described above is generated below this text cell.\n",
        "\n",
        "Notice that the sum of the areas of those rectangles actually overestimates the area under the curve. This is because the function $\\frac1x$ is monotonically decreasing. Therefore, we see that $\\displaystyle\\sum_{k=1}^n\\frac{1}{k}$ is larger than the area under the curve from $x=1$ to $x=n$. Written another way, we now have:\n",
        "$$\\sum_{k=1}^n\\frac{1}{k}>\\int_1^n\\frac1x\\,dx$$\n",
        "So if we return to our sequence $a_n=\\displaystyle\\sum_{k=1}^n\\frac{1}{k}-\\ln(n)$, we can replace the harmonic sum to show that\n",
        "$$a_n=\\sum_{k=1}^n\\frac{1}{k}-\\ln(n)>\\int_1^n\\frac1x\\,dx-\\ln(n)$$\n",
        "Now, if we evaluate the integral $\\displaystyle\\int_1^n\\frac1x\\,dx$, we find that \n",
        "$$\\int_1^n\\frac1x\\,dx=\\ln(x)|_{x=1}^n=\\ln(n)$$\n",
        "So in fact, we now know that $a_n>\\ln(n)-\\ln(n)=0$! Thus, the sequence $a_n$ is bounded from below by 0.\n",
        "\n",
        "We've now shown that $a_n$ is both monotonically decreasing and bounded from below. This means that $a_n$ will get smaller and smaller as $n$ increases, but never get lower than a certain value (at least zero). I.e. the sequence $a_n$ is convergent.\n",
        "\n",
        "Our goal was to demonstrate the existence of $\\displaystyle\\lim_{n\\rightarrow\\infty}\\gamma(n)$. But notice that we have\n",
        "$\\displaystyle\\lim_{n\\rightarrow\\infty}\\gamma(n)=\\lim_{n\\rightarrow\\infty}[\\sum_{k=1}^n\\frac1k-\\ln(n)]$. And we just proved that the sequence $\\displaystyle a_n=\\sum_{k=1}^n\\frac{1}{k}-\\ln(n)$ converges. So we know that as $n$ approaches infinity, $a_n$ converges to some positive value larger than 0. Therefore the limit $\\displaystyle\\lim_{n\\rightarrow\\infty}\\gamma(n)$ does indeed exist and is some positive value.\n",
        "\n",
        "**Note:** Another way of computing the above limit (apart from the function `gamma(n)` above) is to tighten the lower bound by taking more and more terms out of the harmonic sum before approximating the rest with an intergral. Each term of the harmonic sum included explicitly brings our lower bound closer and closer to the limit."
      ],
      "metadata": {
        "id": "vnCafxb8ICbJ"
      }
    },
    {
      "cell_type": "code",
      "source": [
        "import matplotlib.pyplot as plt\n",
        "import numpy as np"
      ],
      "metadata": {
        "id": "FmUwR5aPCi0_"
      },
      "execution_count": 1,
      "outputs": []
    },
    {
      "cell_type": "code",
      "source": [
        "fig, ax = plt.subplots(1, 1)\n",
        "fig.set_size_inches(10, 7)\n",
        "x_places = np.linspace(0.8, 11)\n",
        "bar_places = np.linspace(1, 10, 10)\n",
        "ax.plot(x_places, 1/x_places, label=\"1/X\")\n",
        "ax.bar(bar_places, 1/bar_places, width=1, align='edge', fill=False, edgecolor='r', label='Riemann Approx')\n",
        "plt.xlabel(\"X Values\")\n",
        "plt.ylabel(\"Y Values\")\n",
        "plt.xticks(bar_places)\n",
        "plt.title(\"The function 1/X and the harmonic sum approximation of its area\")\n",
        "plt.legend()\n",
        "plt.show()"
      ],
      "metadata": {
        "colab": {
          "base_uri": "https://localhost:8080/",
          "height": 458
        },
        "id": "XW2VO9N7CnD7",
        "outputId": "f6ec9b00-99f7-4903-9565-509df088a349"
      },
      "execution_count": 4,
      "outputs": [
        {
          "output_type": "display_data",
          "data": {
            "image/png": "[encoded data removed]",
            "text/plain": [
              "<Figure size 720x504 with 1 Axes>"
            ]
          },
          "metadata": {
            "needs_background": "light"
          }
        }
      ]
    },
    {
      "cell_type": "markdown",
      "metadata": {
        "id": "aojvLt0YuXds"
      },
      "source": [
        "## Handling errors by raising exceptions.\n",
        "\n",
        "In the previous batch of exercises, we tried to modify functions to be a bit more intelligent -- identifying when numbers were \"too big\" for example.  There's a professional way to handle these situations, by raising *exceptions*.  Here is the [official documentation on errors and exceptions](https://docs.python.org/3/tutorial/errors.html).  We will focus on raising exceptions to catch \"bad inputs\" to functions.  Let's revisit our `is_even` function."
      ]
    },
    {
      "cell_type": "code",
      "metadata": {
        "id": "8-pN2piIuXds"
      },
      "source": [
        "def is_even(n):\n",
        "    return (n%2 == 0)"
      ],
      "execution_count": null,
      "outputs": []
    },
    {
      "cell_type": "code",
      "metadata": {
        "id": "9N-eMKduuXds",
        "colab": {
          "base_uri": "https://localhost:8080/"
        },
        "outputId": "4c20a275-4967-4377-d72c-130cac51d52a"
      },
      "source": [
        "is_even(3.14)  # What will this do?"
      ],
      "execution_count": null,
      "outputs": [
        {
          "output_type": "execute_result",
          "data": {
            "text/plain": [
              "False"
            ]
          },
          "metadata": {},
          "execution_count": 2
        }
      ]
    },
    {
      "cell_type": "code",
      "metadata": {
        "id": "rmVWWIM9uXds",
        "colab": {
          "base_uri": "https://localhost:8080/"
        },
        "outputId": "044a6a84-a075-4f9e-b2fa-cb879bac6541"
      },
      "source": [
        "3.14%2  # Well, this explains it!"
      ],
      "execution_count": null,
      "outputs": [
        {
          "output_type": "execute_result",
          "data": {
            "text/plain": [
              "1.1400000000000001"
            ]
          },
          "metadata": {},
          "execution_count": 3
        }
      ]
    },
    {
      "cell_type": "markdown",
      "metadata": {
        "id": "PvqMgEecuXds"
      },
      "source": [
        "Although the output of `is_even(3.14)` might be what you want, a smarter function might let the user know that 3.14 should not be input into `is_even`.  We commonly ask whether *integers* are even or odd; if a non-integer ends up input to `is_even`, it might be a sign of a bug elsewhere.  One possibility is to modify the function by manually printing an error message."
      ]
    },
    {
      "cell_type": "code",
      "metadata": {
        "id": "huFP5FyeuXds"
      },
      "source": [
        "def is_even(n):\n",
        "    if type(n) == int:\n",
        "        return (n%2 == 0)\n",
        "    else:\n",
        "        print(\"Bad input!  Please input integers only.\")\n",
        "        return None"
      ],
      "execution_count": null,
      "outputs": []
    },
    {
      "cell_type": "code",
      "metadata": {
        "id": "2KZBZWcHuXdt",
        "colab": {
          "base_uri": "https://localhost:8080/"
        },
        "outputId": "078d09be-5628-40cb-b164-a08057edf979"
      },
      "source": [
        "is_even(4)"
      ],
      "execution_count": null,
      "outputs": [
        {
          "output_type": "execute_result",
          "data": {
            "text/plain": [
              "True"
            ]
          },
          "metadata": {},
          "execution_count": 5
        }
      ]
    },
    {
      "cell_type": "code",
      "metadata": {
        "id": "Mm0Hn7LWuXdt",
        "colab": {
          "base_uri": "https://localhost:8080/"
        },
        "outputId": "48a1e876-30c7-400c-9d25-b9e6b7968fd0"
      },
      "source": [
        "is_even(3.14)"
      ],
      "execution_count": null,
      "outputs": [
        {
          "output_type": "stream",
          "name": "stdout",
          "text": [
            "Bad input!  Please input integers only.\n"
          ]
        }
      ]
    },
    {
      "cell_type": "code",
      "metadata": {
        "id": "NBOviOZruXdt",
        "colab": {
          "base_uri": "https://localhost:8080/"
        },
        "outputId": "cedac631-7ff4-4994-fcfc-dc095f085a3f"
      },
      "source": [
        "print(is_even(3.14))"
      ],
      "execution_count": null,
      "outputs": [
        {
          "output_type": "stream",
          "name": "stdout",
          "text": [
            "Bad input!  Please input integers only.\n",
            "None\n"
          ]
        }
      ]
    },
    {
      "cell_type": "markdown",
      "metadata": {
        "id": "mAXQeQhyuXdt"
      },
      "source": [
        "This behavior is a bit better.  The output of the function is neither True nor False, when a non-integer is input.  Instead, the smarter function outputs `None`, which is exactly what it sounds like."
      ]
    },
    {
      "cell_type": "code",
      "metadata": {
        "id": "bYi3Vy4duXdt",
        "colab": {
          "base_uri": "https://localhost:8080/"
        },
        "outputId": "4f5b0699-90aa-4a30-d8b0-14576e7ac56d"
      },
      "source": [
        "type(None) # A zen command."
      ],
      "execution_count": null,
      "outputs": [
        {
          "output_type": "execute_result",
          "data": {
            "text/plain": [
              "NoneType"
            ]
          },
          "metadata": {},
          "execution_count": 8
        }
      ]
    },
    {
      "cell_type": "markdown",
      "metadata": {
        "id": "u1VJVIs8uXdt"
      },
      "source": [
        "Instead of manually using a print command and returning None, we can use Python's built-in `exception` class.  Raising exceptions is the Pythonic way of catching errors, and this will make things smoother in the long term.  Here's a new and safe `is_even` function."
      ]
    },
    {
      "cell_type": "code",
      "metadata": {
        "id": "zaktPSqXuXdt"
      },
      "source": [
        "def is_even(n):\n",
        "    if type(n) == int:\n",
        "        return (n%2 == 0)\n",
        "    else:\n",
        "        raise TypeError('Only integers can be even or odd.')"
      ],
      "execution_count": null,
      "outputs": []
    },
    {
      "cell_type": "code",
      "metadata": {
        "id": "49h2r4O3uXdt",
        "colab": {
          "base_uri": "https://localhost:8080/"
        },
        "outputId": "eae4b599-00dc-4f7c-b318-f427349239f9"
      },
      "source": [
        "is_even(3)"
      ],
      "execution_count": null,
      "outputs": [
        {
          "output_type": "execute_result",
          "data": {
            "text/plain": [
              "False"
            ]
          },
          "metadata": {},
          "execution_count": 10
        }
      ]
    },
    {
      "cell_type": "code",
      "metadata": {
        "id": "iOw7QU5DuXdt",
        "colab": {
          "base_uri": "https://localhost:8080/",
          "height": 252
        },
        "outputId": "184a7339-c814-443d-ecc7-015f41e256fe"
      },
      "source": [
        "is_even(3.14)"
      ],
      "execution_count": null,
      "outputs": [
        {
          "output_type": "error",
          "ename": "TypeError",
          "evalue": "ignored",
          "traceback": [
            "\u001b[0;31m---------------------------------------------------------------------------\u001b[0m",
            "\u001b[0;31mTypeError\u001b[0m                                 Traceback (most recent call last)",
            "\u001b[0;32m<ipython-input-11-24ec50760f46>\u001b[0m in \u001b[0;36m<module>\u001b[0;34m()\u001b[0m\n\u001b[0;32m----> 1\u001b[0;31m \u001b[0mis_even\u001b[0m\u001b[0;34m(\u001b[0m\u001b[0;36m3.14\u001b[0m\u001b[0;34m)\u001b[0m\u001b[0;34m\u001b[0m\u001b[0;34m\u001b[0m\u001b[0m\n\u001b[0m",
            "\u001b[0;32m<ipython-input-9-965faba9098f>\u001b[0m in \u001b[0;36mis_even\u001b[0;34m(n)\u001b[0m\n\u001b[1;32m      3\u001b[0m         \u001b[0;32mreturn\u001b[0m \u001b[0;34m(\u001b[0m\u001b[0mn\u001b[0m\u001b[0;34m%\u001b[0m\u001b[0;36m2\u001b[0m \u001b[0;34m==\u001b[0m \u001b[0;36m0\u001b[0m\u001b[0;34m)\u001b[0m\u001b[0;34m\u001b[0m\u001b[0;34m\u001b[0m\u001b[0m\n\u001b[1;32m      4\u001b[0m     \u001b[0;32melse\u001b[0m\u001b[0;34m:\u001b[0m\u001b[0;34m\u001b[0m\u001b[0;34m\u001b[0m\u001b[0m\n\u001b[0;32m----> 5\u001b[0;31m         \u001b[0;32mraise\u001b[0m \u001b[0mTypeError\u001b[0m\u001b[0;34m(\u001b[0m\u001b[0;34m'Only integers can be even or odd.'\u001b[0m\u001b[0;34m)\u001b[0m\u001b[0;34m\u001b[0m\u001b[0;34m\u001b[0m\u001b[0m\n\u001b[0m",
            "\u001b[0;31mTypeError\u001b[0m: Only integers can be even or odd."
          ]
        }
      ]
    },
    {
      "cell_type": "markdown",
      "metadata": {
        "id": "W-Ns1RSDuXdt"
      },
      "source": [
        "Instead of manually printing the error message and returning `None`, we have raised a `TypeError`.  This gives information about the kind of error, and a custom error message is displayed at the end.  Type errors are meant for situations where a variable belongs to the wrong type.  `TypeError` is just one kind of \"exception\" -- the full built-in hierarchy of exceptions can be found in the [official Python documentation](https://docs.python.org/3/library/exceptions.html#exception-hierarchy).\n",
        "\n",
        "Another kind of exception is the `ValueError`.  It seems similar to `TypeError` at first, but `ValueError` is meant to catch an input that has a \"bad\" value, even if it is the right type.  For example, here is a square root function that only works with positive input.  It should raise an exception (error message) when a negative number is input.  Both positive and negative numbers can be represented as floats, so the error doesn't represent the *wrong type*.  The error represents a *bad value*.  "
      ]
    },
    {
      "cell_type": "code",
      "metadata": {
        "id": "YC762YAjuXdu"
      },
      "source": [
        "def sqrt(x):\n",
        "    '''\n",
        "    Estimates the square root of a positive number x.\n",
        "    '''\n",
        "    if x < 0:\n",
        "        raise ValueError('Cannot approximate square root of negative numbers.')\n",
        "    guess= x/2 # A decent place to start\n",
        "    while True: # A dangerous loop!  See next section...\n",
        "        new_guess = 0.5 * (guess + x/guess)\n",
        "        if abs(new_guess - guess) < .000000001: # close enough!\n",
        "            return new_guess\n",
        "        guess = new_guess"
      ],
      "execution_count": null,
      "outputs": []
    },
    {
      "cell_type": "code",
      "metadata": {
        "id": "0uwvsrDNuXdu",
        "colab": {
          "base_uri": "https://localhost:8080/"
        },
        "outputId": "7a3a242e-48e1-4b20-8253-75ad588a5298"
      },
      "source": [
        "sqrt(3) # This should be ok."
      ],
      "execution_count": null,
      "outputs": [
        {
          "output_type": "execute_result",
          "data": {
            "text/plain": [
              "1.7320508075688772"
            ]
          },
          "metadata": {},
          "execution_count": 13
        }
      ]
    },
    {
      "cell_type": "code",
      "metadata": {
        "scrolled": true,
        "id": "DpBaST5WuXdu",
        "colab": {
          "base_uri": "https://localhost:8080/",
          "height": 287
        },
        "outputId": "795440e4-5129-4bae-f936-3235bfc385be"
      },
      "source": [
        "sqrt(-3)"
      ],
      "execution_count": null,
      "outputs": [
        {
          "output_type": "error",
          "ename": "ValueError",
          "evalue": "ignored",
          "traceback": [
            "\u001b[0;31m---------------------------------------------------------------------------\u001b[0m",
            "\u001b[0;31mValueError\u001b[0m                                Traceback (most recent call last)",
            "\u001b[0;32m<ipython-input-14-8be5c01c52c0>\u001b[0m in \u001b[0;36m<module>\u001b[0;34m()\u001b[0m\n\u001b[0;32m----> 1\u001b[0;31m \u001b[0msqrt\u001b[0m\u001b[0;34m(\u001b[0m\u001b[0;34m-\u001b[0m\u001b[0;36m3\u001b[0m\u001b[0;34m)\u001b[0m\u001b[0;34m\u001b[0m\u001b[0;34m\u001b[0m\u001b[0m\n\u001b[0m",
            "\u001b[0;32m<ipython-input-12-39991b3bf836>\u001b[0m in \u001b[0;36msqrt\u001b[0;34m(x)\u001b[0m\n\u001b[1;32m      4\u001b[0m     '''\n\u001b[1;32m      5\u001b[0m     \u001b[0;32mif\u001b[0m \u001b[0mx\u001b[0m \u001b[0;34m<\u001b[0m \u001b[0;36m0\u001b[0m\u001b[0;34m:\u001b[0m\u001b[0;34m\u001b[0m\u001b[0;34m\u001b[0m\u001b[0m\n\u001b[0;32m----> 6\u001b[0;31m         \u001b[0;32mraise\u001b[0m \u001b[0mValueError\u001b[0m\u001b[0;34m(\u001b[0m\u001b[0;34m'Cannot approximate square root of negative numbers.'\u001b[0m\u001b[0;34m)\u001b[0m\u001b[0;34m\u001b[0m\u001b[0;34m\u001b[0m\u001b[0m\n\u001b[0m\u001b[1;32m      7\u001b[0m     \u001b[0mguess\u001b[0m\u001b[0;34m=\u001b[0m \u001b[0mx\u001b[0m\u001b[0;34m/\u001b[0m\u001b[0;36m2\u001b[0m \u001b[0;31m# A decent place to start\u001b[0m\u001b[0;34m\u001b[0m\u001b[0;34m\u001b[0m\u001b[0m\n\u001b[1;32m      8\u001b[0m     \u001b[0;32mwhile\u001b[0m \u001b[0;32mTrue\u001b[0m\u001b[0;34m:\u001b[0m \u001b[0;31m# A dangerous loop!  See next section...\u001b[0m\u001b[0;34m\u001b[0m\u001b[0;34m\u001b[0m\u001b[0m\n",
            "\u001b[0;31mValueError\u001b[0m: Cannot approximate square root of negative numbers."
          ]
        }
      ]
    },
    {
      "cell_type": "markdown",
      "metadata": {
        "id": "aUzsimjyuXdu"
      },
      "source": [
        "By raising the `ValueError`, we have avoided an endless loop... the sort of problem that crashes computers!  If you know that your function is only meant for certain kinds of inputs, it is best to catch errors by raising exceptions."
      ]
    },
    {
      "cell_type": "markdown",
      "metadata": {
        "id": "mXFJBMEAuXdu"
      },
      "source": [
        "###Exercises\n",
        "\n",
        "1.  There's a special exception called `ZeroDivisionError`.  When do you think this occurs?  Try to make it occur!  Can you think of a time when you might want to raise this exception yourself?\n",
        "\n",
        "2.  Make the `is_prime` function safer by raising a `TypeError` or a `ValueError` when a \"bad\" input occurs."
      ]
    },
    {
      "cell_type": "code",
      "metadata": {
        "id": "yqQ_3oVTuXdu"
      },
      "source": [
        "# Use this space to work on exercises.\n",
        "#1.\n",
        "#print(5/0) # Indeed, this throws the ZeroDivisionError exception\n",
        "\n",
        "#2. Modifying the is_prime function to raise TypeError or ValueError exceptions on bad input\n",
        "def is_prime(n):\n",
        "    '''\n",
        "    Checks whether the argument n is a prime number.\n",
        "    Uses a brute force search for factors between 1 and n.\n",
        "    If the input is larger than 10^6, raise ValueError\n",
        "    If the input is not an integer, raise TypeError\n",
        "    '''\n",
        "    if not type(n) == int:\n",
        "      raise TypeError(\"Only integers can be prime.\")\n",
        "    if n > 1e6:\n",
        "      raise ValueError(\"Invalid input!\")\n",
        "    for j in range(2,n):  # the list of numbers 2,3,...,n-1.\n",
        "        if n%j == 0:  # is n divisible by j?\n",
        "            print(\"{} is a factor of {}.\".format(j,n))\n",
        "            return False\n",
        "    return True"
      ],
      "execution_count": null,
      "outputs": []
    },
    {
      "cell_type": "code",
      "source": [
        "#print(is_prime(12347))\n",
        "#is_prime(1000001) # Raises ValueError\n",
        "is_prime(3.14) # Raises TypeError"
      ],
      "metadata": {
        "colab": {
          "base_uri": "https://localhost:8080/",
          "height": 321
        },
        "id": "4qpb9-9nUGkT",
        "outputId": "ce46c64b-ce6d-4e92-ac1a-15e92cfd5692"
      },
      "execution_count": null,
      "outputs": [
        {
          "output_type": "error",
          "ename": "TypeError",
          "evalue": "ignored",
          "traceback": [
            "\u001b[0;31m---------------------------------------------------------------------------\u001b[0m",
            "\u001b[0;31mTypeError\u001b[0m                                 Traceback (most recent call last)",
            "\u001b[0;32m<ipython-input-20-4008765b05d0>\u001b[0m in \u001b[0;36m<module>\u001b[0;34m()\u001b[0m\n\u001b[1;32m      1\u001b[0m \u001b[0;31m#print(is_prime(12347))\u001b[0m\u001b[0;34m\u001b[0m\u001b[0;34m\u001b[0m\u001b[0;34m\u001b[0m\u001b[0m\n\u001b[1;32m      2\u001b[0m \u001b[0;31m#is_prime(1000001) # Raises ValueError\u001b[0m\u001b[0;34m\u001b[0m\u001b[0;34m\u001b[0m\u001b[0;34m\u001b[0m\u001b[0m\n\u001b[0;32m----> 3\u001b[0;31m \u001b[0mis_prime\u001b[0m\u001b[0;34m(\u001b[0m\u001b[0;36m3.14\u001b[0m\u001b[0;34m)\u001b[0m\u001b[0;34m\u001b[0m\u001b[0;34m\u001b[0m\u001b[0m\n\u001b[0m",
            "\u001b[0;32m<ipython-input-17-dcb15545d29a>\u001b[0m in \u001b[0;36mis_prime\u001b[0;34m(n)\u001b[0m\n\u001b[1;32m     12\u001b[0m     '''\n\u001b[1;32m     13\u001b[0m     \u001b[0;32mif\u001b[0m \u001b[0;32mnot\u001b[0m \u001b[0mtype\u001b[0m\u001b[0;34m(\u001b[0m\u001b[0mn\u001b[0m\u001b[0;34m)\u001b[0m \u001b[0;34m==\u001b[0m \u001b[0mint\u001b[0m\u001b[0;34m:\u001b[0m\u001b[0;34m\u001b[0m\u001b[0;34m\u001b[0m\u001b[0m\n\u001b[0;32m---> 14\u001b[0;31m       \u001b[0;32mraise\u001b[0m \u001b[0mTypeError\u001b[0m\u001b[0;34m(\u001b[0m\u001b[0;34m\"Only integers can be prime.\"\u001b[0m\u001b[0;34m)\u001b[0m\u001b[0;34m\u001b[0m\u001b[0;34m\u001b[0m\u001b[0m\n\u001b[0m\u001b[1;32m     15\u001b[0m     \u001b[0;32mif\u001b[0m \u001b[0mn\u001b[0m \u001b[0;34m>\u001b[0m \u001b[0;36m1e6\u001b[0m\u001b[0;34m:\u001b[0m\u001b[0;34m\u001b[0m\u001b[0;34m\u001b[0m\u001b[0m\n\u001b[1;32m     16\u001b[0m       \u001b[0;32mraise\u001b[0m \u001b[0mValueError\u001b[0m\u001b[0;34m(\u001b[0m\u001b[0;34m\"Number too big!\"\u001b[0m\u001b[0;34m)\u001b[0m\u001b[0;34m\u001b[0m\u001b[0;34m\u001b[0m\u001b[0m\n",
            "\u001b[0;31mTypeError\u001b[0m: Only integers can be prime."
          ]
        }
      ]
    },
    {
      "cell_type": "markdown",
      "source": [
        "### Solutions\n",
        "1. The `ZeroDivisionError` occurs when one tries to divide by 0, since this doesn't make sense, it raises an exception. I'm not sure I would raise this exception myself in most scenarios. The only time one would raise this exception is if, for whatever reason, one's code was about to divide by 0. But if the code was about to divide by 0, then Python would automatically raise this exception when that was done anyway. At first glance, it seems to me that raising this myself would simply be redundant. I suppose the only reason I might raise it myself is if I wanted to add a special message to the exception as it was raised.\n",
        "\n",
        "2. A bad input, in the case of the `is_prime` function, is one that is either too large (bigger than $10^6$) or one that is not an integer. Only integers are considered prime. In the former case, we raise a `ValueError` as the input is the right type, but too large. In the latter case, we raise a `TypeError` as non-integer types can't be considered prime."
      ],
      "metadata": {
        "id": "qPFri9ntR5FC"
      }
    },
    {
      "cell_type": "markdown",
      "metadata": {
        "id": "8RP84fPOuXdu"
      },
      "source": [
        "## While loops and implementation of the Eucidean algorithm"
      ]
    },
    {
      "cell_type": "markdown",
      "metadata": {
        "id": "imB-GVzNuXdu"
      },
      "source": [
        "We *almost* have all the tools we need to implement the Euclidean algorithm.  The last tool we will need is the **while loop**.  We have seen the *for loop* already, which is very useful for iterating over a range of numbers.  The Euclidean algorithm involves repetition, but there is no way to know in advance how many steps it will take.  The while loop allows us to repeat a process as long as a boolean value (sometimes called a **flag**) is True.  The following countdown example illustrates the structure of a while loop."
      ]
    },
    {
      "cell_type": "code",
      "metadata": {
        "id": "iIA-U8KouXdw"
      },
      "source": [
        "def countdown(n):\n",
        "    current_value = n\n",
        "    while current_value > 0:  # The condition (current_value > 0) is checked before every instance of the scope!\n",
        "        print(current_value)\n",
        "        current_value = current_value - 1\n",
        "    print(\"Blastoff!\")"
      ],
      "execution_count": null,
      "outputs": []
    },
    {
      "cell_type": "code",
      "metadata": {
        "id": "vqtBFRjYuXdw",
        "colab": {
          "base_uri": "https://localhost:8080/"
        },
        "outputId": "3defceac-e74b-4721-de48-12db32f3af32"
      },
      "source": [
        "countdown(10)"
      ],
      "execution_count": null,
      "outputs": [
        {
          "output_type": "stream",
          "name": "stdout",
          "text": [
            "10\n",
            "9\n",
            "8\n",
            "7\n",
            "6\n",
            "5\n",
            "4\n",
            "3\n",
            "2\n",
            "1\n",
            "Blastoff!\n"
          ]
        }
      ]
    },
    {
      "cell_type": "markdown",
      "metadata": {
        "id": "UyatsGmduXdw"
      },
      "source": [
        "The while loop syntax begins with `while <boolean>:` and the following indented lines comprise the scope of the loop.  If the boolean is `True`, then the scope of the loop is executed.  If the boolean is `True` again afterwards, then the scope of the loop is executed again.  And again and again and so on.\n",
        "\n",
        "This can be a **dangerous process**!  For example, what would happen if you made a little typo and the last line of the while loop read `current_value = current_value + 1`?  The numbers would increase and increase... and the boolean `current_value > 0` would **always** be `True`.  Therefore the loop would never end.  Bigger and bigger numbers would scroll down your computer screen.  \n",
        "\n",
        "You might panic under such a circumstance, and maybe turn your computer off to stop the loop.  Here is some advice for when you get stuck in such a neverending loop, and you're using Google Colab.\n",
        "\n",
        "1.  Back up your work often.  When you're programming, make sure everything else is saved just in case.\n",
        "2.  Save your programming work (use \"Save a copy in GitHub\" and/or \"Save a copy in Drive\") often, especially before running a cell with a loop for the first time.\n",
        "3.  If you *do* get stuck in a neverending loop, click on \"Runtime... Interrupt execution\".  This will often unstick the loop and allow you to pick up where you left off.  \n",
        "\n",
        "Now, if you're feeling brave, save your work, change the while loop so that it never ends, and try to recover where you left off.  But be aware that this could cause your computer to freeze or behave erratically, crashing your browser, etc.  Don't panic... it probably won't break your computer permanently.\n",
        "\n",
        "The neverending loop causes two problems here.  One is with the computer processor, which will be essentially spinning its wheels.  This is called [busy waiting](https://en.wikipedia.org/wiki/Busy_waiting), and the computer will essentially be busy waiting forever.  The other problem is that your loop is printing more and more lines of text into the notebook.  This could easily crash your web browser, which is trying to store and display zillions of lines of numbers.  So be ready for problems!  "
      ]
    },
    {
      "cell_type": "markdown",
      "metadata": {
        "id": "7qfo2YKSuXdw"
      },
      "source": [
        "### The Euclidean algorithm with a while loop"
      ]
    },
    {
      "cell_type": "markdown",
      "metadata": {
        "collapsed": true,
        "id": "_zC7y26QuXdw"
      },
      "source": [
        "The **Euclidean Algorithm** is a process of repeated division with remainder.  Beginning with two integers `a` (dividend) and `b` (divisor), one computes quotient `q` and remainder `q` to express `a = qb + r`.  Then `b` becomes the dividend and `r` becomes the divisor, and one repeats.  The repetition continues, and the **last nonzero** remainder is the greatest common divisor of `a` and `b`."
      ]
    },
    {
      "cell_type": "markdown",
      "metadata": {
        "id": "D7v0mXjmuXdw"
      },
      "source": [
        "We implement the Euclidean algorithm in a few variations.  The first will be a verbose version, to show the user what happens at every step.  We use a while loop to take care of the repetition."
      ]
    },
    {
      "cell_type": "code",
      "metadata": {
        "id": "pdc1E8U0uXdw"
      },
      "source": [
        "def Euclidean_algorithm(a,b):\n",
        "    dividend = a\n",
        "    divisor = b\n",
        "    while divisor != 0:   # Recall that != means \"is not equal to\".\n",
        "        quotient = dividend // divisor\n",
        "        remainder = dividend % divisor\n",
        "        print(\"{} = {} ({}) + {}\".format(dividend, quotient, divisor, remainder))\n",
        "        dividend = divisor  \n",
        "        divisor = remainder"
      ],
      "execution_count": null,
      "outputs": []
    },
    {
      "cell_type": "code",
      "metadata": {
        "id": "N1atLqX-uXdw",
        "colab": {
          "base_uri": "https://localhost:8080/"
        },
        "outputId": "e1a230e7-865c-45d3-f4fc-8d09d7201d9f"
      },
      "source": [
        "Euclidean_algorithm(133, 58)"
      ],
      "execution_count": null,
      "outputs": [
        {
          "output_type": "stream",
          "name": "stdout",
          "text": [
            "133 = 2 (58) + 17\n",
            "58 = 3 (17) + 7\n",
            "17 = 2 (7) + 3\n",
            "7 = 2 (3) + 1\n",
            "3 = 3 (1) + 0\n"
          ]
        }
      ]
    },
    {
      "cell_type": "code",
      "metadata": {
        "id": "2Ha1idXQuXdw",
        "colab": {
          "base_uri": "https://localhost:8080/"
        },
        "outputId": "b0141e08-63dd-4532-bf39-a2d6cef08085"
      },
      "source": [
        "Euclidean_algorithm(1312331323, 58123123)"
      ],
      "execution_count": null,
      "outputs": [
        {
          "output_type": "stream",
          "name": "stdout",
          "text": [
            "1312331323 = 22 (58123123) + 33622617\n",
            "58123123 = 1 (33622617) + 24500506\n",
            "33622617 = 1 (24500506) + 9122111\n",
            "24500506 = 2 (9122111) + 6256284\n",
            "9122111 = 1 (6256284) + 2865827\n",
            "6256284 = 2 (2865827) + 524630\n",
            "2865827 = 5 (524630) + 242677\n",
            "524630 = 2 (242677) + 39276\n",
            "242677 = 6 (39276) + 7021\n",
            "39276 = 5 (7021) + 4171\n",
            "7021 = 1 (4171) + 2850\n",
            "4171 = 1 (2850) + 1321\n",
            "2850 = 2 (1321) + 208\n",
            "1321 = 6 (208) + 73\n",
            "208 = 2 (73) + 62\n",
            "73 = 1 (62) + 11\n",
            "62 = 5 (11) + 7\n",
            "11 = 1 (7) + 4\n",
            "7 = 1 (4) + 3\n",
            "4 = 1 (3) + 1\n",
            "3 = 3 (1) + 0\n"
          ]
        }
      ]
    },
    {
      "cell_type": "markdown",
      "metadata": {
        "id": "rMeCKV5OuXdx"
      },
      "source": [
        "This is excellent if we want to know every step of the Euclidean algorithm.  If we just want to know the GCD of two numbers, we can be less verbose.  We carefully return the last nonzero remainder after the while loop is concluded.  This last nonzero remainder becomes the divisor when the remainder becomes zero, and then it would become the dividend in the next (unprinted) line.  That is why we return the (absolute value) of the dividend after the loop is concluded.  You might insert a line at the end of the loop, like `print(dividend, divisor, remainder)` to help you track the variables."
      ]
    },
    {
      "cell_type": "code",
      "metadata": {
        "id": "vCVQMG-puXdx"
      },
      "source": [
        "def GCD(a,b):\n",
        "    dividend = a # The first dividend is a.\n",
        "    divisor = b # The first divisor is b.\n",
        "    while divisor != 0:   # Recall that != means \"not equal to\".\n",
        "        quotient = dividend // divisor\n",
        "        remainder = dividend % divisor\n",
        "        dividend = divisor  \n",
        "        divisor = remainder\n",
        "    return abs(dividend)  #  abs() is used, since we like our GCDs to be positive."
      ],
      "execution_count": 19,
      "outputs": []
    },
    {
      "cell_type": "code",
      "source": [
        "# Test runtime\n",
        "%time GCD(123456789, 987654321) # 5-9 microseconds CPU time"
      ],
      "metadata": {
        "colab": {
          "base_uri": "https://localhost:8080/"
        },
        "id": "QxHfTfjeW5XR",
        "outputId": "d890aa64-6751-4349-e2ec-a08053d905bc"
      },
      "execution_count": null,
      "outputs": [
        {
          "output_type": "stream",
          "name": "stdout",
          "text": [
            "CPU times: user 6 µs, sys: 0 ns, total: 6 µs\n",
            "Wall time: 8.82 µs\n"
          ]
        },
        {
          "output_type": "execute_result",
          "data": {
            "text/plain": [
              "9"
            ]
          },
          "metadata": {},
          "execution_count": 107
        }
      ]
    },
    {
      "cell_type": "markdown",
      "metadata": {
        "id": "9APX4vd1uXdx"
      },
      "source": [
        "Note that the `return dividend` statement occurs *after* the scope of the while loop.  So as soon as the *divisor* variable equals zero, the funtion `GCD` returns the *dividend* variable and terminates."
      ]
    },
    {
      "cell_type": "code",
      "metadata": {
        "id": "3O3UOceWuXdx",
        "colab": {
          "base_uri": "https://localhost:8080/"
        },
        "outputId": "1e1b99b5-c373-4987-9d81-52ebf0e67396"
      },
      "source": [
        "GCD(111,27)"
      ],
      "execution_count": null,
      "outputs": [
        {
          "output_type": "execute_result",
          "data": {
            "text/plain": [
              "3"
            ]
          },
          "metadata": {},
          "execution_count": 27
        }
      ]
    },
    {
      "cell_type": "code",
      "metadata": {
        "id": "trzxn7cvuXdx",
        "colab": {
          "base_uri": "https://localhost:8080/"
        },
        "outputId": "3a0b1fa9-3116-4a1a-80b4-03f82a80493c"
      },
      "source": [
        "GCD(111,-27)"
      ],
      "execution_count": null,
      "outputs": [
        {
          "output_type": "execute_result",
          "data": {
            "text/plain": [
              "3"
            ]
          },
          "metadata": {},
          "execution_count": 28
        }
      ]
    },
    {
      "cell_type": "markdown",
      "metadata": {
        "id": "8GZtAYjquXdx"
      },
      "source": [
        "We can refine our code in a few ways.  First, note that the `quotient` variable is never used!  It was nice in the verbose version of the Euclidean algorithm, but plays no role in finding the GCD.  Our refined code reads\n",
        "```python\n",
        "def GCD(a,b):\n",
        "    dividend = a  \n",
        "    divisor = b  \n",
        "    while divisor != 0:   # Recall that != means \"not equal to\".\n",
        "        remainder = dividend % divisor\n",
        "        dividend = divisor  \n",
        "        divisor = remainder\n",
        "    return abs(dividend) \n",
        "```"
      ]
    },
    {
      "cell_type": "markdown",
      "metadata": {
        "id": "RCY3VVVquXdx"
      },
      "source": [
        "Now there are two slick Python tricks we can use to shorten the code.  The first is called **multiple assignment**.  It is possible to set the values of two variables in a single line of code, with a syntax like below."
      ]
    },
    {
      "cell_type": "code",
      "metadata": {
        "id": "xShE8MpPuXdx"
      },
      "source": [
        "x,y = 2,3  # Sets x to 2 and y to 3."
      ],
      "execution_count": null,
      "outputs": []
    },
    {
      "cell_type": "markdown",
      "metadata": {
        "id": "0nDSIXkluXdx"
      },
      "source": [
        "This is particular useful for self-referential assignments, because as for ordinary assignment, the right side is evaluated first and then bound to the variables on the left side.  For example, after the line above, try the line below.  Use print statements to see what the values of the variables are afterwards!"
      ]
    },
    {
      "cell_type": "code",
      "metadata": {
        "id": "_hrHKCYUuXdx"
      },
      "source": [
        "x,y = y,x #  Guess what this does!"
      ],
      "execution_count": null,
      "outputs": []
    },
    {
      "cell_type": "code",
      "metadata": {
        "id": "mi80uo4uuXdx",
        "colab": {
          "base_uri": "https://localhost:8080/"
        },
        "outputId": "a23e5931-d078-49b3-9082-e1cb19598b3d"
      },
      "source": [
        "print(\"x =\",x) # One could use \"x = {}\".format(x) too.\n",
        "print(\"y =\",y)"
      ],
      "execution_count": null,
      "outputs": [
        {
          "output_type": "stream",
          "name": "stdout",
          "text": [
            "x = 3\n",
            "y = 2\n"
          ]
        }
      ]
    },
    {
      "cell_type": "markdown",
      "metadata": {
        "id": "Bl5eHRoYuXdy"
      },
      "source": [
        "Now we can use multiple assignment to turn three lines of code into one line of code.  For the `remainder` variable is only used temporarily before its value is given to the `divisor` variable.  Using multiple assignment, the three lines\n",
        "```python\n",
        "    remainder = dividend % divisor\n",
        "    dividend = divisor  \n",
        "    divisor = remainder\n",
        "```\n",
        "can be written in one line,\n",
        "```python\n",
        "    dividend, divisor = divisor, dividend % divisor # Evaluations on the right occur before any assignments!\n",
        "```"
      ]
    },
    {
      "cell_type": "markdown",
      "metadata": {
        "id": "CFUjeCixuXdy"
      },
      "source": [
        "Our newly shortened GCD function looks like this.\n",
        "```python\n",
        "def GCD(a,b):\n",
        "    dividend = a  \n",
        "    divisor = b  \n",
        "    while divisor != 0:   # Recall that != means \"not equal to\".\n",
        "        dividend, divisor = divisor, dividend % divisor\n",
        "    return abs(dividend)\n",
        "```"
      ]
    },
    {
      "cell_type": "markdown",
      "metadata": {
        "id": "IP0eZbSCuXdy"
      },
      "source": [
        "The next trick involves the while loop.  The usual syntax has the form `while <boolean>:`.  But if `while` is followed by a numerical type, e.g. `while <int>:`, then the scope of the while loop will execute as long as the number is nonzero!  Therefore, the line\n",
        "```python\n",
        "while divisor != 0:\n",
        "```\n",
        "can be replaced by the shorter line\n",
        "```python\n",
        "while divisor:\n",
        "```\n",
        "\n",
        "This is truly a trick.  It probably won't speed anything up, and it does not make your program easier to read for beginners.  So use it if you prefer communicating with experienced Python programmers!  Here is the whole function again.\n",
        "```python\n",
        "def GCD(a,b):\n",
        "    dividend = a  \n",
        "    divisor = b  \n",
        "    while divisor:   # Executes the scope if divisor is nonzero.\n",
        "        dividend, divisor = divisor, dividend % divisor\n",
        "    return abs(dividend)\n",
        "```"
      ]
    },
    {
      "cell_type": "markdown",
      "metadata": {
        "id": "yKSoAfbUuXdy"
      },
      "source": [
        "The next optimization is a bit more dangerous for beginners, but it works here.  In general, it can be dangerous to operate directly on the arguments to a function.  But in this setting, it is safe, and makes no real difference to the Python interpreter.  Instead of creating new variables called `dividend` and `divisor`, one can manipulate `a` and `b` directly within the function.  If you do this, the GCD function can be shortened to the following."
      ]
    },
    {
      "cell_type": "code",
      "metadata": {
        "id": "ikac7v-8uXdy"
      },
      "source": [
        "def GCD(a,b):\n",
        "    while b:   # I.e., while b != 0.\n",
        "        a, b = b, a % b\n",
        "    return abs(a)"
      ],
      "execution_count": 20,
      "outputs": []
    },
    {
      "cell_type": "code",
      "metadata": {
        "id": "SP8md911uXdy",
        "colab": {
          "base_uri": "https://localhost:8080/"
        },
        "outputId": "10ddb47d-f67e-4279-f50f-57a5af03299a"
      },
      "source": [
        "# Try it out.  Try it on some big numbers and see how quick it runs!\n",
        "#%time GCD(123456789, 987654321) # 5-8 microseconds CPU time\n",
        "%time GCD(123456789101112, 121110987654321) # 10-12 microseconds CPU time"
      ],
      "execution_count": null,
      "outputs": [
        {
          "output_type": "stream",
          "name": "stdout",
          "text": [
            "CPU times: user 9 µs, sys: 1 µs, total: 10 µs\n",
            "Wall time: 13.1 µs\n"
          ]
        },
        {
          "output_type": "execute_result",
          "data": {
            "text/plain": [
              "3"
            ]
          },
          "metadata": {},
          "execution_count": 153
        }
      ]
    },
    {
      "cell_type": "markdown",
      "source": [
        "The previous incarnation of the `GCD` function ran the above line in 5-9 $\\mu$s. This, pared down version, runs the same line of code in 5-8 $\\mu$s. Essentially, these time values are the same. However, this function does compute the GCD of two rather large numbers quite quickly."
      ],
      "metadata": {
        "id": "LLkxP4kQXK2i"
      }
    },
    {
      "cell_type": "markdown",
      "metadata": {
        "id": "HChX9z8ZuXdy"
      },
      "source": [
        "This code is essentially optimal, if one wishes to execute the Euclidean algorithm to find the GCD of two integers.  It almost [matches the GCD code in a standard Python library](https://stackoverflow.com/a/18944210).  It might be slightly faster than our original code -- but there is a tradeoff here between execution speed and readability of code.  In this and the following lessons, we often optimize enough for everyday purposes, but not so much that readability is lost."
      ]
    },
    {
      "cell_type": "markdown",
      "metadata": {
        "id": "t7NOYklsuXdy"
      },
      "source": [
        "### Exercises and explorations\n",
        "\n",
        "1.  Modify the `is_prime` function by using a while loop instead of `for j in range(2,n):`.  Hint:  the function should contain the lines `j = 2` and `while j < n:` and `j = j + 1` in various places.  Why might this be an improvement from the for loop?  Can you look for factors within a smaller range?\n",
        "\n",
        "2.  Modify the `Euclidean_algorithm` function to create a function which returns the *number of steps* that the Euclidean algorithm requires, i.e., the number of divisions-with-remainder.  How does the number of steps compare to the size of the input numbers?  \n",
        "\n",
        "3.  When $a$ and $b$ are integers, $GCD(a,b) \\cdot LCM(a,b) = ab$.  Use this fact to write an LCM-function.  Try to make your function output only integers (not floats) and behave in a good way even if $a,b$ are zero.\n",
        "\n",
        "4.  How does the `GCD(a,b)` function behave when `a` and/or `b` are zero or negative?  Is this good?\n",
        "\n",
        "5.  Challenge:  Write a function `approximate_e(n)` which approximates $e$ with a maximum error of $10^{-n}$.  (You can assume $n < 1000$ if necessary.)  Try a while loop and `import mpmath`.  Back up your work often! "
      ]
    },
    {
      "cell_type": "code",
      "source": [
        "import mpmath\n",
        "mpmath.mp.dps = 15\n",
        "print(mpmath.mp)"
      ],
      "metadata": {
        "colab": {
          "base_uri": "https://localhost:8080/"
        },
        "id": "kbL1oN2Vly0H",
        "outputId": "7a22e891-f639-403b-e512-28e8f24dbe47"
      },
      "execution_count": 16,
      "outputs": [
        {
          "output_type": "stream",
          "name": "stdout",
          "text": [
            "Mpmath settings:\n",
            "  mp.prec = 53                [default: 53]\n",
            "  mp.dps = 15                 [default: 15]\n",
            "  mp.trap_complex = False     [default: False]\n"
          ]
        }
      ]
    },
    {
      "cell_type": "code",
      "metadata": {
        "id": "XLVsDlQEuXdy"
      },
      "source": [
        "# Use this space to work on the exercises.\n",
        "#1. Modifying is_prime to use a while loop\n",
        "def is_prime(n):\n",
        "    '''\n",
        "    Checks whether the argument n is a prime number.\n",
        "    Uses a brute force search for factors between 1 and n.\n",
        "    If the input is larger than 10^6, raise ValueError\n",
        "    If the input is not an integer, raise TypeError\n",
        "    '''\n",
        "    if not type(n) == int:\n",
        "      raise TypeError(\"Only integers can be prime.\")\n",
        "    if n > 1e6:\n",
        "      raise ValueError(\"Number too big!\")\n",
        "    j = 2\n",
        "    while j < n:\n",
        "        if n%j == 0:  # is n divisible by j?\n",
        "            print(\"{} is a factor of {}.\".format(j,n))\n",
        "            return False\n",
        "        j = j + 1\n",
        "    return True\n",
        "\n",
        "# A modified version of is_prime which searches for factors in a smaller range\n",
        "def is_prime_mod(n):\n",
        "    '''\n",
        "    Checks whether the argument n is a prime number.\n",
        "    Uses a brute force search for factors between 1 and sqrt(n).\n",
        "    If the input is larger than 10^6, raise ValueError\n",
        "    If the input is not an integer, raise TypeError\n",
        "    '''\n",
        "    if not type(n) == int:\n",
        "      raise TypeError(\"Only integers can be prime.\")\n",
        "    if n > 1e6:\n",
        "      raise ValueError(\"Number too big!\")\n",
        "    j = 2\n",
        "    max_val = sqrt(n) # Don't compute sqrt every iteration\n",
        "    while j <= max_val: # Check only numbers between 2 and sqrt(n), explained below (include sqrt(n) in case it is an integer)\n",
        "        if n%j == 0:  # is n divisible by j?\n",
        "            print(\"{} is a factor of {}.\".format(j,n))\n",
        "            return False\n",
        "        j += 1\n",
        "    return True\n",
        "\n",
        "#2. \n",
        "def Euclidean_algorithm(a,b):\n",
        "    dividend = a\n",
        "    divisor = b\n",
        "    steps = 0\n",
        "    while divisor != 0:   # Recall that != means \"is not equal to\".\n",
        "        quotient = dividend // divisor\n",
        "        remainder = dividend % divisor\n",
        "        print(\"{} = {} ({}) + {}\".format(dividend, quotient, divisor, remainder))\n",
        "        dividend = divisor  \n",
        "        divisor = remainder\n",
        "        steps += 1\n",
        "    return steps\n",
        "\n",
        "#3.\n",
        "def LCM(a, b):\n",
        "  if a==b==0: # In this case, GCD(0, 0) returns 0 and we would get a divide by zero error. Instead, return 0.\n",
        "    return 0\n",
        "  elif not type(a)==int or not type(b) == int:\n",
        "    raise TypeError(\"LCM only computed between integers.\")\n",
        "  else: # Else, return integer result of division.\n",
        "    return int((a*b) / GCD(a, b))\n",
        "\n",
        "#4. See solutions below\n",
        "\n",
        "#5. Approximate e with maximum error of 10^-n\n",
        "def approximate_e(n):\n",
        "  # Input n should be an mp float so the input value can have arbitrary precision\n",
        "  # Approximating e using exponential series e^x with x=1\n",
        "  # This is e^x=1+x + x^2/2! + x^3/3! + ...\n",
        "  # Set precision of mpmath to be high enough to approximate as desired\n",
        "  mpmath.mp.dps = n+5\n",
        "  exp = mpmath.mpf(1)\n",
        "  # Keep count of the number of iterations through the loop\n",
        "  i = 1\n",
        "  factorial = 1\n",
        "  while True:\n",
        "    # Add the next term in the series\n",
        "    new_exp = exp + mpmath.mpf(1)/mpmath.mpf(factorial)\n",
        "    if abs(new_exp - exp) < mpmath.power(10, -1*n): # Error should be at most 10^-n\n",
        "      return new_exp\n",
        "    i += 1\n",
        "    factorial *= i\n",
        "    exp = new_exp \n"
      ],
      "execution_count": 44,
      "outputs": []
    },
    {
      "cell_type": "markdown",
      "source": [
        "Testing of the code above"
      ],
      "metadata": {
        "id": "9Gz2NyvlTpIc"
      }
    },
    {
      "cell_type": "code",
      "metadata": {
        "id": "H4Yd89zquXdy",
        "colab": {
          "base_uri": "https://localhost:8080/"
        },
        "outputId": "4d6d20c5-1f99-42ca-808e-acbe6a2b484c"
      },
      "source": [
        "# 1. Testing\n",
        "#is_prime(1331)\n",
        "%time is_prime(123457) # about 20 ms"
      ],
      "execution_count": null,
      "outputs": [
        {
          "output_type": "stream",
          "name": "stdout",
          "text": [
            "CPU times: user 18.9 ms, sys: 0 ns, total: 18.9 ms\n",
            "Wall time: 19.3 ms\n"
          ]
        },
        {
          "output_type": "execute_result",
          "data": {
            "text/plain": [
              "True"
            ]
          },
          "metadata": {},
          "execution_count": 186
        }
      ]
    },
    {
      "cell_type": "code",
      "source": [
        "%time is_prime_mod(123457) # about 120 microseconds!!"
      ],
      "metadata": {
        "colab": {
          "base_uri": "https://localhost:8080/"
        },
        "id": "DAZVhZ9Nc1GS",
        "outputId": "a1057e94-6c22-4d11-b779-412104bce648"
      },
      "execution_count": null,
      "outputs": [
        {
          "output_type": "stream",
          "name": "stdout",
          "text": [
            "CPU times: user 112 µs, sys: 12 µs, total: 124 µs\n",
            "Wall time: 130 µs\n"
          ]
        },
        {
          "output_type": "execute_result",
          "data": {
            "text/plain": [
              "True"
            ]
          },
          "metadata": {},
          "execution_count": 189
        }
      ]
    },
    {
      "cell_type": "code",
      "source": [
        "# Testing 2.\n",
        "Euclidean_algorithm(4567, 1234)"
      ],
      "metadata": {
        "colab": {
          "base_uri": "https://localhost:8080/"
        },
        "id": "clOkPv7Uenl0",
        "outputId": "4e365e88-8856-42c6-abba-bdb7341f3477"
      },
      "execution_count": null,
      "outputs": [
        {
          "output_type": "stream",
          "name": "stdout",
          "text": [
            "4567 = 3 (1234) + 865\n",
            "1234 = 1 (865) + 369\n",
            "865 = 2 (369) + 127\n",
            "369 = 2 (127) + 115\n",
            "127 = 1 (115) + 12\n",
            "115 = 9 (12) + 7\n",
            "12 = 1 (7) + 5\n",
            "7 = 1 (5) + 2\n",
            "5 = 2 (2) + 1\n",
            "2 = 2 (1) + 0\n"
          ]
        },
        {
          "output_type": "execute_result",
          "data": {
            "text/plain": [
              "10"
            ]
          },
          "metadata": {},
          "execution_count": 226
        }
      ]
    },
    {
      "cell_type": "code",
      "source": [
        "# Testing 3.\n",
        "print(LCM(6, 8))\n",
        "print(LCM(12, 123))\n",
        "#print(LCM(12, 14.5)) # Type Error"
      ],
      "metadata": {
        "colab": {
          "base_uri": "https://localhost:8080/"
        },
        "id": "NFBibSNRga1G",
        "outputId": "e415424c-798e-45fc-bba0-e06351744df9"
      },
      "execution_count": 23,
      "outputs": [
        {
          "output_type": "stream",
          "name": "stdout",
          "text": [
            "24\n",
            "492\n"
          ]
        }
      ]
    },
    {
      "cell_type": "code",
      "source": [
        "# Testing 4.\n",
        "print(GCD(0, 5))\n",
        "print(GCD(0, 6))\n",
        "print(GCD(-5, 35))\n",
        "print(GCD(5, -35))\n",
        "print(GCD(-5, -35))\n",
        "print(GCD(0, 0))"
      ],
      "metadata": {
        "colab": {
          "base_uri": "https://localhost:8080/"
        },
        "id": "4HXTIewVheH8",
        "outputId": "66cdb459-b353-4415-952b-e0831f6e2696"
      },
      "execution_count": null,
      "outputs": [
        {
          "output_type": "stream",
          "name": "stdout",
          "text": [
            "5\n",
            "6\n",
            "5\n",
            "5\n",
            "5\n",
            "0\n"
          ]
        }
      ]
    },
    {
      "cell_type": "code",
      "source": [
        "# Testing 5.\n",
        "# Here we test our approximation of e to n decimal places.\n",
        "n = 1000\n",
        "# Get e to this precision (for testing purposes)\n",
        "mpmath.mp.dps=n+5\n",
        "real_e = mpmath.e\n",
        "print(\"Actual value of e accurate to {} decimal points (from mpmath): {}\".format(n+5, real_e))\n",
        "approx_e = approximate_e(mpmath.mpf(n))\n",
        "print(\"Our value of e accurate to at least {} decimal points (approximation): {}\".format(n, approx_e))\n",
        "print(\"Our approximation is off by about {}\".format(mpmath.nstr(abs(approx_e - real_e), 5)))"
      ],
      "metadata": {
        "colab": {
          "base_uri": "https://localhost:8080/"
        },
        "id": "RVbwZEL7o5Cw",
        "outputId": "2b990899-0e24-44bb-8528-f7e1dc0ead9b"
      },
      "execution_count": 48,
      "outputs": [
        {
          "output_type": "stream",
          "name": "stdout",
          "text": [
            "Actual value of e accurate to 1005 decimal points (from mpmath): 2.71828182845904523536028747135266249775724709369995957496696762772407663035354759457138217852516642742746639193200305992181741359662904357290033429526059563073813232862794349076323382988075319525101901157383418793070215408914993488416750924476146066808226480016847741185374234544243710753907774499206955170276183860626133138458300075204493382656029760673711320070932870912744374704723069697720931014169283681902551510865746377211125238978442505695369677078544996996794686445490598793163688923009879312773617821542499922957635148220826989519366803318252886939849646510582093923982948879332036250944311730123819706841614039701983767932068328237646480429531180232878250981945581530175671736133206981125099618188159304169035159888851934580727386673858942287922849989208680582574927961048419844436346324496848756023362482704197862320900216099023530436994184914631409343173814364054625315209618369088870701676839642437814059271456354906130310720851038375051011574770417189861068739696552126715468895703503540212\n",
            "Our value of e accurate to at least 1000 decimal points (approximation): 2.718281828459045235360287471352662497757247093699959574966967627724076630353547594571382178525166427427466391932003059921817413596629043572900334295260595630738132328627943490763233829880753195251019011573834187930702154089149934884167509244761460668082264800168477411853742345442437107539077744992069551702761838606261331384583000752044933826560297606737113200709328709127443747047230696977209310141692836819025515108657463772111252389784425056953696770785449969967946864454905987931636889230098793127736178215424999229576351482208269895193668033182528869398496465105820939239829488793320362509443117301238197068416140397019837679320683282376464804295311802328782509819455815301756717361332069811250996181881593041690351598888519345807273866738589422879228499892086805825749279610484198444363463244968487560233624827041978623209002160990235304369941849146314093431738143640546253152096183690888707016768396424378140592714563549061303107208510383750510115747704171898610687396965521267154688957035035402\n",
            "Our approximation is off by about 1.2412e-1003\n"
          ]
        }
      ]
    },
    {
      "cell_type": "markdown",
      "source": [
        "### Solutions\n",
        "1. I suppose the while loop might be better than the for loop because it just has to do a simple boolean comparison before each loop is run and add one to `j` after each iteration, whereas the for loop has to remember the previous number, compute the next number in the range, and then see if the number is still within the range specified before running. Another reason why the while loop might be better is that sometimes you don't know how many times the loop should run. In fact, it might require a different number of iterations for every input. In such situations, for loops can be hard to make work, but while loops can keep running until the condition is no longer satisfied, regardless of the number of iterations it takes.\n",
        "\n",
        "  On the subject of checking numbers in a smaller range, one doesn't have to check all numbers between 2 and n. In fact, once one checks the numbers between 2 and $\\sqrt{n}$, then any number checked after that is redundant. To show that this is true, suppose we have checked all numbers between 2 and $\\sqrt{n}$ and found that none are divisors of $n$. Then if $x\\cdot y = n$ for some $x>\\sqrt{n}$, then necessarily we have $y<\\sqrt{n}$. But then $y$ has already been checked and we discovered that $y$ didn't divide $n$, so such a product $x\\cdot y=n$ is impossible. Therefore, once we check numbers up to $\\sqrt{n}$, we are done. If no divisors have been found, then none exist. This results in the modified `is_prime_mod` function above. When running `is_prime` on 123457, the original implementation takes ~20 milliseconds, but the modified implementation takes just ~120 microseconds. I.e., instead of taking ~20,000 microseconds, the modified code runs in just ~120 microseconds.\n",
        "\n",
        "2. When testing the modified `Euclidean_algorithm` function, it seems that in general the number of steps required in the algorithm goes up with the size of the input numbers. There are exceptions to this, but typically it is true. For example, when computing `Euclidean_algorithm(4567, 1234)`, it takes 10 steps to finish. Then `Euclidean_algorithm(4567, 123)` takes just 5 steps, `Euclidean_algorithm(4567, 123)` also takes 5 steps, and `Euclidean_algorithm(4567, 1)` takes only 1 step. One obvious exception to this rule is if both numbers are the same, e.g. `Euclidean_algorithm(1234, 1234)`. In this trivial case, it takes just one step.\n",
        "\n",
        "3. See function `LCM` above.\n",
        "\n",
        "4. When `a` and `b` are both zero, `GCD(a, b)` returns zero. This is a strange case because any number divides zero. Therefore we technically could say that any arbitrarily large number is a divisor of both `a` and `b`. Since this is a strange case, it might just make sense to define `GCD(0, 0)` as zero. When one of `a` and `b` is zero, then the `GCD` function returns the value of the one which is non-zero. This makes sense because, as mentioned above, any number divides zero, so the largest common divisor of the two values is the largest divisor of the non-zero one, or just the non-zero value itself. If negative values are included, then the `GCD` function returns the largest divisor of the two values, which is some positive integer. This makes sense because we usually define the GCD to be positive. Overall, the results from the `GCD` function are good, with the possible exception of `GCD(0, 0)` depending on how we want to define it.\n",
        "\n",
        "5. See code above. My function `approximate_e` above sets the precision of the mpmath package to be `n+5`, so that we can tell whether we are off by less than $10^{-n}$. It then uses a `while` loop to keep adding terms in the series approximation for e until the difference between the running total and the approximation with the next term is less than the desired error of $10^{-n}$. It should, in theory, be able to generate an approximation good enough to satisfy any input n. I've tested it for n=1000 without issue (See code cell above)."
      ],
      "metadata": {
        "id": "0tTKpxxkazuh"
      }
    }
  ]
}