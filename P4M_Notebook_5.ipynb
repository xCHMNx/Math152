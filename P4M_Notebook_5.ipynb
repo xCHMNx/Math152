{
  "nbformat": 4,
  "nbformat_minor": 0,
  "metadata": {
    "colab": {
      "name": "P4M Notebook 5.ipynb",
      "provenance": [],
      "collapsed_sections": [
        "HJJWMj_8VdXg"
      ],
      "include_colab_link": true
    },
    "kernelspec": {
      "name": "python3",
      "display_name": "Python 3"
    }
  },
  "cells": [
    {
      "cell_type": "markdown",
      "metadata": {
        "id": "view-in-github",
        "colab_type": "text"
      },
      "source": [
        "<a href=\"https://colab.research.google.com/github/xCHMNx/Math152/blob/main/P4M_Notebook_5.ipynb\" target=\"_parent\"><img src=\"https://colab.research.google.com/assets/colab-badge.svg\" alt=\"Open In Colab\"/></a>"
      ]
    },
    {
      "cell_type": "markdown",
      "metadata": {
        "id": "3Vh71OubDeRq"
      },
      "source": [
        "# Part 5:  Putting it together...\n",
        "\n",
        "To wrap things up, we are going to bring together the techniques we have seen, and attempt a few challenges.\n",
        "\n",
        "Please submit this notebook by 5pm (California time) on Wednesday, March 17th.  Your submission should include answers to all three questions from the first (Repetition and benchmarking) section, and **two** of the challenging problems."
      ]
    },
    {
      "cell_type": "markdown",
      "metadata": {
        "id": "tmXRsSLiDw2i"
      },
      "source": [
        "## Repetition and benchmarking\n",
        "\n",
        "Computers are very good at repetition.  As your programming skills improve, you can more easily coax your computer into performing more repetitions.  We have seen at least three ways of performing repetition:  with loops (e.g, for and while loops), with lists (especially slicing and comprehension), and with numpy arrays (especially vectorized functions).  \n",
        "\n",
        "It is good to see this, in a simple example, to reflect on what you've learned this quarter.  Our simple example will be producing a list of squares $n^2$ for $n$ in a range of numbers.\n",
        "\n",
        "The first things we learned were how to use Python as a calculator, printing \"answers\" to the screen, and using a \"for loop\" to repeat things.  Here is a bit of code in that spirit."
      ]
    },
    {
      "cell_type": "code",
      "metadata": {
        "id": "1_Gk52ZaDd1M",
        "colab": {
          "base_uri": "https://localhost:8080/"
        },
        "outputId": "32ecf1d3-d54a-4d6b-c195-5fd026b9f5a5"
      },
      "source": [
        "for n in range(10):\n",
        "  print(n*n)"
      ],
      "execution_count": null,
      "outputs": [
        {
          "output_type": "stream",
          "name": "stdout",
          "text": [
            "0\n",
            "1\n",
            "4\n",
            "9\n",
            "16\n",
            "25\n",
            "36\n",
            "49\n",
            "64\n",
            "81\n"
          ]
        }
      ]
    },
    {
      "cell_type": "markdown",
      "metadata": {
        "id": "CI7QBmfi8jn1"
      },
      "source": [
        "Then we learned about lists.  Here are two ways to make a list of the squares, from $0^2$ up to $9^2$.  We print the list at the end of each code block."
      ]
    },
    {
      "cell_type": "code",
      "metadata": {
        "id": "_pSgH2YtEoDT",
        "colab": {
          "base_uri": "https://localhost:8080/"
        },
        "outputId": "55599b0e-0712-4396-dca5-d10b342cef8a"
      },
      "source": [
        "L = []\n",
        "for n in range(10):\n",
        "  L.append(n*n)\n",
        "print(L)"
      ],
      "execution_count": null,
      "outputs": [
        {
          "output_type": "stream",
          "name": "stdout",
          "text": [
            "[0, 1, 4, 9, 16, 25, 36, 49, 64, 81]\n"
          ]
        }
      ]
    },
    {
      "cell_type": "code",
      "metadata": {
        "id": "7arqtxfWESCf",
        "colab": {
          "base_uri": "https://localhost:8080/"
        },
        "outputId": "2d8c89bf-f9be-4631-c8cf-164a391b80cf"
      },
      "source": [
        "L = [0]*10\n",
        "for n in range(10):\n",
        "  L[n] = n*n\n",
        "print(L)"
      ],
      "execution_count": null,
      "outputs": [
        {
          "output_type": "stream",
          "name": "stdout",
          "text": [
            "[0, 1, 4, 9, 16, 25, 36, 49, 64, 81]\n"
          ]
        }
      ]
    },
    {
      "cell_type": "markdown",
      "metadata": {
        "id": "BG8Z6La18uv4"
      },
      "source": [
        "Hopefully you learned to give your lists better names, like `square_list`.  A very slick Pythonic way of producing a list is with \"list comprehension\".  Such an approach is in the code below."
      ]
    },
    {
      "cell_type": "code",
      "metadata": {
        "id": "uTel6wOOEZrm",
        "colab": {
          "base_uri": "https://localhost:8080/"
        },
        "outputId": "bd696a88-5b9a-471a-9fca-0d8d8d6250b0"
      },
      "source": [
        "square_list = [n*n for n in range(10)]\n",
        "print(square_list)"
      ],
      "execution_count": null,
      "outputs": [
        {
          "output_type": "stream",
          "name": "stdout",
          "text": [
            "[0, 1, 4, 9, 16, 25, 36, 49, 64, 81]\n"
          ]
        }
      ]
    },
    {
      "cell_type": "markdown",
      "metadata": {
        "id": "EDUFarMO836b"
      },
      "source": [
        "Finally, we learned about the numpy package, which pumps arrays through the processor very quickly.  A numpy approach is below."
      ]
    },
    {
      "cell_type": "code",
      "metadata": {
        "id": "KWyPzv53EfRW"
      },
      "source": [
        "import numpy as np # First we have to load the package."
      ],
      "execution_count": null,
      "outputs": []
    },
    {
      "cell_type": "code",
      "metadata": {
        "id": "sCWmWLfWEgqV",
        "colab": {
          "base_uri": "https://localhost:8080/"
        },
        "outputId": "7af35505-5782-4178-98cf-43a99f86e068"
      },
      "source": [
        "A = np.arange(10)\n",
        "print(A*A)"
      ],
      "execution_count": null,
      "outputs": [
        {
          "output_type": "stream",
          "name": "stdout",
          "text": [
            "[ 0  1  4  9 16 25 36 49 64 81]\n"
          ]
        }
      ]
    },
    {
      "cell_type": "markdown",
      "metadata": {
        "id": "WEKhWP4oE1GJ"
      },
      "source": [
        "Let's consider the question:  what is the fastest way to produce a list (or array) of squares?  To answer it, we will wrap things in different functions, and carry out some time analysis.  \n",
        "\n",
        "Notice that the functions are as identical as possible.  The method of creating a list/array is the different in each function.  But all the functions take a single input `N` and return a list or array with the squares of 0,...,N-1.  Note that there are **no print statements**!  Printing takes time, and we don't care about how much time it takes to *print* a list on your screen.  Also, if we run %timeit, then a print statement will fill your screen with tens of thousands of printed messages!"
      ]
    },
    {
      "cell_type": "code",
      "metadata": {
        "id": "8fDM7N4UEkj1"
      },
      "source": [
        "def make_sq_1(N):\n",
        "  L = []\n",
        "  for n in range(N):\n",
        "    L.append(n*n)\n",
        "  return L"
      ],
      "execution_count": null,
      "outputs": []
    },
    {
      "cell_type": "code",
      "metadata": {
        "id": "qEZsZmViFJAE"
      },
      "source": [
        "def make_sq_2(N):\n",
        "  L = [0] * N\n",
        "  for n in range(N):\n",
        "    L[n] = n*n\n",
        "  return L"
      ],
      "execution_count": null,
      "outputs": []
    },
    {
      "cell_type": "code",
      "metadata": {
        "id": "NhGyT-BYFOpM"
      },
      "source": [
        "def make_sq_3(N):\n",
        "  return [n*n for n in range(N)]"
      ],
      "execution_count": null,
      "outputs": []
    },
    {
      "cell_type": "code",
      "metadata": {
        "id": "Api8iz1eFRlN"
      },
      "source": [
        "def make_sq_4(N):\n",
        "  A = np.arange(N)\n",
        "  return A*A"
      ],
      "execution_count": null,
      "outputs": []
    },
    {
      "cell_type": "code",
      "metadata": {
        "id": "lZGA3AmEFVs0",
        "colab": {
          "base_uri": "https://localhost:8080/"
        },
        "outputId": "a8e9731f-1934-41e6-f7bb-1086d79c8af3"
      },
      "source": [
        "%timeit make_sq_1(1000)"
      ],
      "execution_count": null,
      "outputs": [
        {
          "output_type": "stream",
          "name": "stdout",
          "text": [
            "10000 loops, best of 5: 122 µs per loop\n"
          ]
        }
      ]
    },
    {
      "cell_type": "code",
      "metadata": {
        "id": "FVUJxnmfFYSU",
        "colab": {
          "base_uri": "https://localhost:8080/"
        },
        "outputId": "18911660-1ca7-41ac-92cd-03966c8c2f87"
      },
      "source": [
        "%timeit make_sq_2(1000)"
      ],
      "execution_count": null,
      "outputs": [
        {
          "output_type": "stream",
          "name": "stdout",
          "text": [
            "The slowest run took 4.76 times longer than the fastest. This could mean that an intermediate result is being cached.\n",
            "10000 loops, best of 5: 94.2 µs per loop\n"
          ]
        }
      ]
    },
    {
      "cell_type": "code",
      "metadata": {
        "id": "Zt1l8hOsFZxs",
        "colab": {
          "base_uri": "https://localhost:8080/"
        },
        "outputId": "efffe873-49ad-40f2-ba62-293b62833056"
      },
      "source": [
        "%timeit make_sq_3(1000)"
      ],
      "execution_count": null,
      "outputs": [
        {
          "output_type": "stream",
          "name": "stdout",
          "text": [
            "10000 loops, best of 5: 77.9 µs per loop\n"
          ]
        }
      ]
    },
    {
      "cell_type": "code",
      "metadata": {
        "id": "pSVmRwAdFb5s",
        "colab": {
          "base_uri": "https://localhost:8080/"
        },
        "outputId": "ff643d82-4544-4376-f76c-8fc3fb91e865"
      },
      "source": [
        "%timeit make_sq_4(1000)"
      ],
      "execution_count": null,
      "outputs": [
        {
          "output_type": "stream",
          "name": "stdout",
          "text": [
            "The slowest run took 237.48 times longer than the fastest. This could mean that an intermediate result is being cached.\n",
            "100000 loops, best of 5: 3.08 µs per loop\n"
          ]
        }
      ]
    },
    {
      "cell_type": "markdown",
      "metadata": {
        "id": "wtjJCpIvF965"
      },
      "source": [
        "These benchmarks are useful, but let's do a graphical analysis.  This is the last thing we studied."
      ]
    },
    {
      "cell_type": "code",
      "metadata": {
        "id": "CNgnxRhFGIz9"
      },
      "source": [
        "import matplotlib.pyplot as plt\n",
        "import seaborn as sns # In case we want some modern stylings.\n",
        "import time as time"
      ],
      "execution_count": null,
      "outputs": []
    },
    {
      "cell_type": "markdown",
      "metadata": {
        "id": "_nCiB6uSJT2C"
      },
      "source": [
        "Now we are going to create a graph to benchmark the performance of these three functions.  This will use a few new programming techniques."
      ]
    },
    {
      "cell_type": "code",
      "metadata": {
        "id": "3Qbzo01tFdi8",
        "colab": {
          "base_uri": "https://localhost:8080/",
          "height": 373
        },
        "outputId": "4a18763e-f2cc-48fa-b8b6-e2218ccb1c02"
      },
      "source": [
        "fig,ax = plt.subplots(1,1,figsize=(8,5)) # Initialize a plot.\n",
        "N_array = np.array([2**n for n in range(1,21)]) # We'll try N in the array [2,4,8,..,~1 million]\n",
        "for method in [make_sq_1, make_sq_2, make_sq_3, make_sq_4]: # A list of functions, oh my!\n",
        "  time_array = np.zeros(len(N_array)) # Initialize an array of zeros\n",
        "  for j,N in enumerate(N_array):  # See notes afterwards about the enumerate command.\n",
        "    time_tot = 0\n",
        "    for reps in range(10): # Average of 10 repetitions.\n",
        "      start_time = time.time()\n",
        "      method(N)\n",
        "      end_time = time.time()\n",
        "      time_tot += end_time - start_time\n",
        "    time_ave = time_tot / 10\n",
        "    time_array[j] = time_ave\n",
        "  plt.plot(N_array, time_array, label='Time using function '+method.__name__)\n",
        "plt.legend()\n",
        "plt.xscale('log')\n",
        "plt.yscale('log')\n",
        "plt.suptitle('Time to create a list of squares from 1 to N')\n",
        "plt.xlabel('Length of list (N)')\n",
        "plt.ylabel('Time (seconds)')\n",
        "plt.show()"
      ],
      "execution_count": null,
      "outputs": [
        {
          "output_type": "display_data",
          "data": {
            "text/plain": [
              "<Figure size 576x360 with 1 Axes>"
            ],
            "image/png": "[encoded data removed]"
          },
          "metadata": {
            "needs_background": "light"
          }
        }
      ]
    },
    {
      "cell_type": "code",
      "metadata": {
        "id": "D7YqhyfZHgW5"
      },
      "source": [
        ""
      ],
      "execution_count": null,
      "outputs": []
    },
    {
      "cell_type": "markdown",
      "metadata": {
        "id": "eWyplW1_Jfak"
      },
      "source": [
        "Let's do a line-by-line analysis.\n",
        "\n",
        "1.  `fig,ax = plt.subplots(1,1,figsize=(8,5))`\n",
        "\n",
        "2.  `N_array = np.array([2**n for n in range(1,21)])`\n",
        "\n",
        "3.  `for method in [make_sq_1, make_sq_2, make_sq_3, make_sq_4]:`\n",
        "\n",
        "4.  `  time_array = np.zeros(len(N_array)) # Initialize an array of zeros`\n",
        "\n",
        "5.  `  for j,N in enumerate(N_array):`\n",
        "\n",
        "6.  `    time_tot = 0`\n",
        "    `for reps in range(10):`\n",
        "      `start_time = time.time()`\n",
        "      `method(N)`\n",
        "      `end_time = time.time()`\n",
        "      `time_tot += end_time - start_time`\n",
        "    `time_ave = time_tot / 10`\n",
        "\n",
        "    `time_array[j] = time_ave`\n",
        "7.    `plt.plot(N_array, time_array, label='Time using function '+method.__name__)`\n",
        "\n",
        "8.  `plt.legend()`\n",
        "\n",
        "9.  `plt.xscale('log')`\n",
        "10. `plt.yscale('log')`"
      ]
    },
    {
      "cell_type": "markdown",
      "metadata": {
        "id": "0Ucwm_uHKL1w"
      },
      "source": [
        "Line 1 initializes a plot, with figure size 8 inches by 5 inches.  The \"1,1\" means that the plot has no subplots, or more precisely, it is a 1 by 1 grid of plots.  (Only one plot).\n",
        "\n",
        "In line 2, we use a list comprehension to make a list [2,4,8,16,..., 2^20].  Note that 2^20 is about one million.  These are the N's that we're going to work with.\n",
        "\n",
        "Line 3 might be surprising and interesting.  The variable `method` is iterated through an array of four *functions*!  Yes, we can have a list of functions!  And then we can use those functions!  Functions are Python objects like any other, and they can be treated as such.\n",
        "\n",
        "Lines 4-6 create an array of times.  Instead of using the %timeit magic, we store our times in an array, and we carry out a timing experiment from scratch.  Line 4 just initializes a numpy array of zeros to fill later.\n",
        "\n",
        "Line 5 has a new command `enumerate` in the loop.  This makes `N` iterate through our `N_array`, and meanwhile `j` will simply \"count up\".  It's equivalent to setting `j=0` before the loop, and putting a `j = j + 1` within the loop to count.\n",
        "\n",
        "Line 6 carries out the timing experiment.  It runs a function (`method`) to create a list of squares up to `N`.  It does this 10 times, checking the time before and after each time.  Then it computes the average amount of time elapsed (among the 10 repetitions) and records this in the `time_array`.\n",
        "\n",
        "Line 7 plots `N` on the x-axis and time (`time_array`) on the y-axis with a line plot.  It assigns this plot a label, which is the name of the method.  To find the name of the function `method`, you can use `method.__name__`.  That's a bit fancier Python.\n",
        "\n",
        "Finally, Line 8 produces the legend from the labels.  \n",
        "\n",
        "Lines 9 and 10 make the x-axis and y-axis log-scaled, which is helpful since the variable `N` is increasing exponentially, and some times are as short as microseconds while others are closer to milliseconds or seconds.\n",
        "\n",
        "The rest is styling."
      ]
    },
    {
      "cell_type": "markdown",
      "metadata": {
        "id": "6anmwPIoLwdu"
      },
      "source": [
        "## Exercises\n",
        "\n",
        "1.  Interpret the plot above.  Which method is fastest for long lists?  Which method is fastest for short lists?  At what size `N` should you switch from one method to the other?\n",
        "\n",
        "2.  Add another method to the plot, by defining your own function `make_sq_5` that mirros the basic structure of the other `make_sq` functions.  Note that your function must create the list in a different way, but it should still take the same parameter `N` and return a list or numpy array.  Create the plot with your function added to the other four, and compare the performance of your method to the others.\n",
        "\n",
        "3.  Create a function with `def inflate(S):` which takes as input a string `S` and returns a string in which the 1st letter of `S` appears once, and the second letter appears twice, the third letter appears three times, etc.  For example, `inflate('Hello')` should return the string `'Heelllllllooooo'`.  You must use a loop of the form `for j,letter in enumerate(S):`, and *no other loops*!"
      ]
    },
    {
      "cell_type": "markdown",
      "metadata": {
        "id": "5cc5rYeH9rcr"
      },
      "source": [
        "Put your solutions here."
      ]
    },
    {
      "cell_type": "markdown",
      "source": [
        "## Solutions"
      ],
      "metadata": {
        "id": "RtUrLdaZ22yr"
      }
    },
    {
      "cell_type": "markdown",
      "source": [
        "**Exercise 1**: Interpret the plot.\n",
        "\n",
        "For long list, the fastest method is clearly `make_sq_4` which uses numpy to make array multiplication very quick. We can see from the plot that this fourth method is over 10 times quicker than the others when generating a list of squares up to a number near 1 million. For short lists however, it appears that method four is actually the slowest. Instead, methods one and three, functions `make_sq_1` and `make_sq_3` respectively seem to be the fastest for very small N. However, generally method three seems to be the fastest for shorter lists. It appears that the fourth method becomes the fastest for lists with a length between 10 and 100 elements. From the graph, it seems this value is around 40 or 50. In other words, one should switch to the fourth method by the time one is working with lists of around 100 elements and this method is then the fastest, at least up until lists containing 1 million elements."
      ],
      "metadata": {
        "id": "bgOV4y-124YD"
      }
    },
    {
      "cell_type": "markdown",
      "source": [
        "**Exercise 2**: Add a fifth way of computing the list.\n",
        "\n",
        "I wanted to see how much method three would be slowed down if the squaring was done by a call to another function. To do this, I used the numpy power function. This uses the same list comprehension as method three, just with an additional function call."
      ],
      "metadata": {
        "id": "bjwn7rLF8cQV"
      }
    },
    {
      "cell_type": "code",
      "source": [
        "def make_sq_5(N):\n",
        "  return [np.power(n, 2) for n in range(N)]"
      ],
      "metadata": {
        "id": "aacJJM77_CRD"
      },
      "execution_count": null,
      "outputs": []
    },
    {
      "cell_type": "code",
      "source": [
        "make_sq_5(10)"
      ],
      "metadata": {
        "colab": {
          "base_uri": "https://localhost:8080/"
        },
        "id": "7Z6XdPb3DK1S",
        "outputId": "47568904-ad58-47a5-8c12-88b9ed1a7481"
      },
      "execution_count": null,
      "outputs": [
        {
          "output_type": "execute_result",
          "data": {
            "text/plain": [
              "[0, 1, 4, 9, 16, 25, 36, 49, 64, 81]"
            ]
          },
          "metadata": {},
          "execution_count": 22
        }
      ]
    },
    {
      "cell_type": "markdown",
      "source": [
        "Here is the same plot again, with this fifth method."
      ],
      "metadata": {
        "id": "22VrB2IrCnMI"
      }
    },
    {
      "cell_type": "code",
      "source": [
        "fig,ax = plt.subplots(1,1,figsize=(8,5)) # Initialize a plot.\n",
        "N_array = np.array([2**n for n in range(1,21)]) # We'll try N in the array [2,4,8,..,~1 million]\n",
        "for method in [make_sq_1, make_sq_2, make_sq_3, make_sq_4, make_sq_5]: # A list of functions, oh my!\n",
        "  time_array = np.zeros(len(N_array)) # Initialize an array of zeros\n",
        "  for j,N in enumerate(N_array):  # See notes afterwards about the enumerate command.\n",
        "    time_tot = 0\n",
        "    for reps in range(10): # Average of 10 repetitions.\n",
        "      start_time = time.time()\n",
        "      method(N)\n",
        "      end_time = time.time()\n",
        "      time_tot += end_time - start_time\n",
        "    time_ave = time_tot / 10\n",
        "    time_array[j] = time_ave\n",
        "  plt.plot(N_array, time_array, label='Time using function '+method.__name__)\n",
        "plt.legend()\n",
        "plt.xscale('log')\n",
        "plt.yscale('log')\n",
        "plt.suptitle('Time to create a list of squares from 1 to N')\n",
        "plt.xlabel('Length of list (N)')\n",
        "plt.ylabel('Time (seconds)')\n",
        "plt.show()"
      ],
      "metadata": {
        "colab": {
          "base_uri": "https://localhost:8080/",
          "height": 373
        },
        "id": "n9nfI3eGCpoi",
        "outputId": "1e8420d5-49cd-4102-b377-b607e8a96d1b"
      },
      "execution_count": null,
      "outputs": [
        {
          "output_type": "display_data",
          "data": {
            "text/plain": [
              "<Figure size 576x360 with 1 Axes>"
            ],
            "image/png": "[encoded data removed]"
          },
          "metadata": {
            "needs_background": "light"
          }
        }
      ]
    },
    {
      "cell_type": "markdown",
      "source": [
        "Interestingly, just adding this extra function call to the numpy power function instead of multiplying the numbers directly made the function much slower. For most of the values tested, this fifth function is pretty much 10 times slower than the equivalent third method which doesn't have that function call. This is an interesting result and implies that either adding an extra function call is much slower than multiplying directly, or the numpy function multiplies much slower than normal multiplication. Given that numpy is good at performing arithmetic quickly, it is probably the case that the function calls are much slower than simple multiplication."
      ],
      "metadata": {
        "id": "e0-7X_SjDDtl"
      }
    },
    {
      "cell_type": "markdown",
      "source": [
        "**Exercise 3**: The inflate function.\n",
        "\n",
        "To perform this operation, I create an empty string and then iterate through the indices and letters, appending a number of multiples of each letter equal to the index plus one to the end of the new string."
      ],
      "metadata": {
        "id": "mXihDIL8D4So"
      }
    },
    {
      "cell_type": "code",
      "source": [
        "def inflate(S):\n",
        "  \"\"\"\n",
        "  Take input string S and return a string in which the 1st letter appears once,\n",
        "  the second letter appears twice, and so on.\n",
        "  Must use for j, letter in enumerate(S) and no other loops.\n",
        "  \"\"\"\n",
        "  inflated_s = \"\"\n",
        "  for j, letter in enumerate(S):\n",
        "    inflated_s += letter*(j+1)\n",
        "  return inflated_s"
      ],
      "metadata": {
        "id": "hh2JQED3D7-f"
      },
      "execution_count": null,
      "outputs": []
    },
    {
      "cell_type": "code",
      "source": [
        "# Testing the function\n",
        "print(inflate(\"Hello\"))\n",
        "print(inflate(\"abcde\"))"
      ],
      "metadata": {
        "colab": {
          "base_uri": "https://localhost:8080/"
        },
        "id": "ahSkwppoEUuA",
        "outputId": "c5e020ff-a435-4a7c-e7c2-55290337c373"
      },
      "execution_count": null,
      "outputs": [
        {
          "output_type": "stream",
          "name": "stdout",
          "text": [
            "Heelllllllooooo\n",
            "abbcccddddeeeee\n"
          ]
        }
      ]
    },
    {
      "cell_type": "markdown",
      "metadata": {
        "id": "F3CDgf54dWoL"
      },
      "source": [
        "# Final challenges!\n",
        "\n",
        "Please turn in your notebooks with your attempts on **two** of the challenges below.  **Only two** will be graded."
      ]
    },
    {
      "cell_type": "markdown",
      "source": [
        "**Note** I chose to complete Challenges 2 and 4."
      ],
      "metadata": {
        "id": "0zZ6ekjQcxa0"
      }
    },
    {
      "cell_type": "markdown",
      "metadata": {
        "id": "HJJWMj_8VdXg"
      },
      "source": [
        "## Challenge 1\n",
        "\n",
        "If $N$ is a positive integer, then $r_3(N)$ is the number of ways that $N$ can be expressed as the sum of three squares.  Order and sign matter, so for example\n",
        "$$6 = 1^2 + 1^2 + 2^2 = (-1)^2 + 1^2 + 2^2 = 2^2 + (-1)^2 + (-1)^2 = \\cdots$$\n",
        "These are all different ways of expressing 6 as the sum of three squares.  In fact, $r_3(6) = 8 \\cdot 3 = 24$.  The 8 comes from the fact that there are eight sign-choices, and the 3 comes from the three orderings (1,1,2) and (1,2,1) and (2,1,1).\n",
        "\n",
        "In other words, $r_3(N)$ is the number of elements in the following set:\n",
        "$$\\{ (a,b,c) \\in {\\mathbb Z}^3 : a^2 + b^2 + c^2 = N \\}.$$\n",
        "\n",
        "Write a function that computes $r_3(N)$ as efficiently as you can, for somewhat large values of $N$ (e.g., $N \\approx 1000$).\n",
        "\n",
        "You can check whether your function is behaving correctly, by comparing to the values found at the [Online Encyclopedia of Integer Sequences](https://oeis.org/A005875).\n",
        "\n",
        "\n"
      ]
    },
    {
      "cell_type": "code",
      "metadata": {
        "id": "MqXUlGr6UbAI"
      },
      "source": [
        "def rep_three(N):\n",
        "  return R # The result of your function should be R."
      ],
      "execution_count": null,
      "outputs": []
    },
    {
      "cell_type": "code",
      "metadata": {
        "id": "CCzEYimdUa9Z"
      },
      "source": [
        "rep_three(6) # This should output 24."
      ],
      "execution_count": null,
      "outputs": []
    },
    {
      "cell_type": "code",
      "metadata": {
        "id": "Yoqn17uMUax1"
      },
      "source": [
        ""
      ],
      "execution_count": null,
      "outputs": []
    },
    {
      "cell_type": "markdown",
      "metadata": {
        "id": "qRLhmGVkXd8K"
      },
      "source": [
        "# Challenge 2\n",
        "\n",
        "If $r$ is a positive real number, then the area of the circle of radius $r$ is $\\pi r^2$.  If you place this circle around the origin, on a sheet of graph paper, then you will find *about* $\\pi r^2$ \"grid points\" inside this circle.  The grid points inside the circle form the set\n",
        "$$S = \\{ (x,y) \\in {\\mathbb Z}^2 : x^2 + y^2 < r^2 \\}.$$\n",
        "\n",
        "Define $E(r) = \\pi r^2 - \\# S$ to be the \"error\" -- the difference between the area of the circle and the number of grid points within the circle.  \n",
        "\n",
        "Create a plot with $r$ on the horizontal axis and $E(r)$ on the y-axis.  Try to accomplish this as efficiently as possible, where $r$ ranges from $0$ to $1000$.\n",
        "\n",
        "Can you come up with a good bound $\\vert E(r) \\vert \\leq f(r)$ for some nice function $f(r)$, just by looking at your plot?  I.e., your plot of $E(r)$ should be bounded above by the graph of $y = f(r)$ and below by the graph of $y = -f(r)$.  If you can come up with such a bound, plot it too."
      ]
    },
    {
      "cell_type": "code",
      "source": [
        "# Imports\n",
        "import numpy as np\n",
        "import matplotlib.pyplot as plt"
      ],
      "metadata": {
        "id": "JEje9lMqsX2K"
      },
      "execution_count": null,
      "outputs": []
    },
    {
      "cell_type": "markdown",
      "source": [
        "**Solution:** First, we create a function to count the number of points lying within a circle of radius r. Below I've written two such functions. The first is not very efficient as it tries all possible points within the circle. Also, it doesn't work with non-integer inputs as it uses for loops to do this search.\n",
        "\n",
        "The second function is more efficient and works with floating point radii. In this one, I begin by counting just the points on one axis, not including the origin. This is done by first checking whether $r$ is a whole number or not. I check this by seeing if $r$ mod 1 is equal to 0, that is, if $r$ is an integer multiple of 1. If it is a whole number, then we don't include the point at distance $r$ along the axis, since we just choose points within the circle. This means that there are $r-1$ points along the axis. Since there are 4 axes which are identical, we add 4 times this number to the point count. If $r$ is not a whole number, then we actually include the point at distance $r$ as well, so we add 4 times $r$ points to the count.\n",
        "\n",
        "Next, I count all the points in the first quadrant, but not on the axes. To do this, I iterate over all possible grid points. I could just check whether they were within the circle using the equation of the circle, but it is more efficient to first see if they lie within the square diamond shape formed by placing vertices on points $(\\pm r, 0)$ and $(0, \\pm r)$. To do this, I consider the diagonal line from $(0, r)$ to $(r, 0)$. This line has equation $y=-x+r$, so I can check whether a point is within this boundary by seeing if $x+y$ is less than $r$. Then, if a point is outside this, I use the equation of the circle and see if $x^2+y^2$ is less than $r^2$. For each point found in these ways, I add 4 to the total, since an equivalent point can be found in the other three quadrants.\n",
        "\n",
        "Finally, I add the origin to complete the count."
      ],
      "metadata": {
        "id": "yEPlblvhx8Es"
      }
    },
    {
      "cell_type": "code",
      "metadata": {
        "id": "_gyzNqCaUavY"
      },
      "source": [
        "def count_grid_points_within_circle_inefficient(r):\n",
        "  \"\"\"\n",
        "  Counts the number of grid points within a circle of radius r\n",
        "  These are points satisfying x^2 + y^2 < r^2\n",
        "  This function simply uses this condition to find all points.\n",
        "  Note that this is a rather inefficient way of doing it.\n",
        "  \"\"\"\n",
        "  points = 0\n",
        "  r_sqr = r**2\n",
        "  for i in range(-r+1, r):\n",
        "    for j in range(-r+1, r):\n",
        "      if i**2 + j**2 < r_sqr:\n",
        "        points += 1\n",
        "  return points\n",
        "\n",
        "# A more efficient way of counting the points\n",
        "def count_grid_points_within_circle(r):\n",
        "  \"\"\"\n",
        "  Counts the number of grid points within a circle of radius r.\n",
        "  These are points satisfying x^2 + y^2 < r^2.\n",
        "  To count these, we first count the number of points along the positive x axis.\n",
        "  Then, we count the points within the square diamond with\n",
        "  vertices at (+-r, 0) and (0, +-r). This can be done by finding all\n",
        "  points where x + y < r.\n",
        "  Along the way, we check the remaining region within the circle using the \n",
        "  property x^2+y^2 < r. For both of these, we only count the points \n",
        "  in the first quadrant and multiply by 4. Finally, we add the origin.\n",
        "  \"\"\"\n",
        "  # Return 0 if there is no radius\n",
        "  if r == 0:\n",
        "    return 0\n",
        "  points = 0\n",
        "  r_sqr = r**2\n",
        "  # Count points along an axis\n",
        "  # If r is not a whole number, add 4*r_floor grid points to the \n",
        "  # count instead of 4*(r-1)\n",
        "  if r % 1 != 0:\n",
        "    points += 4*int(r)\n",
        "  else:\n",
        "    points += 4*(r-1)\n",
        "  # Count points in first quadrant, where x != 0, but y >= 0\n",
        "  # Use while loops since r can be a float\n",
        "  i = 1\n",
        "  while i < r:\n",
        "    j = 1\n",
        "    while j < r:\n",
        "      # Add points not on axes\n",
        "      # Each one we find counts for 4, one in each quadrant\n",
        "      # First, check if point is within square diamond\n",
        "      if i + j < r:\n",
        "        points += 4\n",
        "      # else, check if it is between diamond and edge of circle\n",
        "      elif i**2 + j**2 < r_sqr:\n",
        "        points += 4\n",
        "      j += 1\n",
        "    i += 1\n",
        "  # Add the origin\n",
        "  points += 1\n",
        "  return points"
      ],
      "execution_count": null,
      "outputs": []
    },
    {
      "cell_type": "markdown",
      "source": [
        "Let's compare the runtime of the inefficient method and the more efficient method for counting the number of grid points within a circle."
      ],
      "metadata": {
        "id": "AaU8ysuWZ_XA"
      }
    },
    {
      "cell_type": "code",
      "source": [
        "def time_counting_function(f, loops, r):\n",
        "  \"\"\"\n",
        "  Returns the average execution time of function f over loops number of loops\n",
        "  using radius r.\n",
        "  \"\"\"\n",
        "  time_total = 0\n",
        "  for i in range(loops):\n",
        "    start = time.time()\n",
        "    f(r)\n",
        "    end = time.time()\n",
        "    time_total += end-start\n",
        "  return time_total/loops"
      ],
      "metadata": {
        "id": "E2XMkH-HZhIL"
      },
      "execution_count": null,
      "outputs": []
    },
    {
      "cell_type": "markdown",
      "source": [
        "First, the average time for the inefficient method."
      ],
      "metadata": {
        "id": "gFwrh-cpaGKG"
      }
    },
    {
      "cell_type": "code",
      "source": [
        "loops = 20\n",
        "radius = 500\n",
        "print(\"Average runtime of function over {} loops with radius {} was {:.3f} seconds.\".format(loops, radius, time_counting_function(count_grid_points_within_circle_inefficient, loops, radius)))"
      ],
      "metadata": {
        "colab": {
          "base_uri": "https://localhost:8080/"
        },
        "id": "opzire8iZ-p0",
        "outputId": "7e36a7ca-4d6a-47d8-9448-1bb561b6ddac"
      },
      "execution_count": null,
      "outputs": [
        {
          "output_type": "stream",
          "name": "stdout",
          "text": [
            "Average runtime of function over 20 loops with radius 500 was 0.592 seconds.\n"
          ]
        }
      ]
    },
    {
      "cell_type": "markdown",
      "source": [
        "And the same computation for the more efficient method."
      ],
      "metadata": {
        "id": "fwxbt6dpa85b"
      }
    },
    {
      "cell_type": "code",
      "source": [
        "loops = 20\n",
        "radius = 500\n",
        "print(\"Average runtime of function over {} loops with radius {} was {:.3f} seconds.\".format(loops, radius, time_counting_function(count_grid_points_within_circle, loops, radius)))"
      ],
      "metadata": {
        "colab": {
          "base_uri": "https://localhost:8080/"
        },
        "id": "EZyFBEMfbFdE",
        "outputId": "017f11e5-035f-4a3d-8b39-130c1ccaa272"
      },
      "execution_count": null,
      "outputs": [
        {
          "output_type": "stream",
          "name": "stdout",
          "text": [
            "Average runtime of function over 20 loops with radius 500 was 0.112 seconds.\n"
          ]
        }
      ]
    },
    {
      "cell_type": "markdown",
      "source": [
        "Clearly, the second version of the counting function is quite a bit more efficient."
      ],
      "metadata": {
        "id": "uxoGrmmCbaaE"
      }
    },
    {
      "cell_type": "markdown",
      "source": [
        "Here, we define the error function. This is simply the different between the area of the circle with radius $r$ and the number of grid points within the same circle."
      ],
      "metadata": {
        "id": "HkkOEuZlyILd"
      }
    },
    {
      "cell_type": "code",
      "source": [
        "def E(r):\n",
        "  \"\"\"\n",
        "  Return the 'error' between the area of a circle with radius r and the\n",
        "  number of grid points within the circle.\n",
        "  \"\"\"\n",
        "  return np.pi*r**2 - count_grid_points_within_circle(r)"
      ],
      "metadata": {
        "id": "WN1ePdFcyM6k"
      },
      "execution_count": null,
      "outputs": []
    },
    {
      "cell_type": "markdown",
      "source": [
        "We create a plot of the error $E(r)$ for different values of $r$."
      ],
      "metadata": {
        "id": "fmAJ5acWyl8A"
      }
    },
    {
      "cell_type": "code",
      "source": [
        "# Generate error values\n",
        "radii = np.arange(0, 1000, 10)\n",
        "errors = [E(radius) for radius in radii]"
      ],
      "metadata": {
        "id": "F7b-kAZrzIQ2"
      },
      "execution_count": null,
      "outputs": []
    },
    {
      "cell_type": "markdown",
      "source": [
        "Interestingly, despite my efforts to make the counting of grid points efficient, it still takes most of a minute to compute the error values using these 100 radii."
      ],
      "metadata": {
        "id": "MaeHUBFidIej"
      }
    },
    {
      "cell_type": "markdown",
      "source": [
        "Below is the plot containing the errors for 100 equally spaced radii from 0 to 1000. One thing I noticed which was initially surprising is that the error is sometimes negative. That is, the number of grid points contained within the circle is sometimes larger than the area of the circle. Though this initially seemed unlikely, it actually makes sense when one tries some examples. In some cases very small increases in radius can cause the circle to expand just enough to encompass a significant number of extra grid points, even though the area of the circle increases only marginally.\n",
        "\n",
        "I've also plotted a somewhat plausible bounding function given by\n",
        "$$f(r)=\\pi^2\\sqrt{r}$$\n",
        "I came up with this by first trying a linear function based on $r$, but realizing that a square root function would fit the shape of the curve a bit better. Then it was a matter of finding a coefficient which would allow the bound to always be larger than the error. I found a value of 10 does a good job of this on these first error values up to a radius of 1000. Since this problem involves circles, I decided a more appropriate coefficient would be $\\pi^2$, which is approximately $9.87$."
      ],
      "metadata": {
        "id": "VDnz9ktCXg6d"
      }
    },
    {
      "cell_type": "code",
      "source": [
        "fig, ax = plt.subplots(1, 1, figsize=(8, 6))\n",
        "ax.plot(radii, errors, label=\"Errors $E(r)$\")\n",
        "ax.plot(radii, np.pi**2*np.sqrt(radii), label=\"Upper bound $\\pi^2\\sqrt{r}$\")\n",
        "ax.plot(radii, -np.pi**2*np.sqrt(radii), label=\"Lower bound $-\\pi^2\\sqrt{r}$\")\n",
        "plt.xlabel(\"Radius ($r$)\")\n",
        "plt.ylabel(\"$E(r)$\")\n",
        "ax.legend()\n",
        "plt.show()"
      ],
      "metadata": {
        "colab": {
          "base_uri": "https://localhost:8080/",
          "height": 391
        },
        "id": "XCUUAV_Aywaj",
        "outputId": "472918bb-458b-4756-8a89-dab18ce8fe36"
      },
      "execution_count": null,
      "outputs": [
        {
          "output_type": "display_data",
          "data": {
            "text/plain": [
              "<Figure size 576x432 with 1 Axes>"
            ],
            "image/png": "[encoded data removed]"
          },
          "metadata": {
            "needs_background": "light"
          }
        }
      ]
    },
    {
      "cell_type": "markdown",
      "source": [
        "Here I check whether the bound works for all radii plotted above. Comparing numpy arrays returns an array of booleans where the comparison is applied componentwise. Then, I just check whether all those booleans are true."
      ],
      "metadata": {
        "id": "OuG2aUkmYeEf"
      }
    },
    {
      "cell_type": "code",
      "source": [
        "# Does this bound actually work?\n",
        "if np.alltrue(np.abs(np.array(errors)) <= np.pi**2*np.sqrt(radii)):\n",
        "  print(\"This bound holds for all errors in our list\")\n",
        "else:\n",
        "  print(\"This bound does not hold for all errors in the list\")"
      ],
      "metadata": {
        "colab": {
          "base_uri": "https://localhost:8080/"
        },
        "id": "FQCtJlckWEzp",
        "outputId": "6e8de8fa-a075-4670-e61b-ddf19ffd60e9"
      },
      "execution_count": null,
      "outputs": [
        {
          "output_type": "stream",
          "name": "stdout",
          "text": [
            "This bound holds for all errors in our list\n"
          ]
        }
      ]
    },
    {
      "cell_type": "markdown",
      "source": [
        "Note that it's very possible that this bound fails for radii larger than 1000, either for radii just a bit bigger or for radii much larger. Also, a smaller coefficient on the square root function would probably provide a tighter bound, but it's hard to say just how big that coefficient must be, so I've left it with $\\pi^2$."
      ],
      "metadata": {
        "id": "yAkSeVovYkob"
      }
    },
    {
      "cell_type": "markdown",
      "metadata": {
        "id": "kYWSMHMsY853"
      },
      "source": [
        "# Challenge 3\n",
        "\n",
        "The following result was found by Euler, but I've changed his numbers to $A$ and $B$ to make your life hard.\n",
        "\n",
        "Theorem:  A prime number $p$ can be expressed in the form $x^2 + 3 y^2$ if and only if $p$ is congruent to $A$ modulo $B$ (i.e., `p % B == A`).  \n",
        "\n",
        "Use experimental techniques to determine $A$ and $B$.  Now try the same for $3$ replaced by $4,5,6,7,8,9$. "
      ]
    },
    {
      "cell_type": "markdown",
      "metadata": {
        "id": "Zg0Nc1e6aDi7"
      },
      "source": [
        "# Challenge 4\n",
        "\n",
        "Pascal's triangle has $1$ in the first row, then $1, 1$ in the second rod, then $1,2,1$ in the third row, etc.  One can place these numbers in a triangle, with \"rows\" as diagonals, as drawn below.\n",
        "\n",
        "1 1 1 1 1 1\n",
        "\n",
        "1 2 3 4 5\n",
        "\n",
        "1 3 6 10\n",
        "\n",
        "1 4 10\n",
        "\n",
        "1 5\n",
        "\n",
        "1\n",
        "\n",
        "Et cetera.\n",
        "\n",
        "Turn these numbers into black and white dots, depending on whether they are even (black) or odd (white).  This produces an image like the following:\n",
        "\n",
        "X X X X X X\n",
        "\n",
        "X O X O X\n",
        "\n",
        "X X O O\n",
        "\n",
        "X O O\n",
        "\n",
        "X X\n",
        "\n",
        "X\n",
        "\n",
        "Now perform this in PIL, to create an image that fills the top-left triangle in an image of at least 200 x 200 pixels.  You should *not* be computing giant numbers like 200 factorial!  Each row of Pascal's triangle can be computed from the previous by addition... and you can perform this \"mod 2\" all the way through.\n",
        "\n",
        "Extra fun:  instead of black/white dots for even/odd, try colors based on remainders after dividing by three, by four, etc.\n"
      ]
    },
    {
      "cell_type": "markdown",
      "source": [
        "**Solution:** In this challenge, I first generate a list representation of Pascal's Triangle, where each element in the list is a list containing the values along that row of the triangle. I've set this up so that I can input a modulus that the function will reduce elements of the triangle with. This allows the construction of a large number of rows of the triangle without dealing with numbers much larger than the modulus. It also makes it easy to create an image of the resulting structure where colors depend on modular values."
      ],
      "metadata": {
        "id": "7RqtwxkvedKJ"
      }
    },
    {
      "cell_type": "code",
      "source": [
        "# Imports\n",
        "from PIL import Image"
      ],
      "metadata": {
        "id": "WStBciqMJhH4"
      },
      "execution_count": null,
      "outputs": []
    },
    {
      "cell_type": "code",
      "source": [
        "def generate_triangle(N, mod=None):\n",
        "  \"\"\"\n",
        "  Generate a list representation of Pascal's triangel with N rows.\n",
        "  Each row will be a sublist in the triangle list, with the first row\n",
        "  being the first element, the second the second element, and so on.\n",
        "  Reduce each element modulo mod if mod is not None.\n",
        "  \"\"\"\n",
        "  # Triangle list, containing the first row\n",
        "  triangle_list = [[1]]\n",
        "  # For each successive row, the number of elements increases by 1, and the\n",
        "  # first and last elements are always 1. To fill the elements in between,\n",
        "  # one takes the previous row and creates sums from each element and the one after\n",
        "  # it. These are then the elements for the new row.\n",
        "  for i in range(N-1):\n",
        "    previous_row = triangle_list[-1]\n",
        "    new_row = [1]*(len(previous_row) + 1)\n",
        "    # Sum each element and the one after in the previous row and replace the values\n",
        "    # in between the 1's with those sums\n",
        "    if mod:\n",
        "      new_row[1:len(new_row)-1] = [(previous_row[index]+previous_row[index+1]) % mod for index in range(len(previous_row)-1)]\n",
        "    else:\n",
        "      new_row[1:len(new_row)-1] = [previous_row[index]+previous_row[index+1] for index in range(len(previous_row)-1)]\n",
        "    triangle_list.append(new_row)\n",
        "    #for j in range(1, len(new_row)-1):\n",
        "  return triangle_list"
      ],
      "metadata": {
        "id": "HhR06SceJ4uX"
      },
      "execution_count": null,
      "outputs": []
    },
    {
      "cell_type": "code",
      "source": [
        "# First 5 rows of the triangle\n",
        "print(generate_triangle(5))\n",
        "# The first 5 rows of the triangle mod 2\n",
        "print(generate_triangle(5, 2))"
      ],
      "metadata": {
        "colab": {
          "base_uri": "https://localhost:8080/"
        },
        "id": "C9UMIqusNJPC",
        "outputId": "d5cf2b79-8089-4082-afc0-16ba1cdf0cfa"
      },
      "execution_count": null,
      "outputs": [
        {
          "output_type": "stream",
          "name": "stdout",
          "text": [
            "[[1], [1, 1], [1, 2, 1], [1, 3, 3, 1], [1, 4, 6, 4, 1]]\n",
            "[[1], [1, 1], [1, 0, 1], [1, 1, 1, 1], [1, 0, 0, 0, 1]]\n"
          ]
        }
      ]
    },
    {
      "cell_type": "markdown",
      "source": [
        "The function below returns a numpy array representing the final image. One can give the function the modulus by which to reduce the values in Pascal's Triangle, as well as an array of colors that should be used to color those values. The array should have the same length as the size of the modulus, since there will be that many different values appearing in the triangle. By default, it reduces modulo 2 and colors the even numbers black and the odd numbers white. This function returns an NxN pixel image, where N is an input. In this way, the upper left half of the image is always exactly filled by the first N rows of Pascal's Triangle."
      ],
      "metadata": {
        "id": "c8BsyQrgfAWM"
      }
    },
    {
      "cell_type": "code",
      "source": [
        "# Create an image array which has NxN pixels and shows the values in Pascal's triangle along diagonals\n",
        "def create_triangle_image(N, mod=2, colors=[np.array([0, 0, 0]), np.array([255, 255, 255])]):\n",
        "  \"\"\"\n",
        "  Generate the first N rows of Pascal's triangle. Then, create an image\n",
        "  where the rows of Pascal's triangle are placed along diagonals and the color\n",
        "  depends on the value of the number modulo mod.\n",
        "  The colors parameter is a list containing the colors which will be displayed depending\n",
        "  on the value of the number modulo mod. The length of this list must be the same as\n",
        "  the size of mod.\n",
        "  \"\"\"\n",
        "  if len(colors) != mod:\n",
        "    raise ValueError(\"Length of list of colors must match size of mod\")\n",
        "  # First, get the triangle with N rows, with values reduce modulo mod\n",
        "  triangle = generate_triangle(N, mod)\n",
        "  # Create an image array\n",
        "  image_array = np.zeros((N, N, 3), dtype=np.uint8)\n",
        "  # Fill the first row with the first element of each row in the triangle, the second\n",
        "  # row in the image with the second elements, and so on\n",
        "  # i keeps track of the row we are working with\n",
        "  for i in range(N):\n",
        "    # j keeps track of the pixel along that row we are looking at\n",
        "    # we only increment j if the row of the triangle we are considering has a\n",
        "    # value in the ith position\n",
        "    j = 0\n",
        "    for row in triangle:\n",
        "      # The row must be long enough to have a value to place\n",
        "      if len(row) > i:\n",
        "        # Set the color equal to the value in the color array\n",
        "        image_array[i, j] = colors[row[i]]\n",
        "        j += 1\n",
        "  return image_array"
      ],
      "metadata": {
        "id": "AxjI8i9fOjr-"
      },
      "execution_count": null,
      "outputs": []
    },
    {
      "cell_type": "markdown",
      "source": [
        "Here is a black and white version of the image, where pixels are black if the value in Pascal's triangle which is placed there is even and white if that value is odd."
      ],
      "metadata": {
        "id": "5Z75q-zsXzXT"
      }
    },
    {
      "cell_type": "code",
      "source": [
        "# A black and white version mod 2\n",
        "triangle_image = Image.fromarray(create_triangle_image(500))\n",
        "display(triangle_image)"
      ],
      "metadata": {
        "colab": {
          "base_uri": "https://localhost:8080/",
          "height": 517
        },
        "id": "ZUe_-YXySqqh",
        "outputId": "40be6bcb-fbb9-49d9-a9cb-2b4ad5f3057c"
      },
      "execution_count": null,
      "outputs": [
        {
          "output_type": "display_data",
          "data": {
            "text/plain": [
              "<PIL.Image.Image image mode=RGB size=500x500 at 0x7F6F456F3290>"
            ],
            "image/png": "[encoded data removed]"
          },
          "metadata": {}
        }
      ]
    },
    {
      "cell_type": "markdown",
      "source": [
        "Here is a picture where the color depends on the value modulo 3. A pixel is black if the number is congruent to 0 mod 3, blue if it is congruent to 1 mod 3, and red if it is congruent to 2 mod 3."
      ],
      "metadata": {
        "id": "PyZw_WjRYBtY"
      }
    },
    {
      "cell_type": "code",
      "source": [
        "# Black, Blue, and Red image\n",
        "colors = [np.array([0, 0, 0]), np.array([0, 0, 255]), np.array([255, 0, 0])]\n",
        "triangle_image = Image.fromarray(create_triangle_image(500, 3, colors))\n",
        "display(triangle_image)"
      ],
      "metadata": {
        "colab": {
          "base_uri": "https://localhost:8080/",
          "height": 517
        },
        "id": "8CR4gLTGYJ0L",
        "outputId": "722f4f16-3f4e-4155-fd3e-61fe3251f03e"
      },
      "execution_count": null,
      "outputs": [
        {
          "output_type": "display_data",
          "data": {
            "text/plain": [
              "<PIL.Image.Image image mode=RGB size=500x500 at 0x7F6F4575B690>"
            ],
            "image/png": "[encoded data removed]"
          },
          "metadata": {}
        }
      ]
    },
    {
      "cell_type": "markdown",
      "source": [
        "This image shows that blue and red values are quite mixed, though one gets triangles which are predominantly one or the other."
      ],
      "metadata": {
        "id": "ckx2n2ZwZvni"
      }
    },
    {
      "cell_type": "markdown",
      "source": [
        "Below is another picture where the color depends on the value modulo 4. A pixel is black if the number is congruent to 0 mod 4, blue if it is congruent to 1 mod 4, red if it is congruent to 2 mod 4, and green if congruent to 3 mod 4."
      ],
      "metadata": {
        "id": "MLR-mAn-Y5bo"
      }
    },
    {
      "cell_type": "code",
      "source": [
        "# Black, Blue, Red, and Green image\n",
        "colors = [np.array([0, 0, 0]), np.array([0, 0, 255]), np.array([255, 0, 0]), np.array([0, 255, 0])]\n",
        "triangle_image = Image.fromarray(create_triangle_image(500, 4, colors))\n",
        "display(triangle_image)"
      ],
      "metadata": {
        "colab": {
          "base_uri": "https://localhost:8080/",
          "height": 517
        },
        "outputId": "0bb29323-d82a-43c1-9955-e5e97e6212ce",
        "id": "dB9Nb7kTY5bp"
      },
      "execution_count": null,
      "outputs": [
        {
          "output_type": "display_data",
          "data": {
            "text/plain": [
              "<PIL.Image.Image image mode=RGB size=500x500 at 0x7F6F476FCC90>"
            ],
            "image/png": "[encoded data removed]"
          },
          "metadata": {}
        }
      ]
    },
    {
      "cell_type": "markdown",
      "source": [
        "This image is interesting because we get large triangles where the only colors are red and black, meaning values in that region are congruent to 0 or 2 mod 4. The green and blue colors are a lot more mixed (values congruent to 1 or 3 mod 4), but one does get solid lines of these colors along the tops of trangles."
      ],
      "metadata": {
        "id": "Q9gzNgpdZWCc"
      }
    },
    {
      "cell_type": "markdown",
      "metadata": {
        "id": "qjBNKFCd95sS"
      },
      "source": [
        "# Challenge 5\n",
        "\n",
        "Often when visualizing time-series data, it makes sense to look not at day-by-day changes, but rather at a 7-day rolling average.  For example, when looking at Covid-19 cases, there are reporting fluctuations from day to day, so instead it is usually better to look at the average number of cases over the previous 7 days.\n",
        "\n",
        "Write a function `def rolling(A, window=7):` which takes as input a one-dimensional numpy array `A`, and a parameter `window` whose default value is `7`.  The function must return an array `R` whose length is shorter than the length of `A`.  The entry `R[j]` should be the **average** of `A[j]`, `A[j+1]`, etc., up to `A[j+window-1]`.  \n",
        "\n",
        "Then use this function and matplotlib to produce a plot:  a line plot of the array `A` produced below, and a line plot of the 7-day rolling average `R` produced by your function.  These plots should be on the same figure, and clearly labeled.\n"
      ]
    },
    {
      "cell_type": "code",
      "metadata": {
        "id": "lu-pNl8SbeEG"
      },
      "source": [
        "# Here is the code to produce your test array A.\n",
        "# Please use this array in your plot!\n",
        "\n",
        "x_array = np.arange(300)\n",
        "A = 5*(x_array/200)**2\n",
        "A = A + np.random.random(len(A))"
      ],
      "execution_count": null,
      "outputs": []
    },
    {
      "cell_type": "code",
      "metadata": {
        "id": "oq5NDBV4_tCs"
      },
      "source": [
        "# Please use this code to import matplotlib.\n",
        "import matplotlib.pyplot as plt"
      ],
      "execution_count": null,
      "outputs": []
    },
    {
      "cell_type": "code",
      "metadata": {
        "id": "9BM_gTge_6rb",
        "colab": {
          "base_uri": "https://localhost:8080/",
          "height": 282
        },
        "outputId": "a9d1c3d4-dd51-4d3f-f2db-ab16725cbe52"
      },
      "source": [
        "# Here is a plot of the array, to get you started.  \n",
        "plt.plot(x_array, A)\n",
        "\n",
        "# Now it's time to write your function to produce the 7-day rolling average, add it to the plot, and make everything clear and labeled."
      ],
      "execution_count": null,
      "outputs": [
        {
          "output_type": "execute_result",
          "data": {
            "text/plain": [
              "[<matplotlib.lines.Line2D at 0x7f6f48006750>]"
            ]
          },
          "metadata": {},
          "execution_count": 54
        },
        {
          "output_type": "display_data",
          "data": {
            "text/plain": [
              "<Figure size 432x288 with 1 Axes>"
            ],
            "image/png": "[encoded data removed]"
          },
          "metadata": {
            "needs_background": "light"
          }
        }
      ]
    },
    {
      "cell_type": "code",
      "metadata": {
        "id": "3OlNFd1xJ1CV"
      },
      "source": [
        ""
      ],
      "execution_count": null,
      "outputs": []
    }
  ]
}