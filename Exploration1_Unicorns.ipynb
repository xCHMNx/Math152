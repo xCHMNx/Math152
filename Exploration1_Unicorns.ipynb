{
  "nbformat": 4,
  "nbformat_minor": 0,
  "metadata": {
    "colab": {
      "name": "Exploration1_Unicorns.ipynb",
      "provenance": [],
      "collapsed_sections": [
        "3tINUrWgwKVV"
      ],
      "toc_visible": true,
      "include_colab_link": true
    },
    "kernelspec": {
      "name": "python3",
      "display_name": "Python 3"
    },
    "language_info": {
      "name": "python"
    }
  },
  "cells": [
    {
      "cell_type": "markdown",
      "metadata": {
        "id": "view-in-github",
        "colab_type": "text"
      },
      "source": [
        "<a href=\"https://colab.research.google.com/github/xCHMNx/Math152/blob/main/Exploration1_Unicorns.ipynb\" target=\"_parent\"><img src=\"https://colab.research.google.com/assets/colab-badge.svg\" alt=\"Open In Colab\"/></a>"
      ]
    },
    {
      "cell_type": "markdown",
      "source": [
        "# The $3n+1$ Conjecture\n",
        "\n",
        "Authored by Wyeth Levi, Colin Harmon, and Cassandra Jensen"
      ],
      "metadata": {
        "id": "nupHP2iFRR2I"
      }
    },
    {
      "cell_type": "markdown",
      "source": [
        "The basis of this project is a simple algorithm. Given a positive integer $n$, if the integer is even, we will divide it by $2$. If odd, we will multiply by $3$ and add $1$. When we do this a certain number of times, according to the Collatz Conjecture, the algorithm will always converge to a pattern of $4,2,1,4,2,1...$, though this has not been formally proved. Below is the basic, un-optimized algorithm. Later we will modify it to let us explore the conjecture in greater detail."
      ],
      "metadata": {
        "id": "FQ2vVJkqWD3q"
      }
    },
    {
      "cell_type": "code",
      "execution_count": 1,
      "metadata": {
        "id": "LW4X0QJ1Q7LK"
      },
      "outputs": [],
      "source": [
        "'''This is the initial algorithm'''\n",
        "def conjecture(n):\n",
        "  n_0 = n\n",
        "  while n != 1:\n",
        "    print(\"The value is now: \", n)\n",
        "    if n %2 == 0:\n",
        "      n = n//2\n",
        "    else:\n",
        "      n = 3*n + 1\n",
        "  print(\"Finally the value is: \",n)"
      ]
    },
    {
      "cell_type": "markdown",
      "source": [
        "And so now we can see that the pattern we were expecting appears. As requested by the assignment directions, we will see if this pattern arises for very large numbers."
      ],
      "metadata": {
        "id": "S8RGq2pVYVPV"
      }
    },
    {
      "cell_type": "code",
      "source": [
        "conjecture(1000000)"
      ],
      "metadata": {
        "colab": {
          "base_uri": "https://localhost:8080/"
        },
        "id": "l6sZS_IJS1Qn",
        "outputId": "a5bbba38-82b2-46e9-fb68-3e2e238d970d"
      },
      "execution_count": 2,
      "outputs": [
        {
          "output_type": "stream",
          "name": "stdout",
          "text": [
            "The value is now:  1000000\n",
            "The value is now:  500000\n",
            "The value is now:  250000\n",
            "The value is now:  125000\n",
            "The value is now:  62500\n",
            "The value is now:  31250\n",
            "The value is now:  15625\n",
            "The value is now:  46876\n",
            "The value is now:  23438\n",
            "The value is now:  11719\n",
            "The value is now:  35158\n",
            "The value is now:  17579\n",
            "The value is now:  52738\n",
            "The value is now:  26369\n",
            "The value is now:  79108\n",
            "The value is now:  39554\n",
            "The value is now:  19777\n",
            "The value is now:  59332\n",
            "The value is now:  29666\n",
            "The value is now:  14833\n",
            "The value is now:  44500\n",
            "The value is now:  22250\n",
            "The value is now:  11125\n",
            "The value is now:  33376\n",
            "The value is now:  16688\n",
            "The value is now:  8344\n",
            "The value is now:  4172\n",
            "The value is now:  2086\n",
            "The value is now:  1043\n",
            "The value is now:  3130\n",
            "The value is now:  1565\n",
            "The value is now:  4696\n",
            "The value is now:  2348\n",
            "The value is now:  1174\n",
            "The value is now:  587\n",
            "The value is now:  1762\n",
            "The value is now:  881\n",
            "The value is now:  2644\n",
            "The value is now:  1322\n",
            "The value is now:  661\n",
            "The value is now:  1984\n",
            "The value is now:  992\n",
            "The value is now:  496\n",
            "The value is now:  248\n",
            "The value is now:  124\n",
            "The value is now:  62\n",
            "The value is now:  31\n",
            "The value is now:  94\n",
            "The value is now:  47\n",
            "The value is now:  142\n",
            "The value is now:  71\n",
            "The value is now:  214\n",
            "The value is now:  107\n",
            "The value is now:  322\n",
            "The value is now:  161\n",
            "The value is now:  484\n",
            "The value is now:  242\n",
            "The value is now:  121\n",
            "The value is now:  364\n",
            "The value is now:  182\n",
            "The value is now:  91\n",
            "The value is now:  274\n",
            "The value is now:  137\n",
            "The value is now:  412\n",
            "The value is now:  206\n",
            "The value is now:  103\n",
            "The value is now:  310\n",
            "The value is now:  155\n",
            "The value is now:  466\n",
            "The value is now:  233\n",
            "The value is now:  700\n",
            "The value is now:  350\n",
            "The value is now:  175\n",
            "The value is now:  526\n",
            "The value is now:  263\n",
            "The value is now:  790\n",
            "The value is now:  395\n",
            "The value is now:  1186\n",
            "The value is now:  593\n",
            "The value is now:  1780\n",
            "The value is now:  890\n",
            "The value is now:  445\n",
            "The value is now:  1336\n",
            "The value is now:  668\n",
            "The value is now:  334\n",
            "The value is now:  167\n",
            "The value is now:  502\n",
            "The value is now:  251\n",
            "The value is now:  754\n",
            "The value is now:  377\n",
            "The value is now:  1132\n",
            "The value is now:  566\n",
            "The value is now:  283\n",
            "The value is now:  850\n",
            "The value is now:  425\n",
            "The value is now:  1276\n",
            "The value is now:  638\n",
            "The value is now:  319\n",
            "The value is now:  958\n",
            "The value is now:  479\n",
            "The value is now:  1438\n",
            "The value is now:  719\n",
            "The value is now:  2158\n",
            "The value is now:  1079\n",
            "The value is now:  3238\n",
            "The value is now:  1619\n",
            "The value is now:  4858\n",
            "The value is now:  2429\n",
            "The value is now:  7288\n",
            "The value is now:  3644\n",
            "The value is now:  1822\n",
            "The value is now:  911\n",
            "The value is now:  2734\n",
            "The value is now:  1367\n",
            "The value is now:  4102\n",
            "The value is now:  2051\n",
            "The value is now:  6154\n",
            "The value is now:  3077\n",
            "The value is now:  9232\n",
            "The value is now:  4616\n",
            "The value is now:  2308\n",
            "The value is now:  1154\n",
            "The value is now:  577\n",
            "The value is now:  1732\n",
            "The value is now:  866\n",
            "The value is now:  433\n",
            "The value is now:  1300\n",
            "The value is now:  650\n",
            "The value is now:  325\n",
            "The value is now:  976\n",
            "The value is now:  488\n",
            "The value is now:  244\n",
            "The value is now:  122\n",
            "The value is now:  61\n",
            "The value is now:  184\n",
            "The value is now:  92\n",
            "The value is now:  46\n",
            "The value is now:  23\n",
            "The value is now:  70\n",
            "The value is now:  35\n",
            "The value is now:  106\n",
            "The value is now:  53\n",
            "The value is now:  160\n",
            "The value is now:  80\n",
            "The value is now:  40\n",
            "The value is now:  20\n",
            "The value is now:  10\n",
            "The value is now:  5\n",
            "The value is now:  16\n",
            "The value is now:  8\n",
            "The value is now:  4\n",
            "The value is now:  2\n",
            "Finally the value is:  1\n"
          ]
        }
      ]
    },
    {
      "cell_type": "markdown",
      "source": [
        "At the very end, we see it outputs the expected pattern $4,2,1$. \n",
        "\n",
        "Another aspect we want to look at is the time it takes for such a program to run. So that we do not overload the reader with many lines printing out values, we will remove the print statements from the function. This will allow the %timeit function to show us the runtime and not give information that is not currently relevant. "
      ],
      "metadata": {
        "id": "JGXlkG3-ZOBF"
      }
    },
    {
      "cell_type": "code",
      "source": [
        "def conjecture(n):\n",
        "  n_0 = n\n",
        "  num_loops = 0\n",
        "  while n != 1:\n",
        "    if num_loops > 10**6: # If our while loop has run this long, we may have found a counter-example to the conjecture\n",
        "      print(\"We haven't reached 1 in 1 million steps.\")\n",
        "      return False\n",
        "    if n %2 == 0:\n",
        "      n = n//2\n",
        "    else:\n",
        "      n = 3*n + 1\n",
        "    num_loops += 1\n",
        "  return True"
      ],
      "metadata": {
        "id": "M0NBOlBgZJXk"
      },
      "execution_count": 3,
      "outputs": []
    },
    {
      "cell_type": "code",
      "source": [
        "import time\n",
        "%timeit conjecture(1000000)"
      ],
      "metadata": {
        "id": "oSWuZjNCZlIT",
        "colab": {
          "base_uri": "https://localhost:8080/"
        },
        "outputId": "65d66be9-5ad3-474f-f481-3e783abe5aa3"
      },
      "execution_count": 4,
      "outputs": [
        {
          "output_type": "stream",
          "name": "stdout",
          "text": [
            "10000 loops, best of 5: 24.5 µs per loop\n"
          ]
        }
      ]
    },
    {
      "cell_type": "markdown",
      "source": [
        "## Testing the first $10^6$ integers\n",
        "We now want to explore whether this conjecture is at least plausibly true. That is, we are going to check the first $10^6$ positive integers to see whether the Collatz conjecture holds or not. This is by no means a proof, but if we do not find a counter-example in $10^6$ integers, then it is at least not obviously false."
      ],
      "metadata": {
        "id": "FrzMrf6Jmpkh"
      }
    },
    {
      "cell_type": "code",
      "source": [
        "N = 10**6\n",
        "# We want to check the conjecture for all numbers up to N\n",
        "num_follow_conjecture = 0\n",
        "for i in range(1, N+1, 1):\n",
        "  if conjecture(i):\n",
        "    num_follow_conjecture += 1\n",
        "print(\"{:d} of the first {:d} numbers tested follow the Collatz conjecture.\".format(num_follow_conjecture, N))"
      ],
      "metadata": {
        "id": "cJ_Pz7HhnCl-",
        "colab": {
          "base_uri": "https://localhost:8080/"
        },
        "outputId": "0b87d0df-a2df-4662-f635-a66020b64ee5"
      },
      "execution_count": 5,
      "outputs": [
        {
          "output_type": "stream",
          "name": "stdout",
          "text": [
            "1000000 of the first 1000000 numbers tested follow the Collatz conjecture.\n"
          ]
        }
      ]
    },
    {
      "cell_type": "markdown",
      "source": [
        "We see that every one of the first 1 million positive integers follows the Collatz Conjecture. That is, by following the rules of the $3n+1$ problem, every single one of them eventually finds its way to the loop $4, 2, 1, 4, 2, 1,\\dots$"
      ],
      "metadata": {
        "id": "dGZWOZ8x7xRQ"
      }
    },
    {
      "cell_type": "markdown",
      "source": [
        "###Edge case: $0$\n",
        "The actual Collatz conjecture is limited to positive intigers, which does not include $0$. But, because we are going to be testing out various inputs, it might be worth mentioning the edge case of $n=0$. It is not necessary to run the code, however for good measure it is done below. Because $0$ is even, and $0$ divided by 2 will be $0$, we effectively end up in an infinite loop that will just keep divining $0$ by $2$. "
      ],
      "metadata": {
        "id": "I5RWTZsrkAjM"
      }
    },
    {
      "cell_type": "code",
      "source": [
        "conjecture(0)"
      ],
      "metadata": {
        "colab": {
          "base_uri": "https://localhost:8080/"
        },
        "id": "9VkHLY_mkfuX",
        "outputId": "e9904ce9-1fa2-4ba0-f190-031055c790c6"
      },
      "execution_count": 6,
      "outputs": [
        {
          "output_type": "stream",
          "name": "stdout",
          "text": [
            "We haven't reached 1 in 1 million steps.\n"
          ]
        },
        {
          "output_type": "execute_result",
          "data": {
            "text/plain": [
              "False"
            ]
          },
          "metadata": {},
          "execution_count": 6
        }
      ]
    },
    {
      "cell_type": "markdown",
      "source": [
        "And thus we see that the pattern never arises when we use $0$."
      ],
      "metadata": {
        "id": "oq3zUQJwk-ah"
      }
    },
    {
      "cell_type": "markdown",
      "source": [
        "## Negative numbers\n",
        "\n",
        "Here we explore the behavior of negative inputs to the $3n+1$ conjecture."
      ],
      "metadata": {
        "id": "6xac3hr4YNF1"
      }
    },
    {
      "cell_type": "markdown",
      "source": [
        "The function below allows us to explore the patterns of a given input without risk of getting stuck in an infinite loop. Instead, we simply explore the progression for a certain number of iterations."
      ],
      "metadata": {
        "id": "64QmeHTNE1bp"
      }
    },
    {
      "cell_type": "code",
      "source": [
        "#This algorithm is safe to use to explore, as it will only go for a certain number of loops\n",
        "def limited_conjecture(n, loops):\n",
        "  n_0 = n\n",
        "  num_loops = 0\n",
        "  while n != 1:\n",
        "    num_loops += 1\n",
        "    if num_loops > loops:\n",
        "      return\n",
        "    print(\"The value is now: \", n)\n",
        "    if n %2 == 0:\n",
        "      n = n//2\n",
        "    else:\n",
        "      n = 3*n + 1"
      ],
      "metadata": {
        "id": "dgnMo80PYaS5"
      },
      "execution_count": 7,
      "outputs": []
    },
    {
      "cell_type": "code",
      "source": [
        "limited_conjecture(-17, 20)"
      ],
      "metadata": {
        "colab": {
          "base_uri": "https://localhost:8080/"
        },
        "id": "gfI_u-6dYvUu",
        "outputId": "b6552e64-bb47-4609-ac5b-084b794160c2"
      },
      "execution_count": 8,
      "outputs": [
        {
          "output_type": "stream",
          "name": "stdout",
          "text": [
            "The value is now:  -17\n",
            "The value is now:  -50\n",
            "The value is now:  -25\n",
            "The value is now:  -74\n",
            "The value is now:  -37\n",
            "The value is now:  -110\n",
            "The value is now:  -55\n",
            "The value is now:  -164\n",
            "The value is now:  -82\n",
            "The value is now:  -41\n",
            "The value is now:  -122\n",
            "The value is now:  -61\n",
            "The value is now:  -182\n",
            "The value is now:  -91\n",
            "The value is now:  -272\n",
            "The value is now:  -136\n",
            "The value is now:  -68\n",
            "The value is now:  -34\n",
            "The value is now:  -17\n",
            "The value is now:  -50\n"
          ]
        }
      ]
    },
    {
      "cell_type": "markdown",
      "source": [
        "Notice that by the nature of the conjecture, any power of 2 will automatically fall down to the value 2 by repeated division by 2. This then falls into the loop $-2, -1, -2,\\dots$ which is a loop of length 2 which didn't exist for the positive integers."
      ],
      "metadata": {
        "id": "mAkY7NIegd0g"
      }
    },
    {
      "cell_type": "markdown",
      "source": [
        "When we look at the behavior of -5 in the conjecture, we see that a new loop appears. This loop follows the pattern $-5, -14, -7, -20, -10, -5, \\dots$ This is a loop of length 5."
      ],
      "metadata": {
        "id": "HsIEVfRlbmXI"
      }
    },
    {
      "cell_type": "markdown",
      "source": [
        "Testing -17, we get a different loop again. This loop is even longer, with 18 numbers, following the pattern $-17, -50, -25, -74, -37, -110, -55, -164, -82, -41, -122, -61, -182, -91, -272, -136, -68, -34, -17, \\dots$."
      ],
      "metadata": {
        "id": "WXI3KgsOb-fk"
      }
    },
    {
      "cell_type": "markdown",
      "source": [
        "### An observation about the negative integers\n",
        "\n",
        "We see that when we run the conjecture on the value of -1, we immediately fall into the loop $-1, -2, -1, \\dots$ mentioned above. Then, running the conjecture on an input incremented by -14, i.e. -15, it seems that the process eventually converges to that same loop. Testing the first few options, we see that $-15, -29, -43, -57,\\dots$ all follow the same pattern.\n",
        "\n",
        "We hypothesize that this is true in general. That is, that any number congruent to -1 modulo 14 will converge to the loop $-1, -2, -1, \\dots$ eventually."
      ],
      "metadata": {
        "id": "ncNBCzRCdfGT"
      }
    },
    {
      "cell_type": "markdown",
      "source": [
        "To test this theory, the function below checks the first k numbers congruent to -1 mod 14 and sees if they converge to the same loop."
      ],
      "metadata": {
        "id": "g6tYXiv0G80a"
      }
    },
    {
      "cell_type": "code",
      "source": [
        "def test_values_mod_14(k):\n",
        "  \"\"\"\n",
        "  Check first k numbers congruent to -1 mod 14\n",
        "  \"\"\"\n",
        "  for k in range(-1, -14*k, -14):\n",
        "    num_loops = 0\n",
        "    follows_pattern = True\n",
        "    n = k\n",
        "    while n != -1:\n",
        "      if num_loops > 10**6: # If our while loop has run this long, we may have found a counter-example to the conjecture\n",
        "        follows_pattern = False\n",
        "        break\n",
        "      if n %2 == 0:\n",
        "        n = n//2\n",
        "      else:\n",
        "        n = 3*n + 1\n",
        "      num_loops += 1\n",
        "    print(\"{}: {}\".format(k, follows_pattern))"
      ],
      "metadata": {
        "id": "x3DqM0dQkDR2"
      },
      "execution_count": 9,
      "outputs": []
    },
    {
      "cell_type": "code",
      "source": [
        "test_values_mod_14(25)"
      ],
      "metadata": {
        "colab": {
          "base_uri": "https://localhost:8080/"
        },
        "id": "F1PaCyvdl0wR",
        "outputId": "110fef04-07c4-4605-f0ab-934d8768b414"
      },
      "execution_count": 10,
      "outputs": [
        {
          "output_type": "stream",
          "name": "stdout",
          "text": [
            "-1: True\n",
            "-15: True\n",
            "-29: True\n",
            "-43: True\n",
            "-57: True\n",
            "-71: True\n",
            "-85: True\n",
            "-99: False\n",
            "-113: True\n",
            "-127: True\n",
            "-141: True\n",
            "-155: True\n",
            "-169: True\n",
            "-183: True\n",
            "-197: False\n",
            "-211: True\n",
            "-225: False\n",
            "-239: False\n",
            "-253: True\n",
            "-267: False\n",
            "-281: False\n",
            "-295: False\n",
            "-309: True\n",
            "-323: False\n",
            "-337: False\n"
          ]
        }
      ]
    },
    {
      "cell_type": "markdown",
      "source": [
        "We see that our conjecture that all values congruent to -1 modulo 14 converge to the loop $-2, -1, -2,\\dots$ is false by counterexample. The first value for which this fails is -99. Interestingly though, it holds for 13 of the first 14 examples."
      ],
      "metadata": {
        "id": "f5pDUR4umM4V"
      }
    },
    {
      "cell_type": "markdown",
      "source": [
        "We haven't been able to find loops in the negative numbers other than these three, nor any loops in the positive numbers other than just the one, so we theorize that there exist three loops in the negative integers and just the one in the positive integers (re-stating the Collatz conjecture).\n",
        "\n",
        "To explore these claims, we consider a more thorough search for patterns..."
      ],
      "metadata": {
        "id": "85Rdnu5WQmWV"
      }
    },
    {
      "cell_type": "markdown",
      "source": [
        "## Checking for patterns on a larger scale\n",
        "We've found three loops in the negative integers and one loop in the positive integers, but we want to see whether there are any other obvious loops in either the negative numbers or the positive numbers, the function below checks."
      ],
      "metadata": {
        "id": "lx2sb_UjIbVJ"
      }
    },
    {
      "cell_type": "code",
      "source": [
        "def check_for_patterns(n):\n",
        "  \"\"\"\n",
        "  Checks all numbers between 1 and n if n is positive, -1 and n if n is negative, and returns the number of patterns found, along with \n",
        "  a list of all patterns found.\n",
        "  Uses the standard rule 3n+1\n",
        "  \"\"\"\n",
        "  num_patterns = 0\n",
        "  characteristics = []\n",
        "  full_patterns = []\n",
        "  inc = 1\n",
        "  if n < 0:\n",
        "    inc = -1\n",
        "  for i in range(inc, n, inc):\n",
        "    progression = []\n",
        "    value = i\n",
        "    while True:\n",
        "      # If the value is a part of a pattern already noted\n",
        "      # then break and do nothing\n",
        "      if value in characteristics:\n",
        "        break\n",
        "      # else if the value has been seen already in the progression\n",
        "      # we've found a loop and it hasn't been found before since\n",
        "      # our loop would have broken due to the above condition first\n",
        "      elif value in progression:\n",
        "        num_patterns += 1\n",
        "        characteristics.append(value)\n",
        "        # Extract the whole loop\n",
        "        ind = progression.index(value)\n",
        "        full_patterns.append(progression[ind:])\n",
        "        break\n",
        "      # else, keep building up the current progression\n",
        "      else:\n",
        "        progression.append(value)\n",
        "      # Perform the rules of 3n+1\n",
        "      if value %2 == 0:\n",
        "        value = value//2\n",
        "      else:\n",
        "        value = 3*value + 1\n",
        "  # We've checked the first n values\n",
        "  return num_patterns, full_patterns"
      ],
      "metadata": {
        "id": "AbExyf0sI28A"
      },
      "execution_count": 11,
      "outputs": []
    },
    {
      "cell_type": "markdown",
      "source": [
        "Using the above function, we check for patterns in the first 10,000 positive integers, and the first 10,000 negative integers.\n",
        "\n",
        "The code below performs this check and then prints out both the number of patterns found and the patterns themselves."
      ],
      "metadata": {
        "id": "CiW2mySRL4az"
      }
    },
    {
      "cell_type": "code",
      "source": [
        "num_to_check = 10000\n",
        "pattern_num, full_patterns = check_for_patterns(num_to_check)\n",
        "print(\"We found {:d} pattern(s) while checking the positive integers from 1 to {:d}\".format(pattern_num, num_to_check))\n",
        "print(\"Here are the patterns we found:\")\n",
        "# Print the patterns found above\n",
        "for i in range(len(full_patterns)):\n",
        "  for j in range(len(full_patterns[i])):\n",
        "    if j == 0:\n",
        "      print(\"   \" + str(full_patterns[i][j]), end=\", \")\n",
        "    elif j == len(full_patterns[i]) - 1:\n",
        "      print(str(full_patterns[i][j]) + \"...\")\n",
        "    else:\n",
        "      print(full_patterns[i][j], end=\", \")\n",
        "print()\n",
        "pattern_num, full_patterns = check_for_patterns(-1*num_to_check)\n",
        "print(\"We found {:d} pattern(s) while checking the negative integers from -1 to {:d}\".format(pattern_num, -1*num_to_check))\n",
        "print(\"Here are the patterns we found:\")\n",
        "# Print the patterns found above\n",
        "for i in range(len(full_patterns)):\n",
        "  for j in range(len(full_patterns[i])):\n",
        "    if j == 0:\n",
        "      print(\"   \" + str(full_patterns[i][j]), end=\", \")\n",
        "    elif j == len(full_patterns[i]) - 1:\n",
        "      print(str(full_patterns[i][j]) + \"...\")\n",
        "    else:\n",
        "      print(full_patterns[i][j], end=\", \")\n",
        "print()"
      ],
      "metadata": {
        "colab": {
          "base_uri": "https://localhost:8080/"
        },
        "id": "DflK2ZcxL3qh",
        "outputId": "33b98de3-5868-4967-f527-4d93c57b8119"
      },
      "execution_count": 12,
      "outputs": [
        {
          "output_type": "stream",
          "name": "stdout",
          "text": [
            "We found 1 pattern(s) while checking the positive integers from 1 to 10000\n",
            "Here are the patterns we found:\n",
            "   1, 4, 2...\n",
            "\n",
            "We found 3 pattern(s) while checking the negative integers from -1 to -10000\n",
            "Here are the patterns we found:\n",
            "   -1, -2...\n",
            "   -5, -14, -7, -20, -10...\n",
            "   -17, -50, -25, -74, -37, -110, -55, -164, -82, -41, -122, -61, -182, -91, -272, -136, -68, -34...\n",
            "\n"
          ]
        }
      ]
    },
    {
      "cell_type": "markdown",
      "source": [
        "These are exactly the loops we found previously, and there seem to be no others, at least in the first 10,000 integers. This seems to back up our claim.\n",
        "\n",
        "These results are interesting because the key aspect of the behavior of the $3n+1$ conjecture on the positive integers is that they all converge to the same loop eventually. This is clearly not true of the negative integers, as we've found by checking the first 10000 integers that there are at least three such loops that negative integers can converge to."
      ],
      "metadata": {
        "id": "t1BGBsbwIYzj"
      }
    },
    {
      "cell_type": "markdown",
      "source": [
        "## Visualizing the $3n+1$ progression"
      ],
      "metadata": {
        "id": "xwpDHtUxHbxg"
      }
    },
    {
      "cell_type": "code",
      "source": [
        "import matplotlib.pyplot as plt\n",
        "import numpy as np"
      ],
      "metadata": {
        "id": "dhdiKT8sas-L"
      },
      "execution_count": 13,
      "outputs": []
    },
    {
      "cell_type": "markdown",
      "source": [
        "The function below returns a list containing the first n numbers generated from the starting number using the rules of the conjecture. This is useful for when one wants to do further visualizations with the numbers."
      ],
      "metadata": {
        "id": "j7nc9ydTFHQZ"
      }
    },
    {
      "cell_type": "code",
      "source": [
        "def generate_first_n(start, n):\n",
        "  \"\"\"\n",
        "  Return the first n numbers generated by the 3n+1 conjecture\n",
        "  \"\"\"\n",
        "  conjecture_val = start\n",
        "  nums = []\n",
        "  for i in range(n):\n",
        "    #print(\"The value is now: \", n)\n",
        "    nums.append(conjecture_val)\n",
        "    if conjecture_val %2 == 0:\n",
        "      conjecture_val = conjecture_val//2\n",
        "    else:\n",
        "      conjecture_val = 3*conjecture_val + 1\n",
        "  return nums"
      ],
      "metadata": {
        "id": "_4168Lagafq7"
      },
      "execution_count": 14,
      "outputs": []
    },
    {
      "cell_type": "code",
      "source": [
        "# An example of the function generating the first 10 terms in the progression beginning\n",
        "# with 5\n",
        "print(generate_first_n(-5, 10))"
      ],
      "metadata": {
        "colab": {
          "base_uri": "https://localhost:8080/"
        },
        "id": "4_nJlTKpbBhA",
        "outputId": "59cd439f-0249-431c-f615-15d26ff862d1"
      },
      "execution_count": 16,
      "outputs": [
        {
          "output_type": "stream",
          "name": "stdout",
          "text": [
            "[-5, -14, -7, -20, -10, -5, -14, -7, -20, -10]\n"
          ]
        }
      ]
    },
    {
      "cell_type": "markdown",
      "source": [
        "Let's visualize the path a certain integer takes before it ends up in one of the loops. We do this using `matplotlib`. The function below generates a plot and fills it with the first n values in the progression beginning with the given starting value. It draws dashed lines between points to show the order in which they are generated."
      ],
      "metadata": {
        "id": "1-be-rU7SvJ6"
      }
    },
    {
      "cell_type": "code",
      "source": [
        "def visualize_conjecture(start, n):\n",
        "  # Get the first number_to_plot values in the sequence starting at start\n",
        "  sequence = np.array(generate_first_n(start, n))\n",
        "  # Setup a plot\n",
        "  fig, ax = plt.subplots(1, 1)\n",
        "  fig.set_size_inches(15, 8)\n",
        "  # Plot steps in sequence with dashed line to show progression\n",
        "  ax.plot(np.arange(1, n+1, 1), sequence, marker='o', linestyle='dashed')\n",
        "  plt.xlabel(\"Steps\")\n",
        "  plt.ylabel(\"Value in sequence\")\n",
        "  plt.title(\"The first {} steps of the conjecture starting at {}\".format(n, start))\n",
        "  plt.show()"
      ],
      "metadata": {
        "id": "9lnKZbpTTAsH"
      },
      "execution_count": 17,
      "outputs": []
    },
    {
      "cell_type": "markdown",
      "source": [
        "Let's take two interesting examples. The first is the starting seed 61. This progression takes about 20 steps to reach the loop $1, 4,2\\dots$ and its maximum attained value is just above 175. The plot below shows the pattern this starting value generates.\n",
        "\n",
        "The second example, the second plot shown below, uses a seed of 62. As seen in the plot below, this progression takes a large number of steps up and down before eventually converging to the loop $1, 4,2\\dots$ We can see that it takes around 100 steps before it reaches this loop and attains a maximum value of over 8000 on the way. This pattern stemmed from an initial value just slightly larger than the first, and yet the pattern it generated is wildly different. This is an interesting thing to note about sequences generated by $3n+1$, namely that very close initial values can generate very different sequences."
      ],
      "metadata": {
        "id": "JbKVGvOcXW-p"
      }
    },
    {
      "cell_type": "code",
      "source": [
        "visualize_conjecture(61, 30)"
      ],
      "metadata": {
        "colab": {
          "base_uri": "https://localhost:8080/",
          "height": 467
        },
        "outputId": "2c5d1fd9-6ae5-44cc-a46a-3d2756b9efa6",
        "id": "n1eKjKQXWvRv"
      },
      "execution_count": 18,
      "outputs": [
        {
          "output_type": "display_data",
          "data": {
            "image/png": "[encoded data removed]",
            "text/plain": [
              "<Figure size 1080x576 with 1 Axes>"
            ]
          },
          "metadata": {
            "needs_background": "light"
          }
        }
      ]
    },
    {
      "cell_type": "code",
      "source": [
        "visualize_conjecture(62, 120)"
      ],
      "metadata": {
        "colab": {
          "base_uri": "https://localhost:8080/",
          "height": 464
        },
        "id": "mmjdEvDtT59F",
        "outputId": "3ecd09a9-d6ea-4336-bb36-016bdedc970a"
      },
      "execution_count": 19,
      "outputs": [
        {
          "output_type": "display_data",
          "data": {
            "image/png": "[encoded data removed]",
            "text/plain": [
              "<Figure size 1080x576 with 1 Axes>"
            ]
          },
          "metadata": {
            "needs_background": "light"
          }
        }
      ]
    },
    {
      "cell_type": "markdown",
      "source": [
        "## Dropping time\n",
        "Next, we explore the behavior of the dropping time $\\sigma(n)$ as a function of $n$. The dropping time is defined as the number of iterations of the $3n+1$ rules before a number is generated which is smaller than the original value $n$."
      ],
      "metadata": {
        "id": "Kz1Q7lTi89kq"
      }
    },
    {
      "cell_type": "code",
      "source": [
        "def dropping_time(n):\n",
        "  \"\"\"\n",
        "  Use a while loop to determine the number of iterations of the rules of the \n",
        "  3n+1 problem it takes before the generated value is smaller than the original.\n",
        "  \"\"\"\n",
        "  n_0 = n\n",
        "  # If the input is one, return None\n",
        "  if n==1:\n",
        "    return None\n",
        "  # Count the number of times through the loop\n",
        "  num_loops = 0\n",
        "  # While the current value is larger than or equal to the original, keep \n",
        "  # performing the rules of the 3n+1 problem.\n",
        "  # Once the current value is smaller, return the number of loops it took to get there\n",
        "  while n >= n_0:\n",
        "    if n % 2 == 0:\n",
        "      n = n//2\n",
        "    else:\n",
        "      n = 3*n + 1\n",
        "    num_loops += 1\n",
        "  return num_loops"
      ],
      "metadata": {
        "id": "Pl7fvGAO9Uj_"
      },
      "execution_count": 20,
      "outputs": []
    },
    {
      "cell_type": "markdown",
      "source": [
        "Below, we test that our code returns the proper value for the dropping time of 17."
      ],
      "metadata": {
        "id": "jEEX7FfY-DjN"
      }
    },
    {
      "cell_type": "code",
      "source": [
        "print(dropping_time(17))"
      ],
      "metadata": {
        "colab": {
          "base_uri": "https://localhost:8080/"
        },
        "id": "zTxmHP9s-CSz",
        "outputId": "582bf42a-8276-486e-a2c1-f4d0ae75fdd7"
      },
      "execution_count": 21,
      "outputs": [
        {
          "output_type": "stream",
          "name": "stdout",
          "text": [
            "3\n"
          ]
        }
      ]
    },
    {
      "cell_type": "markdown",
      "source": [
        "Here is a function to test only integers up to a $n$ congruent to a certain value modulo another."
      ],
      "metadata": {
        "id": "6PR5zXCs1fpq"
      }
    },
    {
      "cell_type": "code",
      "source": [
        "def dropping_time_congruent_mod(n, a, b):\n",
        "  \"\"\"\n",
        "  Tests the dropping time of all integers up to n congruent to a mod b\n",
        "  \"\"\"\n",
        "  # The dropping time of 1 is undefined, so if a is 1, \n",
        "  # start at the next value congruent to 1 mod b\n",
        "  if a == 1:\n",
        "    start = 1 + b\n",
        "  else:\n",
        "    start = a\n",
        "  # Increment by b to get all values congruent to a mod b\n",
        "  for i in range(start, n, b):\n",
        "    print(\"{}: Dropping time {}\".format(i, dropping_time(i)))"
      ],
      "metadata": {
        "id": "Rf-47YOL1e_V"
      },
      "execution_count": 28,
      "outputs": []
    },
    {
      "cell_type": "markdown",
      "source": [
        "### Visualization of Dropping Times"
      ],
      "metadata": {
        "id": "3tINUrWgwKVV"
      }
    },
    {
      "cell_type": "code",
      "source": [
        "def visualize_dropping_times(n):\n",
        "  num_digits = len(str(n))\n",
        "  for i in range(2, n+1, 1):\n",
        "    print(\"{:>{num}d}:\".format(i, num=num_digits), end=\" \")\n",
        "    print(\"#\"*dropping_time(i))\n",
        "    #print(dropping_time(i))"
      ],
      "metadata": {
        "id": "KEMjJMm8_k5_"
      },
      "execution_count": 23,
      "outputs": []
    },
    {
      "cell_type": "code",
      "source": [
        "visualize_dropping_times(100)"
      ],
      "metadata": {
        "colab": {
          "base_uri": "https://localhost:8080/"
        },
        "id": "-7H4rXDbAX0Z",
        "outputId": "c82b317b-e28f-47e5-d97a-61a7851f6d6a"
      },
      "execution_count": 24,
      "outputs": [
        {
          "output_type": "stream",
          "name": "stdout",
          "text": [
            "  2: #\n",
            "  3: ######\n",
            "  4: #\n",
            "  5: ###\n",
            "  6: #\n",
            "  7: ###########\n",
            "  8: #\n",
            "  9: ###\n",
            " 10: #\n",
            " 11: ########\n",
            " 12: #\n",
            " 13: ###\n",
            " 14: #\n",
            " 15: ###########\n",
            " 16: #\n",
            " 17: ###\n",
            " 18: #\n",
            " 19: ######\n",
            " 20: #\n",
            " 21: ###\n",
            " 22: #\n",
            " 23: ########\n",
            " 24: #\n",
            " 25: ###\n",
            " 26: #\n",
            " 27: ################################################################################################\n",
            " 28: #\n",
            " 29: ###\n",
            " 30: #\n",
            " 31: ###########################################################################################\n",
            " 32: #\n",
            " 33: ###\n",
            " 34: #\n",
            " 35: ######\n",
            " 36: #\n",
            " 37: ###\n",
            " 38: #\n",
            " 39: #############\n",
            " 40: #\n",
            " 41: ###\n",
            " 42: #\n",
            " 43: ########\n",
            " 44: #\n",
            " 45: ###\n",
            " 46: #\n",
            " 47: ########################################################################################\n",
            " 48: #\n",
            " 49: ###\n",
            " 50: #\n",
            " 51: ######\n",
            " 52: #\n",
            " 53: ###\n",
            " 54: #\n",
            " 55: ########\n",
            " 56: #\n",
            " 57: ###\n",
            " 58: #\n",
            " 59: ###########\n",
            " 60: #\n",
            " 61: ###\n",
            " 62: #\n",
            " 63: ########################################################################################\n",
            " 64: #\n",
            " 65: ###\n",
            " 66: #\n",
            " 67: ######\n",
            " 68: #\n",
            " 69: ###\n",
            " 70: #\n",
            " 71: ###################################################################################\n",
            " 72: #\n",
            " 73: ###\n",
            " 74: #\n",
            " 75: ########\n",
            " 76: #\n",
            " 77: ###\n",
            " 78: #\n",
            " 79: #############\n",
            " 80: #\n",
            " 81: ###\n",
            " 82: #\n",
            " 83: ######\n",
            " 84: #\n",
            " 85: ###\n",
            " 86: #\n",
            " 87: ########\n",
            " 88: #\n",
            " 89: ###\n",
            " 90: #\n",
            " 91: #########################################################################\n",
            " 92: #\n",
            " 93: ###\n",
            " 94: #\n",
            " 95: #############\n",
            " 96: #\n",
            " 97: ###\n",
            " 98: #\n",
            " 99: ######\n",
            "100: #\n"
          ]
        }
      ]
    },
    {
      "cell_type": "markdown",
      "source": [
        "### Dropping Time and Congruence modulo 8\n",
        "Let's consider how the dropping time of a number is related to its value modulo 8. First of all, any even number clearly has a dropping time of 1, since the first operation performed is to divide by 2, making the number smaller after just 1 step. Therefore, any number which is congruent to 0, 2, 4, or 6 modulo 8 will have a dropping time of one."
      ],
      "metadata": {
        "id": "EX87eQtiCrA_"
      }
    },
    {
      "cell_type": "markdown",
      "source": [
        "#### Congruent to 1 modulo 8\n",
        "What happens when numbers are congruent to 1 modulo 8?"
      ],
      "metadata": {
        "id": "1f-O65xODjSQ"
      }
    },
    {
      "cell_type": "code",
      "source": [
        "dropping_time_congruent_mod(1000, 1, 8)"
      ],
      "metadata": {
        "colab": {
          "base_uri": "https://localhost:8080/"
        },
        "id": "Zy7MxbQx2DFJ",
        "outputId": "6a769570-7b77-47f0-dd92-6775e998f950"
      },
      "execution_count": 25,
      "outputs": [
        {
          "output_type": "stream",
          "name": "stdout",
          "text": [
            "9: Dropping time 3\n",
            "17: Dropping time 3\n",
            "25: Dropping time 3\n",
            "33: Dropping time 3\n",
            "41: Dropping time 3\n",
            "49: Dropping time 3\n",
            "57: Dropping time 3\n",
            "65: Dropping time 3\n",
            "73: Dropping time 3\n",
            "81: Dropping time 3\n",
            "89: Dropping time 3\n",
            "97: Dropping time 3\n",
            "105: Dropping time 3\n",
            "113: Dropping time 3\n",
            "121: Dropping time 3\n",
            "129: Dropping time 3\n",
            "137: Dropping time 3\n",
            "145: Dropping time 3\n",
            "153: Dropping time 3\n",
            "161: Dropping time 3\n",
            "169: Dropping time 3\n",
            "177: Dropping time 3\n",
            "185: Dropping time 3\n",
            "193: Dropping time 3\n",
            "201: Dropping time 3\n",
            "209: Dropping time 3\n",
            "217: Dropping time 3\n",
            "225: Dropping time 3\n",
            "233: Dropping time 3\n",
            "241: Dropping time 3\n",
            "249: Dropping time 3\n",
            "257: Dropping time 3\n",
            "265: Dropping time 3\n",
            "273: Dropping time 3\n",
            "281: Dropping time 3\n",
            "289: Dropping time 3\n",
            "297: Dropping time 3\n",
            "305: Dropping time 3\n",
            "313: Dropping time 3\n",
            "321: Dropping time 3\n",
            "329: Dropping time 3\n",
            "337: Dropping time 3\n",
            "345: Dropping time 3\n",
            "353: Dropping time 3\n",
            "361: Dropping time 3\n",
            "369: Dropping time 3\n",
            "377: Dropping time 3\n",
            "385: Dropping time 3\n",
            "393: Dropping time 3\n",
            "401: Dropping time 3\n",
            "409: Dropping time 3\n",
            "417: Dropping time 3\n",
            "425: Dropping time 3\n",
            "433: Dropping time 3\n",
            "441: Dropping time 3\n",
            "449: Dropping time 3\n",
            "457: Dropping time 3\n",
            "465: Dropping time 3\n",
            "473: Dropping time 3\n",
            "481: Dropping time 3\n",
            "489: Dropping time 3\n",
            "497: Dropping time 3\n",
            "505: Dropping time 3\n",
            "513: Dropping time 3\n",
            "521: Dropping time 3\n",
            "529: Dropping time 3\n",
            "537: Dropping time 3\n",
            "545: Dropping time 3\n",
            "553: Dropping time 3\n",
            "561: Dropping time 3\n",
            "569: Dropping time 3\n",
            "577: Dropping time 3\n",
            "585: Dropping time 3\n",
            "593: Dropping time 3\n",
            "601: Dropping time 3\n",
            "609: Dropping time 3\n",
            "617: Dropping time 3\n",
            "625: Dropping time 3\n",
            "633: Dropping time 3\n",
            "641: Dropping time 3\n",
            "649: Dropping time 3\n",
            "657: Dropping time 3\n",
            "665: Dropping time 3\n",
            "673: Dropping time 3\n",
            "681: Dropping time 3\n",
            "689: Dropping time 3\n",
            "697: Dropping time 3\n",
            "705: Dropping time 3\n",
            "713: Dropping time 3\n",
            "721: Dropping time 3\n",
            "729: Dropping time 3\n",
            "737: Dropping time 3\n",
            "745: Dropping time 3\n",
            "753: Dropping time 3\n",
            "761: Dropping time 3\n",
            "769: Dropping time 3\n",
            "777: Dropping time 3\n",
            "785: Dropping time 3\n",
            "793: Dropping time 3\n",
            "801: Dropping time 3\n",
            "809: Dropping time 3\n",
            "817: Dropping time 3\n",
            "825: Dropping time 3\n",
            "833: Dropping time 3\n",
            "841: Dropping time 3\n",
            "849: Dropping time 3\n",
            "857: Dropping time 3\n",
            "865: Dropping time 3\n",
            "873: Dropping time 3\n",
            "881: Dropping time 3\n",
            "889: Dropping time 3\n",
            "897: Dropping time 3\n",
            "905: Dropping time 3\n",
            "913: Dropping time 3\n",
            "921: Dropping time 3\n",
            "929: Dropping time 3\n",
            "937: Dropping time 3\n",
            "945: Dropping time 3\n",
            "953: Dropping time 3\n",
            "961: Dropping time 3\n",
            "969: Dropping time 3\n",
            "977: Dropping time 3\n",
            "985: Dropping time 3\n",
            "993: Dropping time 3\n"
          ]
        }
      ]
    },
    {
      "cell_type": "markdown",
      "source": [
        "Checking all values up to 1000, it seems that a number congruent to 1 modulo 8 will always have a dropping time of 3. In fact, we can show that this is the case.\n",
        "\n",
        "Consider an arbitrary integer $n>0$ where $n$ is congruent to 1 modulo 8. That is, we have $n=8k+1$ for some integer $k\\geq 0$. Now, $n$ is odd, so the first iteration of the $3n+1$ problem will return $n'=3n+1=3(8k+1)+1=24k+4$. But we can factor $n'$ as $4(6k+1)$. This number is larger than $n$, since we multiplied by 3 and added 1. Clearly, this is an even number, so in the next step we divide by 2 to get $n''=\\frac{n'}{2}=2(6k+1)$. This number is also larger than the original, since is evaluates to $12k+2$, and this is bigger than $8k+1$. Again, we have an even value, so we divide by 2 to get $n'''=\\frac{n''}{2}=6k+1$. We are now three steps deep into the evaluation, and notice that we have obtained a number, $6k+1$, which is guaranteed to be smaller than the value we started with, namely $8k+1$. Also, neither of the previous two values could be smaller than the original. Thus, we've found that the dropping time of an integer $n$ which is congruent to 1 modulo 8 must be 3."
      ],
      "metadata": {
        "id": "QvjMjikRDDe-"
      }
    },
    {
      "cell_type": "markdown",
      "source": [
        "#### Congruent to 3 modulo 8\n",
        "Let's next consider numbers congruent to 3 modulo 8."
      ],
      "metadata": {
        "id": "UP7b10cTGYeO"
      }
    },
    {
      "cell_type": "code",
      "source": [
        "dropping_time_congruent_mod(1000, 3, 8)"
      ],
      "metadata": {
        "colab": {
          "base_uri": "https://localhost:8080/"
        },
        "id": "TO0Z3RLV2Xoi",
        "outputId": "2468ffa5-0cfc-4d0c-f56c-9973e7a39216"
      },
      "execution_count": 29,
      "outputs": [
        {
          "output_type": "stream",
          "name": "stdout",
          "text": [
            "3: Dropping time 6\n",
            "11: Dropping time 8\n",
            "19: Dropping time 6\n",
            "27: Dropping time 96\n",
            "35: Dropping time 6\n",
            "43: Dropping time 8\n",
            "51: Dropping time 6\n",
            "59: Dropping time 11\n",
            "67: Dropping time 6\n",
            "75: Dropping time 8\n",
            "83: Dropping time 6\n",
            "91: Dropping time 73\n",
            "99: Dropping time 6\n",
            "107: Dropping time 8\n",
            "115: Dropping time 6\n",
            "123: Dropping time 13\n",
            "131: Dropping time 6\n",
            "139: Dropping time 8\n",
            "147: Dropping time 6\n",
            "155: Dropping time 65\n",
            "163: Dropping time 6\n",
            "171: Dropping time 8\n",
            "179: Dropping time 6\n",
            "187: Dropping time 11\n",
            "195: Dropping time 6\n",
            "203: Dropping time 8\n",
            "211: Dropping time 6\n",
            "219: Dropping time 13\n",
            "227: Dropping time 6\n",
            "235: Dropping time 8\n",
            "243: Dropping time 6\n",
            "251: Dropping time 44\n",
            "259: Dropping time 6\n",
            "267: Dropping time 8\n",
            "275: Dropping time 6\n",
            "283: Dropping time 39\n",
            "291: Dropping time 6\n",
            "299: Dropping time 8\n",
            "307: Dropping time 6\n",
            "315: Dropping time 11\n",
            "323: Dropping time 6\n",
            "331: Dropping time 8\n",
            "339: Dropping time 6\n",
            "347: Dropping time 16\n",
            "355: Dropping time 6\n",
            "363: Dropping time 8\n",
            "371: Dropping time 6\n",
            "379: Dropping time 13\n",
            "387: Dropping time 6\n",
            "395: Dropping time 8\n",
            "403: Dropping time 6\n",
            "411: Dropping time 24\n",
            "419: Dropping time 6\n",
            "427: Dropping time 8\n",
            "435: Dropping time 6\n",
            "443: Dropping time 11\n",
            "451: Dropping time 6\n",
            "459: Dropping time 8\n",
            "467: Dropping time 6\n",
            "475: Dropping time 13\n",
            "483: Dropping time 6\n",
            "491: Dropping time 8\n",
            "499: Dropping time 6\n",
            "507: Dropping time 16\n",
            "515: Dropping time 6\n",
            "523: Dropping time 8\n",
            "531: Dropping time 6\n",
            "539: Dropping time 21\n",
            "547: Dropping time 6\n",
            "555: Dropping time 8\n",
            "563: Dropping time 6\n",
            "571: Dropping time 11\n",
            "579: Dropping time 6\n",
            "587: Dropping time 8\n",
            "595: Dropping time 6\n",
            "603: Dropping time 26\n",
            "611: Dropping time 6\n",
            "619: Dropping time 8\n",
            "627: Dropping time 6\n",
            "635: Dropping time 13\n",
            "643: Dropping time 6\n",
            "651: Dropping time 8\n",
            "659: Dropping time 6\n",
            "667: Dropping time 39\n",
            "675: Dropping time 6\n",
            "683: Dropping time 8\n",
            "691: Dropping time 6\n",
            "699: Dropping time 11\n",
            "707: Dropping time 6\n",
            "715: Dropping time 8\n",
            "723: Dropping time 6\n",
            "731: Dropping time 13\n",
            "739: Dropping time 6\n",
            "747: Dropping time 8\n",
            "755: Dropping time 6\n",
            "763: Dropping time 32\n",
            "771: Dropping time 6\n",
            "779: Dropping time 8\n",
            "787: Dropping time 6\n",
            "795: Dropping time 44\n",
            "803: Dropping time 6\n",
            "811: Dropping time 8\n",
            "819: Dropping time 6\n",
            "827: Dropping time 11\n",
            "835: Dropping time 6\n",
            "843: Dropping time 8\n",
            "851: Dropping time 6\n",
            "859: Dropping time 26\n",
            "867: Dropping time 6\n",
            "875: Dropping time 8\n",
            "883: Dropping time 6\n",
            "891: Dropping time 13\n",
            "899: Dropping time 6\n",
            "907: Dropping time 8\n",
            "915: Dropping time 6\n",
            "923: Dropping time 16\n",
            "931: Dropping time 6\n",
            "939: Dropping time 8\n",
            "947: Dropping time 6\n",
            "955: Dropping time 11\n",
            "963: Dropping time 6\n",
            "971: Dropping time 8\n",
            "979: Dropping time 6\n",
            "987: Dropping time 13\n",
            "995: Dropping time 6\n"
          ]
        }
      ]
    },
    {
      "cell_type": "markdown",
      "source": [
        "These numbers are a lot less consistent. There doesn't seem to be an obvious pattern to the dropping time for these values. Again, this makes sense because a similar analysis to the one we did for numbers congruent to 1 modulo 8 doesn't give us a conclusive answer. There is not one value that always must be obtained for the dropping time of integers congruent to 3 modulo 8."
      ],
      "metadata": {
        "id": "ePCOQhCfHCU0"
      }
    },
    {
      "cell_type": "markdown",
      "source": [
        "#### Congruent to 5 modulo 8\n",
        "\n",
        "Next, we investigate the dropping times of numbers congruent to 5 modulo 8."
      ],
      "metadata": {
        "id": "ouyl5YtjsyUm"
      }
    },
    {
      "cell_type": "markdown",
      "source": [
        "Before we run any experiments, we can again consider an analysis for arbitrary integer $n>0$ such that $n\\equiv 5 \\mod 8$. That is, $n=8k+5$ for some $k\\geq 0$. Clearly, $n$ is odd, so we first multiply by 3 and add 1 to get $n'=24k+16$. Then, we factor this as $n'=8(3k+2)$. This has three factors of 2 in it, so our next three steps will be to divide by 2. That is, $n''=4(3k+2)$, then $n^{(3)}=2(3k+2)$. As we mentioned, we could keep going. However, notice that $n^{(3)}=2(3k+2)=6k+4$ is always going to be smaller than $n=8k+5$. Since we are talking about positive integers, the smallest value $k$ can hold is 0. But if $k$ is 0, then $n$ is still larger than $n^{(3)}$. As $n$ increases in size, $k$ increases as well, but $8k+5$ grows faster than $6k+4$, meaning $6k+4$ will always be smaller. Thus, the dropping time for any integer congruent to 5 modulo 8 should be 3."
      ],
      "metadata": {
        "id": "_IiCNcrNtgDb"
      }
    },
    {
      "cell_type": "markdown",
      "source": [
        "Indeed, the code below confirms this analysis."
      ],
      "metadata": {
        "id": "T48njw8evCBF"
      }
    },
    {
      "cell_type": "code",
      "source": [
        "dropping_time_congruent_mod(1000, 5, 8)"
      ],
      "metadata": {
        "colab": {
          "base_uri": "https://localhost:8080/"
        },
        "id": "T8nNFaeY2gDv",
        "outputId": "ae80da64-8c47-42e0-ea7d-0c74c4f4aa67"
      },
      "execution_count": 30,
      "outputs": [
        {
          "output_type": "stream",
          "name": "stdout",
          "text": [
            "5: Dropping time 3\n",
            "13: Dropping time 3\n",
            "21: Dropping time 3\n",
            "29: Dropping time 3\n",
            "37: Dropping time 3\n",
            "45: Dropping time 3\n",
            "53: Dropping time 3\n",
            "61: Dropping time 3\n",
            "69: Dropping time 3\n",
            "77: Dropping time 3\n",
            "85: Dropping time 3\n",
            "93: Dropping time 3\n",
            "101: Dropping time 3\n",
            "109: Dropping time 3\n",
            "117: Dropping time 3\n",
            "125: Dropping time 3\n",
            "133: Dropping time 3\n",
            "141: Dropping time 3\n",
            "149: Dropping time 3\n",
            "157: Dropping time 3\n",
            "165: Dropping time 3\n",
            "173: Dropping time 3\n",
            "181: Dropping time 3\n",
            "189: Dropping time 3\n",
            "197: Dropping time 3\n",
            "205: Dropping time 3\n",
            "213: Dropping time 3\n",
            "221: Dropping time 3\n",
            "229: Dropping time 3\n",
            "237: Dropping time 3\n",
            "245: Dropping time 3\n",
            "253: Dropping time 3\n",
            "261: Dropping time 3\n",
            "269: Dropping time 3\n",
            "277: Dropping time 3\n",
            "285: Dropping time 3\n",
            "293: Dropping time 3\n",
            "301: Dropping time 3\n",
            "309: Dropping time 3\n",
            "317: Dropping time 3\n",
            "325: Dropping time 3\n",
            "333: Dropping time 3\n",
            "341: Dropping time 3\n",
            "349: Dropping time 3\n",
            "357: Dropping time 3\n",
            "365: Dropping time 3\n",
            "373: Dropping time 3\n",
            "381: Dropping time 3\n",
            "389: Dropping time 3\n",
            "397: Dropping time 3\n",
            "405: Dropping time 3\n",
            "413: Dropping time 3\n",
            "421: Dropping time 3\n",
            "429: Dropping time 3\n",
            "437: Dropping time 3\n",
            "445: Dropping time 3\n",
            "453: Dropping time 3\n",
            "461: Dropping time 3\n",
            "469: Dropping time 3\n",
            "477: Dropping time 3\n",
            "485: Dropping time 3\n",
            "493: Dropping time 3\n",
            "501: Dropping time 3\n",
            "509: Dropping time 3\n",
            "517: Dropping time 3\n",
            "525: Dropping time 3\n",
            "533: Dropping time 3\n",
            "541: Dropping time 3\n",
            "549: Dropping time 3\n",
            "557: Dropping time 3\n",
            "565: Dropping time 3\n",
            "573: Dropping time 3\n",
            "581: Dropping time 3\n",
            "589: Dropping time 3\n",
            "597: Dropping time 3\n",
            "605: Dropping time 3\n",
            "613: Dropping time 3\n",
            "621: Dropping time 3\n",
            "629: Dropping time 3\n",
            "637: Dropping time 3\n",
            "645: Dropping time 3\n",
            "653: Dropping time 3\n",
            "661: Dropping time 3\n",
            "669: Dropping time 3\n",
            "677: Dropping time 3\n",
            "685: Dropping time 3\n",
            "693: Dropping time 3\n",
            "701: Dropping time 3\n",
            "709: Dropping time 3\n",
            "717: Dropping time 3\n",
            "725: Dropping time 3\n",
            "733: Dropping time 3\n",
            "741: Dropping time 3\n",
            "749: Dropping time 3\n",
            "757: Dropping time 3\n",
            "765: Dropping time 3\n",
            "773: Dropping time 3\n",
            "781: Dropping time 3\n",
            "789: Dropping time 3\n",
            "797: Dropping time 3\n",
            "805: Dropping time 3\n",
            "813: Dropping time 3\n",
            "821: Dropping time 3\n",
            "829: Dropping time 3\n",
            "837: Dropping time 3\n",
            "845: Dropping time 3\n",
            "853: Dropping time 3\n",
            "861: Dropping time 3\n",
            "869: Dropping time 3\n",
            "877: Dropping time 3\n",
            "885: Dropping time 3\n",
            "893: Dropping time 3\n",
            "901: Dropping time 3\n",
            "909: Dropping time 3\n",
            "917: Dropping time 3\n",
            "925: Dropping time 3\n",
            "933: Dropping time 3\n",
            "941: Dropping time 3\n",
            "949: Dropping time 3\n",
            "957: Dropping time 3\n",
            "965: Dropping time 3\n",
            "973: Dropping time 3\n",
            "981: Dropping time 3\n",
            "989: Dropping time 3\n",
            "997: Dropping time 3\n"
          ]
        }
      ]
    },
    {
      "cell_type": "markdown",
      "source": [
        "#### Congruent to 7 modulo 8\n",
        "\n",
        "Next, we investigate the dropping times of numbers congruent to 7 modulo 8."
      ],
      "metadata": {
        "id": "wwu3vJJWvKLg"
      }
    },
    {
      "cell_type": "markdown",
      "source": [
        "In this case, as in the case of numbers congruent to 3 modulo 8, there is no obvious pattern. An analysis of an arbitrary number congruent to 7 modulo 8 doesn't give us a conclusive answer. We can see from the code below that, for example, 55 has a dropping time of 8, but 63, the next integer we check, has a dropping time of 88!"
      ],
      "metadata": {
        "id": "IC-lYdZ4vP8T"
      }
    },
    {
      "cell_type": "code",
      "source": [
        "dropping_time_congruent_mod(1000, 7, 8)"
      ],
      "metadata": {
        "colab": {
          "base_uri": "https://localhost:8080/"
        },
        "id": "SpDfWr5D2nSI",
        "outputId": "cecb2f97-dd85-4c90-e5f4-dc079fe384ad"
      },
      "execution_count": 31,
      "outputs": [
        {
          "output_type": "stream",
          "name": "stdout",
          "text": [
            "7: Dropping time 11\n",
            "15: Dropping time 11\n",
            "23: Dropping time 8\n",
            "31: Dropping time 91\n",
            "39: Dropping time 13\n",
            "47: Dropping time 88\n",
            "55: Dropping time 8\n",
            "63: Dropping time 88\n",
            "71: Dropping time 83\n",
            "79: Dropping time 13\n",
            "87: Dropping time 8\n",
            "95: Dropping time 13\n",
            "103: Dropping time 68\n",
            "111: Dropping time 50\n",
            "119: Dropping time 8\n",
            "127: Dropping time 24\n",
            "135: Dropping time 11\n",
            "143: Dropping time 11\n",
            "151: Dropping time 8\n",
            "159: Dropping time 34\n",
            "167: Dropping time 47\n",
            "175: Dropping time 13\n",
            "183: Dropping time 8\n",
            "191: Dropping time 21\n",
            "199: Dropping time 13\n",
            "207: Dropping time 21\n",
            "215: Dropping time 8\n",
            "223: Dropping time 50\n",
            "231: Dropping time 19\n",
            "239: Dropping time 32\n",
            "247: Dropping time 8\n",
            "255: Dropping time 21\n",
            "263: Dropping time 11\n",
            "271: Dropping time 11\n",
            "279: Dropping time 8\n",
            "287: Dropping time 16\n",
            "295: Dropping time 13\n",
            "303: Dropping time 21\n",
            "311: Dropping time 8\n",
            "319: Dropping time 34\n",
            "327: Dropping time 34\n",
            "335: Dropping time 13\n",
            "343: Dropping time 8\n",
            "351: Dropping time 13\n",
            "359: Dropping time 26\n",
            "367: Dropping time 16\n",
            "375: Dropping time 8\n",
            "383: Dropping time 19\n",
            "391: Dropping time 11\n",
            "399: Dropping time 11\n",
            "407: Dropping time 8\n",
            "415: Dropping time 24\n",
            "423: Dropping time 16\n",
            "431: Dropping time 13\n",
            "439: Dropping time 8\n",
            "447: Dropping time 65\n",
            "455: Dropping time 13\n",
            "463: Dropping time 19\n",
            "471: Dropping time 8\n",
            "479: Dropping time 26\n",
            "487: Dropping time 32\n",
            "495: Dropping time 44\n",
            "503: Dropping time 8\n",
            "511: Dropping time 29\n",
            "519: Dropping time 11\n",
            "527: Dropping time 11\n",
            "535: Dropping time 8\n",
            "543: Dropping time 21\n",
            "551: Dropping time 13\n",
            "559: Dropping time 26\n",
            "567: Dropping time 8\n",
            "575: Dropping time 16\n",
            "583: Dropping time 16\n",
            "591: Dropping time 13\n",
            "599: Dropping time 8\n",
            "607: Dropping time 13\n",
            "615: Dropping time 19\n",
            "623: Dropping time 21\n",
            "631: Dropping time 8\n",
            "639: Dropping time 37\n",
            "647: Dropping time 11\n",
            "655: Dropping time 11\n",
            "663: Dropping time 8\n",
            "671: Dropping time 63\n",
            "679: Dropping time 21\n",
            "687: Dropping time 13\n",
            "695: Dropping time 8\n",
            "703: Dropping time 132\n",
            "711: Dropping time 13\n",
            "719: Dropping time 21\n",
            "727: Dropping time 8\n",
            "735: Dropping time 16\n",
            "743: Dropping time 39\n",
            "751: Dropping time 34\n",
            "759: Dropping time 8\n",
            "767: Dropping time 26\n",
            "775: Dropping time 11\n",
            "783: Dropping time 11\n",
            "791: Dropping time 8\n",
            "799: Dropping time 21\n",
            "807: Dropping time 13\n",
            "815: Dropping time 16\n",
            "823: Dropping time 8\n",
            "831: Dropping time 24\n",
            "839: Dropping time 24\n",
            "847: Dropping time 13\n",
            "855: Dropping time 8\n",
            "863: Dropping time 13\n",
            "871: Dropping time 57\n",
            "879: Dropping time 19\n",
            "887: Dropping time 8\n",
            "895: Dropping time 39\n",
            "903: Dropping time 11\n",
            "911: Dropping time 11\n",
            "919: Dropping time 8\n",
            "927: Dropping time 60\n",
            "935: Dropping time 19\n",
            "943: Dropping time 13\n",
            "951: Dropping time 8\n",
            "959: Dropping time 34\n",
            "967: Dropping time 13\n",
            "975: Dropping time 16\n",
            "983: Dropping time 8\n",
            "991: Dropping time 42\n",
            "999: Dropping time 16\n"
          ]
        }
      ]
    },
    {
      "cell_type": "markdown",
      "source": [
        "### Dropping Time and Congruence modulo 16\n",
        "Let's now consider how the dropping time of a number is related to its value modulo 16. Again, any even number clearly has a dropping time of 1, since the first operation performed is to divide by 2, making the number smaller after just 1 step. Therefore, any number which is congruent to 0, 2, 4, 6, 8, 10, 12, or 14 modulo 16 will have a dropping time of one."
      ],
      "metadata": {
        "id": "89VvtapuyhOO"
      }
    },
    {
      "cell_type": "markdown",
      "source": [
        "#### Congruent to 1 modulo 16\n",
        "\n",
        "First, let's see what happens to numbers congruent to 1 modulo 16.\n",
        "\n",
        "If we perform an analogue of the same process we've done in the scenario with 8, we find that these numbers should always drop in 3 steps. Indeed, they do so."
      ],
      "metadata": {
        "id": "YducZJTJyvTf"
      }
    },
    {
      "cell_type": "code",
      "source": [
        "dropping_time_congruent_mod(1000, 1, 16)"
      ],
      "metadata": {
        "colab": {
          "base_uri": "https://localhost:8080/"
        },
        "id": "iTDMK_s023qc",
        "outputId": "bdb6f146-770a-4afe-fb62-0aa2e2096c12"
      },
      "execution_count": 32,
      "outputs": [
        {
          "output_type": "stream",
          "name": "stdout",
          "text": [
            "17: Dropping time 3\n",
            "33: Dropping time 3\n",
            "49: Dropping time 3\n",
            "65: Dropping time 3\n",
            "81: Dropping time 3\n",
            "97: Dropping time 3\n",
            "113: Dropping time 3\n",
            "129: Dropping time 3\n",
            "145: Dropping time 3\n",
            "161: Dropping time 3\n",
            "177: Dropping time 3\n",
            "193: Dropping time 3\n",
            "209: Dropping time 3\n",
            "225: Dropping time 3\n",
            "241: Dropping time 3\n",
            "257: Dropping time 3\n",
            "273: Dropping time 3\n",
            "289: Dropping time 3\n",
            "305: Dropping time 3\n",
            "321: Dropping time 3\n",
            "337: Dropping time 3\n",
            "353: Dropping time 3\n",
            "369: Dropping time 3\n",
            "385: Dropping time 3\n",
            "401: Dropping time 3\n",
            "417: Dropping time 3\n",
            "433: Dropping time 3\n",
            "449: Dropping time 3\n",
            "465: Dropping time 3\n",
            "481: Dropping time 3\n",
            "497: Dropping time 3\n",
            "513: Dropping time 3\n",
            "529: Dropping time 3\n",
            "545: Dropping time 3\n",
            "561: Dropping time 3\n",
            "577: Dropping time 3\n",
            "593: Dropping time 3\n",
            "609: Dropping time 3\n",
            "625: Dropping time 3\n",
            "641: Dropping time 3\n",
            "657: Dropping time 3\n",
            "673: Dropping time 3\n",
            "689: Dropping time 3\n",
            "705: Dropping time 3\n",
            "721: Dropping time 3\n",
            "737: Dropping time 3\n",
            "753: Dropping time 3\n",
            "769: Dropping time 3\n",
            "785: Dropping time 3\n",
            "801: Dropping time 3\n",
            "817: Dropping time 3\n",
            "833: Dropping time 3\n",
            "849: Dropping time 3\n",
            "865: Dropping time 3\n",
            "881: Dropping time 3\n",
            "897: Dropping time 3\n",
            "913: Dropping time 3\n",
            "929: Dropping time 3\n",
            "945: Dropping time 3\n",
            "961: Dropping time 3\n",
            "977: Dropping time 3\n",
            "993: Dropping time 3\n"
          ]
        }
      ]
    },
    {
      "cell_type": "markdown",
      "source": [
        "#### Congruent to 3 modulo 16\n",
        "\n",
        "Next, we investigate the dropping times of numbers congruent to 3 modulo 16.\n",
        "\n",
        "Let's follow a number $n>0$ such that $n\\equiv 3\\mod 16$. Then $n=16k+3$ for some $k\\geq 0$. This is odd, so $n'=3n+1=48k+10$. This can be factored as $2(24k+5)$, so $n'$ is even. Then, $n''=24k+5$. Again, this is odd, so $n^{(3)}=3n''+1=72k+16$. We can factor out 8 from this to get $8(9k+2)$. Therefore, the next three operations are to divide by 2. We get $n^{(4)}=4(9k+2)$, then $n^{(5)}=2(9k+2)$, and finally $n^{(6)}=9k+2$. Notice that $n^{(5)}$, which is $18k+4$, is still larger than $n$ regardless of $k$, but $n^{(6)}$ is always smaller. In fact, it is the first one which is smaller. Therefore, in all cases, we should obtain a dropping time of 6 for numbers congruent to 3 modulo 16."
      ],
      "metadata": {
        "id": "pOLe7WTOyPg1"
      }
    },
    {
      "cell_type": "markdown",
      "source": [
        "The code below confirms this logic."
      ],
      "metadata": {
        "id": "_LFlVZdl024Z"
      }
    },
    {
      "cell_type": "code",
      "source": [
        "dropping_time_congruent_mod(1000, 3, 16)"
      ],
      "metadata": {
        "colab": {
          "base_uri": "https://localhost:8080/"
        },
        "outputId": "59fc9ae2-73b2-408d-b7d2-ca350bf96ecb",
        "id": "kWbggnCMyPg9"
      },
      "execution_count": 33,
      "outputs": [
        {
          "output_type": "stream",
          "name": "stdout",
          "text": [
            "3: Dropping time 6\n",
            "19: Dropping time 6\n",
            "35: Dropping time 6\n",
            "51: Dropping time 6\n",
            "67: Dropping time 6\n",
            "83: Dropping time 6\n",
            "99: Dropping time 6\n",
            "115: Dropping time 6\n",
            "131: Dropping time 6\n",
            "147: Dropping time 6\n",
            "163: Dropping time 6\n",
            "179: Dropping time 6\n",
            "195: Dropping time 6\n",
            "211: Dropping time 6\n",
            "227: Dropping time 6\n",
            "243: Dropping time 6\n",
            "259: Dropping time 6\n",
            "275: Dropping time 6\n",
            "291: Dropping time 6\n",
            "307: Dropping time 6\n",
            "323: Dropping time 6\n",
            "339: Dropping time 6\n",
            "355: Dropping time 6\n",
            "371: Dropping time 6\n",
            "387: Dropping time 6\n",
            "403: Dropping time 6\n",
            "419: Dropping time 6\n",
            "435: Dropping time 6\n",
            "451: Dropping time 6\n",
            "467: Dropping time 6\n",
            "483: Dropping time 6\n",
            "499: Dropping time 6\n",
            "515: Dropping time 6\n",
            "531: Dropping time 6\n",
            "547: Dropping time 6\n",
            "563: Dropping time 6\n",
            "579: Dropping time 6\n",
            "595: Dropping time 6\n",
            "611: Dropping time 6\n",
            "627: Dropping time 6\n",
            "643: Dropping time 6\n",
            "659: Dropping time 6\n",
            "675: Dropping time 6\n",
            "691: Dropping time 6\n",
            "707: Dropping time 6\n",
            "723: Dropping time 6\n",
            "739: Dropping time 6\n",
            "755: Dropping time 6\n",
            "771: Dropping time 6\n",
            "787: Dropping time 6\n",
            "803: Dropping time 6\n",
            "819: Dropping time 6\n",
            "835: Dropping time 6\n",
            "851: Dropping time 6\n",
            "867: Dropping time 6\n",
            "883: Dropping time 6\n",
            "899: Dropping time 6\n",
            "915: Dropping time 6\n",
            "931: Dropping time 6\n",
            "947: Dropping time 6\n",
            "963: Dropping time 6\n",
            "979: Dropping time 6\n",
            "995: Dropping time 6\n"
          ]
        }
      ]
    },
    {
      "cell_type": "markdown",
      "source": [
        "#### Congruent to 5 modulo 16\n",
        "\n",
        "Now consider numbers congruent to 5 modulo 16.\n",
        "\n",
        "A similar analysis, and the code below, agree that these numbers should have a dropping time of 3, like in the case of numbers congruent to 1 modulo 16."
      ],
      "metadata": {
        "id": "M5CG46bt08ZT"
      }
    },
    {
      "cell_type": "code",
      "source": [
        "dropping_time_congruent_mod(1000, 5, 16)"
      ],
      "metadata": {
        "colab": {
          "base_uri": "https://localhost:8080/"
        },
        "outputId": "988b821f-7353-4b71-a8ed-fdc10d93faaf",
        "id": "H81Un1TI08ZU"
      },
      "execution_count": 34,
      "outputs": [
        {
          "output_type": "stream",
          "name": "stdout",
          "text": [
            "5: Dropping time 3\n",
            "21: Dropping time 3\n",
            "37: Dropping time 3\n",
            "53: Dropping time 3\n",
            "69: Dropping time 3\n",
            "85: Dropping time 3\n",
            "101: Dropping time 3\n",
            "117: Dropping time 3\n",
            "133: Dropping time 3\n",
            "149: Dropping time 3\n",
            "165: Dropping time 3\n",
            "181: Dropping time 3\n",
            "197: Dropping time 3\n",
            "213: Dropping time 3\n",
            "229: Dropping time 3\n",
            "245: Dropping time 3\n",
            "261: Dropping time 3\n",
            "277: Dropping time 3\n",
            "293: Dropping time 3\n",
            "309: Dropping time 3\n",
            "325: Dropping time 3\n",
            "341: Dropping time 3\n",
            "357: Dropping time 3\n",
            "373: Dropping time 3\n",
            "389: Dropping time 3\n",
            "405: Dropping time 3\n",
            "421: Dropping time 3\n",
            "437: Dropping time 3\n",
            "453: Dropping time 3\n",
            "469: Dropping time 3\n",
            "485: Dropping time 3\n",
            "501: Dropping time 3\n",
            "517: Dropping time 3\n",
            "533: Dropping time 3\n",
            "549: Dropping time 3\n",
            "565: Dropping time 3\n",
            "581: Dropping time 3\n",
            "597: Dropping time 3\n",
            "613: Dropping time 3\n",
            "629: Dropping time 3\n",
            "645: Dropping time 3\n",
            "661: Dropping time 3\n",
            "677: Dropping time 3\n",
            "693: Dropping time 3\n",
            "709: Dropping time 3\n",
            "725: Dropping time 3\n",
            "741: Dropping time 3\n",
            "757: Dropping time 3\n",
            "773: Dropping time 3\n",
            "789: Dropping time 3\n",
            "805: Dropping time 3\n",
            "821: Dropping time 3\n",
            "837: Dropping time 3\n",
            "853: Dropping time 3\n",
            "869: Dropping time 3\n",
            "885: Dropping time 3\n",
            "901: Dropping time 3\n",
            "917: Dropping time 3\n",
            "933: Dropping time 3\n",
            "949: Dropping time 3\n",
            "965: Dropping time 3\n",
            "981: Dropping time 3\n",
            "997: Dropping time 3\n"
          ]
        }
      ]
    },
    {
      "cell_type": "markdown",
      "source": [
        "#### Congruent to 7 modulo 16\n",
        "\n",
        "Next we discuss numbers congruent to 7 modulo 16.\n",
        "\n",
        "Here, we get another case where there is no consistent pattern. These values for dropping time seem to jump all over the place."
      ],
      "metadata": {
        "id": "CnZNZKmC3N7V"
      }
    },
    {
      "cell_type": "code",
      "source": [
        "dropping_time_congruent_mod(1000, 7, 16)"
      ],
      "metadata": {
        "colab": {
          "base_uri": "https://localhost:8080/"
        },
        "outputId": "87d449f8-6399-4a98-acf2-4161fd860ddc",
        "id": "q_07GTfy3N7W"
      },
      "execution_count": 35,
      "outputs": [
        {
          "output_type": "stream",
          "name": "stdout",
          "text": [
            "7: Dropping time 11\n",
            "23: Dropping time 8\n",
            "39: Dropping time 13\n",
            "55: Dropping time 8\n",
            "71: Dropping time 83\n",
            "87: Dropping time 8\n",
            "103: Dropping time 68\n",
            "119: Dropping time 8\n",
            "135: Dropping time 11\n",
            "151: Dropping time 8\n",
            "167: Dropping time 47\n",
            "183: Dropping time 8\n",
            "199: Dropping time 13\n",
            "215: Dropping time 8\n",
            "231: Dropping time 19\n",
            "247: Dropping time 8\n",
            "263: Dropping time 11\n",
            "279: Dropping time 8\n",
            "295: Dropping time 13\n",
            "311: Dropping time 8\n",
            "327: Dropping time 34\n",
            "343: Dropping time 8\n",
            "359: Dropping time 26\n",
            "375: Dropping time 8\n",
            "391: Dropping time 11\n",
            "407: Dropping time 8\n",
            "423: Dropping time 16\n",
            "439: Dropping time 8\n",
            "455: Dropping time 13\n",
            "471: Dropping time 8\n",
            "487: Dropping time 32\n",
            "503: Dropping time 8\n",
            "519: Dropping time 11\n",
            "535: Dropping time 8\n",
            "551: Dropping time 13\n",
            "567: Dropping time 8\n",
            "583: Dropping time 16\n",
            "599: Dropping time 8\n",
            "615: Dropping time 19\n",
            "631: Dropping time 8\n",
            "647: Dropping time 11\n",
            "663: Dropping time 8\n",
            "679: Dropping time 21\n",
            "695: Dropping time 8\n",
            "711: Dropping time 13\n",
            "727: Dropping time 8\n",
            "743: Dropping time 39\n",
            "759: Dropping time 8\n",
            "775: Dropping time 11\n",
            "791: Dropping time 8\n",
            "807: Dropping time 13\n",
            "823: Dropping time 8\n",
            "839: Dropping time 24\n",
            "855: Dropping time 8\n",
            "871: Dropping time 57\n",
            "887: Dropping time 8\n",
            "903: Dropping time 11\n",
            "919: Dropping time 8\n",
            "935: Dropping time 19\n",
            "951: Dropping time 8\n",
            "967: Dropping time 13\n",
            "983: Dropping time 8\n",
            "999: Dropping time 16\n"
          ]
        }
      ]
    },
    {
      "cell_type": "markdown",
      "source": [
        "#### Congruent to 9 modulo 16\n",
        "\n",
        "We move on to numbers congruent to 9 modulo 16.\n",
        "\n",
        "Repeating the process, we see that numbers congruent to 9 modulo 16 all have a dropping time of 3."
      ],
      "metadata": {
        "id": "oZxzYzto3cRP"
      }
    },
    {
      "cell_type": "code",
      "source": [
        "dropping_time_congruent_mod(1000, 9, 16)"
      ],
      "metadata": {
        "colab": {
          "base_uri": "https://localhost:8080/"
        },
        "outputId": "39fccece-403f-46e7-fee5-c1a1b1b1ed8d",
        "id": "aJ6weK9V3cRQ"
      },
      "execution_count": 36,
      "outputs": [
        {
          "output_type": "stream",
          "name": "stdout",
          "text": [
            "9: Dropping time 3\n",
            "25: Dropping time 3\n",
            "41: Dropping time 3\n",
            "57: Dropping time 3\n",
            "73: Dropping time 3\n",
            "89: Dropping time 3\n",
            "105: Dropping time 3\n",
            "121: Dropping time 3\n",
            "137: Dropping time 3\n",
            "153: Dropping time 3\n",
            "169: Dropping time 3\n",
            "185: Dropping time 3\n",
            "201: Dropping time 3\n",
            "217: Dropping time 3\n",
            "233: Dropping time 3\n",
            "249: Dropping time 3\n",
            "265: Dropping time 3\n",
            "281: Dropping time 3\n",
            "297: Dropping time 3\n",
            "313: Dropping time 3\n",
            "329: Dropping time 3\n",
            "345: Dropping time 3\n",
            "361: Dropping time 3\n",
            "377: Dropping time 3\n",
            "393: Dropping time 3\n",
            "409: Dropping time 3\n",
            "425: Dropping time 3\n",
            "441: Dropping time 3\n",
            "457: Dropping time 3\n",
            "473: Dropping time 3\n",
            "489: Dropping time 3\n",
            "505: Dropping time 3\n",
            "521: Dropping time 3\n",
            "537: Dropping time 3\n",
            "553: Dropping time 3\n",
            "569: Dropping time 3\n",
            "585: Dropping time 3\n",
            "601: Dropping time 3\n",
            "617: Dropping time 3\n",
            "633: Dropping time 3\n",
            "649: Dropping time 3\n",
            "665: Dropping time 3\n",
            "681: Dropping time 3\n",
            "697: Dropping time 3\n",
            "713: Dropping time 3\n",
            "729: Dropping time 3\n",
            "745: Dropping time 3\n",
            "761: Dropping time 3\n",
            "777: Dropping time 3\n",
            "793: Dropping time 3\n",
            "809: Dropping time 3\n",
            "825: Dropping time 3\n",
            "841: Dropping time 3\n",
            "857: Dropping time 3\n",
            "873: Dropping time 3\n",
            "889: Dropping time 3\n",
            "905: Dropping time 3\n",
            "921: Dropping time 3\n",
            "937: Dropping time 3\n",
            "953: Dropping time 3\n",
            "969: Dropping time 3\n",
            "985: Dropping time 3\n"
          ]
        }
      ]
    },
    {
      "cell_type": "markdown",
      "source": [
        "#### Congruent to 11 modulo 16\n",
        "\n",
        "Next we analyze numbers congruent to 11 modulo 16.\n",
        "\n",
        "Similarly to the case of numbers congruent to 7 modulo 16, the dropping times of numbers congruent to 11 modulo 16 don't seem to follow an obvious pattern. Clearly, they aren't consistently one value."
      ],
      "metadata": {
        "id": "MubPIk473o2Z"
      }
    },
    {
      "cell_type": "code",
      "source": [
        "dropping_time_congruent_mod(1000, 11, 16)"
      ],
      "metadata": {
        "colab": {
          "base_uri": "https://localhost:8080/"
        },
        "outputId": "a469dc44-1b3d-4842-bb7b-383e8b1d1710",
        "id": "wImdAQmg3o2Z"
      },
      "execution_count": 37,
      "outputs": [
        {
          "output_type": "stream",
          "name": "stdout",
          "text": [
            "11: Dropping time 8\n",
            "27: Dropping time 96\n",
            "43: Dropping time 8\n",
            "59: Dropping time 11\n",
            "75: Dropping time 8\n",
            "91: Dropping time 73\n",
            "107: Dropping time 8\n",
            "123: Dropping time 13\n",
            "139: Dropping time 8\n",
            "155: Dropping time 65\n",
            "171: Dropping time 8\n",
            "187: Dropping time 11\n",
            "203: Dropping time 8\n",
            "219: Dropping time 13\n",
            "235: Dropping time 8\n",
            "251: Dropping time 44\n",
            "267: Dropping time 8\n",
            "283: Dropping time 39\n",
            "299: Dropping time 8\n",
            "315: Dropping time 11\n",
            "331: Dropping time 8\n",
            "347: Dropping time 16\n",
            "363: Dropping time 8\n",
            "379: Dropping time 13\n",
            "395: Dropping time 8\n",
            "411: Dropping time 24\n",
            "427: Dropping time 8\n",
            "443: Dropping time 11\n",
            "459: Dropping time 8\n",
            "475: Dropping time 13\n",
            "491: Dropping time 8\n",
            "507: Dropping time 16\n",
            "523: Dropping time 8\n",
            "539: Dropping time 21\n",
            "555: Dropping time 8\n",
            "571: Dropping time 11\n",
            "587: Dropping time 8\n",
            "603: Dropping time 26\n",
            "619: Dropping time 8\n",
            "635: Dropping time 13\n",
            "651: Dropping time 8\n",
            "667: Dropping time 39\n",
            "683: Dropping time 8\n",
            "699: Dropping time 11\n",
            "715: Dropping time 8\n",
            "731: Dropping time 13\n",
            "747: Dropping time 8\n",
            "763: Dropping time 32\n",
            "779: Dropping time 8\n",
            "795: Dropping time 44\n",
            "811: Dropping time 8\n",
            "827: Dropping time 11\n",
            "843: Dropping time 8\n",
            "859: Dropping time 26\n",
            "875: Dropping time 8\n",
            "891: Dropping time 13\n",
            "907: Dropping time 8\n",
            "923: Dropping time 16\n",
            "939: Dropping time 8\n",
            "955: Dropping time 11\n",
            "971: Dropping time 8\n",
            "987: Dropping time 13\n"
          ]
        }
      ]
    },
    {
      "cell_type": "markdown",
      "source": [
        "#### Congruent to 13 modulo 16\n",
        "\n",
        "Focusing on numbers congruent to 13 modulo 16, we once more find that the dropping time is always 3."
      ],
      "metadata": {
        "id": "BUqy5fac398q"
      }
    },
    {
      "cell_type": "code",
      "source": [
        "dropping_time_congruent_mod(1000, 13, 16)"
      ],
      "metadata": {
        "colab": {
          "base_uri": "https://localhost:8080/"
        },
        "outputId": "be0c1225-42b2-461a-9282-7835a3c38ff4",
        "id": "RrpB6ELd398q"
      },
      "execution_count": 38,
      "outputs": [
        {
          "output_type": "stream",
          "name": "stdout",
          "text": [
            "13: Dropping time 3\n",
            "29: Dropping time 3\n",
            "45: Dropping time 3\n",
            "61: Dropping time 3\n",
            "77: Dropping time 3\n",
            "93: Dropping time 3\n",
            "109: Dropping time 3\n",
            "125: Dropping time 3\n",
            "141: Dropping time 3\n",
            "157: Dropping time 3\n",
            "173: Dropping time 3\n",
            "189: Dropping time 3\n",
            "205: Dropping time 3\n",
            "221: Dropping time 3\n",
            "237: Dropping time 3\n",
            "253: Dropping time 3\n",
            "269: Dropping time 3\n",
            "285: Dropping time 3\n",
            "301: Dropping time 3\n",
            "317: Dropping time 3\n",
            "333: Dropping time 3\n",
            "349: Dropping time 3\n",
            "365: Dropping time 3\n",
            "381: Dropping time 3\n",
            "397: Dropping time 3\n",
            "413: Dropping time 3\n",
            "429: Dropping time 3\n",
            "445: Dropping time 3\n",
            "461: Dropping time 3\n",
            "477: Dropping time 3\n",
            "493: Dropping time 3\n",
            "509: Dropping time 3\n",
            "525: Dropping time 3\n",
            "541: Dropping time 3\n",
            "557: Dropping time 3\n",
            "573: Dropping time 3\n",
            "589: Dropping time 3\n",
            "605: Dropping time 3\n",
            "621: Dropping time 3\n",
            "637: Dropping time 3\n",
            "653: Dropping time 3\n",
            "669: Dropping time 3\n",
            "685: Dropping time 3\n",
            "701: Dropping time 3\n",
            "717: Dropping time 3\n",
            "733: Dropping time 3\n",
            "749: Dropping time 3\n",
            "765: Dropping time 3\n",
            "781: Dropping time 3\n",
            "797: Dropping time 3\n",
            "813: Dropping time 3\n",
            "829: Dropping time 3\n",
            "845: Dropping time 3\n",
            "861: Dropping time 3\n",
            "877: Dropping time 3\n",
            "893: Dropping time 3\n",
            "909: Dropping time 3\n",
            "925: Dropping time 3\n",
            "941: Dropping time 3\n",
            "957: Dropping time 3\n",
            "973: Dropping time 3\n",
            "989: Dropping time 3\n"
          ]
        }
      ]
    },
    {
      "cell_type": "markdown",
      "source": [
        "#### Congruent to 15 modulo 16\n",
        "\n",
        "Finally, we look at numbers congruent to 15 modulo 16.\n",
        "\n",
        "Here, as before with numbers congruent to 7 and 11 modulo 16, the values of dropping time vary fairly wildly."
      ],
      "metadata": {
        "id": "e9YFslkc4G4-"
      }
    },
    {
      "cell_type": "code",
      "source": [
        "dropping_time_congruent_mod(1000, 15, 16)"
      ],
      "metadata": {
        "colab": {
          "base_uri": "https://localhost:8080/"
        },
        "outputId": "0262f2ca-80de-4c4e-b748-97d695dbf15f",
        "id": "q_fiSaSE4G4-"
      },
      "execution_count": 39,
      "outputs": [
        {
          "output_type": "stream",
          "name": "stdout",
          "text": [
            "15: Dropping time 11\n",
            "31: Dropping time 91\n",
            "47: Dropping time 88\n",
            "63: Dropping time 88\n",
            "79: Dropping time 13\n",
            "95: Dropping time 13\n",
            "111: Dropping time 50\n",
            "127: Dropping time 24\n",
            "143: Dropping time 11\n",
            "159: Dropping time 34\n",
            "175: Dropping time 13\n",
            "191: Dropping time 21\n",
            "207: Dropping time 21\n",
            "223: Dropping time 50\n",
            "239: Dropping time 32\n",
            "255: Dropping time 21\n",
            "271: Dropping time 11\n",
            "287: Dropping time 16\n",
            "303: Dropping time 21\n",
            "319: Dropping time 34\n",
            "335: Dropping time 13\n",
            "351: Dropping time 13\n",
            "367: Dropping time 16\n",
            "383: Dropping time 19\n",
            "399: Dropping time 11\n",
            "415: Dropping time 24\n",
            "431: Dropping time 13\n",
            "447: Dropping time 65\n",
            "463: Dropping time 19\n",
            "479: Dropping time 26\n",
            "495: Dropping time 44\n",
            "511: Dropping time 29\n",
            "527: Dropping time 11\n",
            "543: Dropping time 21\n",
            "559: Dropping time 26\n",
            "575: Dropping time 16\n",
            "591: Dropping time 13\n",
            "607: Dropping time 13\n",
            "623: Dropping time 21\n",
            "639: Dropping time 37\n",
            "655: Dropping time 11\n",
            "671: Dropping time 63\n",
            "687: Dropping time 13\n",
            "703: Dropping time 132\n",
            "719: Dropping time 21\n",
            "735: Dropping time 16\n",
            "751: Dropping time 34\n",
            "767: Dropping time 26\n",
            "783: Dropping time 11\n",
            "799: Dropping time 21\n",
            "815: Dropping time 16\n",
            "831: Dropping time 24\n",
            "847: Dropping time 13\n",
            "863: Dropping time 13\n",
            "879: Dropping time 19\n",
            "895: Dropping time 39\n",
            "911: Dropping time 11\n",
            "927: Dropping time 60\n",
            "943: Dropping time 13\n",
            "959: Dropping time 34\n",
            "975: Dropping time 16\n",
            "991: Dropping time 42\n"
          ]
        }
      ]
    },
    {
      "cell_type": "markdown",
      "source": [
        "### Observations and Exploration of Larger Moduli\n",
        "\n",
        "Although there were three categories of number whose dropping time was not easily predictable in our exploration of numbers modulo 16, namely numbers congruent to 7, 11, or 15, there were five non-trivial categories whose dropping time *was* easy to predict. These were numbers congruent to 1, 3, 5, 9, or 13 modulo 16. Thus, we were easily able to predict the dropping times of 5 in every 8 non-trivial integers using our analysis modulo 16. The trivial ones being those which were even to begin with. Including the even numbers, we had predictable behavior in 13 out of every 16 integers ($81.25\\%$ of them). This is a step up from conclusions we could draw from our analysis of numbers modulo 8. Recall that we were only able to easily predict the dropping times of half of the non-trivial integers after that work, namely those congruent to 1 or 5 modulo 8. Including even numbers, this meant we had predictable behavior in just 6 out of every 8 integers ($75\\%$ of them). Therefore, by expanding the number of categories we grouped numbers into, we were able to better predict the behavior of the dropping times of those numbers using their congruences. Hence it's possible that if we were to keep increasing this number of categories (the size of the modulus), we would be able to predict the dropping times of a larger and larger fraction of the integers."
      ],
      "metadata": {
        "id": "oCvEeslB5Sdm"
      }
    },
    {
      "cell_type": "markdown",
      "source": [
        "Below, I test this hypothesis. That is, if we keep using a larger and larger modulus, do we get predictable behavior in more and more of the integers?"
      ],
      "metadata": {
        "id": "9AJnO2kiAEHr"
      }
    },
    {
      "cell_type": "code",
      "source": [
        "def fraction_predictable(n, m):\n",
        "  \"\"\"\n",
        "  Checks what fraction of the integers up to n have predictable dropping times\n",
        "  after testing the behavior of integers congruent to odd numbers mod m.\n",
        "  Tests integers up to n.\n",
        "  Note, m is assumed to be an even number\n",
        "  \"\"\"\n",
        "  # Test each odd modulus\n",
        "  num_following_pattern = 0\n",
        "  for a in range(1, m, 2):\n",
        "    # For each modulus, test for a pattern\n",
        "    pattern_test = 0\n",
        "    #follows_pattern = True\n",
        "    matches_in_a_row = 0\n",
        "    for i in range(2, n, 1):\n",
        "      # If the number is congruent to the current value mod m,\n",
        "      # see if it follows the pattern of other values congruent to this value mod m\n",
        "      if i % m == a:\n",
        "        # If we haven't seen a time yet, set pattern_test to the time\n",
        "        if pattern_test == 0:\n",
        "          pattern_test = dropping_time(i)\n",
        "        elif not dropping_time(i) == pattern_test:\n",
        "          # else if we find a number which doesn't follow the pattern, break the inner loop:\n",
        "          # this set of numbers congruent to a is not predictable, so we don't bother checking\n",
        "          # the rest of the numbers.\n",
        "          matches_in_a_row = 0\n",
        "          break\n",
        "        else:\n",
        "          # Else the dropping time matches the pattern, we increment how many matches we have\n",
        "          # in a row. If this is more than 10, we assume it's a pattern.\n",
        "          # This avoids checking thousands of values pointlessly.\n",
        "          matches_in_a_row += 1\n",
        "          if matches_in_a_row > 10:\n",
        "            break\n",
        "    # Test to see whether the numbers followed a pattern\n",
        "    if matches_in_a_row != 0:\n",
        "      num_following_pattern += 1\n",
        "  # We're done, return the fraction of the numbers which followed a pattern\n",
        "  # This includes all even numbers trivially\n",
        "  return (num_following_pattern + (m/2)) / m\n"
      ],
      "metadata": {
        "id": "fHJk3CLF7JXk"
      },
      "execution_count": 40,
      "outputs": []
    },
    {
      "cell_type": "markdown",
      "source": [
        "Now we should be able to test the effect of increasing the modulus we consider on the fraction of integers with predictable dropping times.\n",
        "To confirm this is working, we try modulo 8 and modulo 16 below. They should return 0.75 and 0.8125 respectively, or 75% and 81.25% if formatted as percents."
      ],
      "metadata": {
        "id": "tgi-WH1iBaBr"
      }
    },
    {
      "cell_type": "code",
      "source": [
        "print(\"With a modulus of {} we find predictable dropping time patterns in {:0.3%} of the integers.\".format(8, fraction_predictable(1000, 8)))\n",
        "print(\"With a modulus of {} we find predictable dropping time patterns in {:0.3%} of the integers.\".format(16, fraction_predictable(1000, 16)))"
      ],
      "metadata": {
        "colab": {
          "base_uri": "https://localhost:8080/"
        },
        "id": "7sD5yWUk_oLn",
        "outputId": "5f61365a-fa17-41d3-be92-2bce86f03276"
      },
      "execution_count": 41,
      "outputs": [
        {
          "output_type": "stream",
          "name": "stdout",
          "text": [
            "With a modulus of 8 we find predictable dropping time patterns in 75.000% of the integers.\n",
            "With a modulus of 16 we find predictable dropping time patterns in 81.250% of the integers.\n"
          ]
        }
      ]
    },
    {
      "cell_type": "markdown",
      "source": [
        "It seems to work!\n",
        "\n",
        "Now what happens as we increase the size of the modulus by consecutive factors of 2? Notice that we have to keep increasing the upper bound on the number of integers to check so that we have at least 25 samples to determine if a pattern exists (otherwise we get, trivially, 100% predictability when the modulus exceeds the largest integer we check, as there is only one sample for each test)."
      ],
      "metadata": {
        "id": "ByQhZFGlCH_d"
      }
    },
    {
      "cell_type": "code",
      "source": [
        "largest_power = 10\n",
        "for i in range(1, largest_power + 1, 1):\n",
        "  print(\"With a modulus of {:>{len_largest}} we find predictable dropping time patterns in {:0.3%} of the integers.\".format(2**i, fraction_predictable(25*(2**largest_power), 2**i), len_largest=len(str(2**largest_power))))"
      ],
      "metadata": {
        "colab": {
          "base_uri": "https://localhost:8080/"
        },
        "id": "qBGLz0zUCOkX",
        "outputId": "c8c72df7-f703-4049-cb32-10e2b309c3b7"
      },
      "execution_count": 42,
      "outputs": [
        {
          "output_type": "stream",
          "name": "stdout",
          "text": [
            "With a modulus of    2 we find predictable dropping time patterns in 50.000% of the integers.\n",
            "With a modulus of    4 we find predictable dropping time patterns in 75.000% of the integers.\n",
            "With a modulus of    8 we find predictable dropping time patterns in 75.000% of the integers.\n",
            "With a modulus of   16 we find predictable dropping time patterns in 81.250% of the integers.\n",
            "With a modulus of   32 we find predictable dropping time patterns in 87.500% of the integers.\n",
            "With a modulus of   64 we find predictable dropping time patterns in 87.500% of the integers.\n",
            "With a modulus of  128 we find predictable dropping time patterns in 89.844% of the integers.\n",
            "With a modulus of  256 we find predictable dropping time patterns in 92.578% of the integers.\n",
            "With a modulus of  512 we find predictable dropping time patterns in 92.578% of the integers.\n",
            "With a modulus of 1024 we find predictable dropping time patterns in 93.750% of the integers.\n"
          ]
        }
      ]
    },
    {
      "cell_type": "markdown",
      "source": [
        "Obviously we haven't tried all possible moduli here, but this demo seems to lend credence to our claim. As the modulus we consider increases in size, the fraction of the integers which fall into predictable dropping time patterns increases. Thus, by using a very large modulus $m$, we can predict the dropping time of a lot of the integers just by noting which value they are congruent to modulo $m$. This assumes that the patterns are noted for each potential congruence class."
      ],
      "metadata": {
        "id": "5UFyh_byDSCp"
      }
    },
    {
      "cell_type": "markdown",
      "source": [
        "## The $3n-1$ conjecture?"
      ],
      "metadata": {
        "id": "YAkgNjyW5TEq"
      }
    },
    {
      "cell_type": "markdown",
      "source": [
        "We've discussed the behavior of the $3n+1$ conjecture in quite a bit of detail at this point. But what would happen if we used a different rule to generate the next number in the progression? In particular, what kind of patterns, if any, arise? Here, we again use the pattern finding function implemented earlier, but this time with the rule that when an odd number is found, the next number is generated by $3n-1$ instead. We still divide by 2 when we encounter an even number."
      ],
      "metadata": {
        "id": "UnmniNeb5YsG"
      }
    },
    {
      "cell_type": "code",
      "source": [
        "def check_for_patterns_modified(n):\n",
        "  \"\"\"\n",
        "  Checks all numbers between 1 and n if n is positive, -1 and n if n is negative, and returns the number of patterns found, along with \n",
        "  a list of all patterns found.\n",
        "  Use the rule 3n-1 instead of the usual 3n+1\n",
        "  \"\"\"\n",
        "  num_patterns = 0\n",
        "  characteristics = []\n",
        "  full_patterns = []\n",
        "  inc = 1\n",
        "  if n < 0:\n",
        "    inc = -1\n",
        "  for i in range(inc, n, inc):\n",
        "    progression = []\n",
        "    value = i\n",
        "    while True:\n",
        "      # If the value is a part of a pattern already noted\n",
        "      # then break and do nothing\n",
        "      if value in characteristics:\n",
        "        break\n",
        "      # else if the value has been seen already in the progression\n",
        "      # we've found a loop and it hasn't been found before since\n",
        "      # our loop would have broken due to the above condition first\n",
        "      elif value in progression:\n",
        "        num_patterns += 1\n",
        "        characteristics.append(value)\n",
        "        # Extract the whole loop\n",
        "        ind = progression.index(value)\n",
        "        full_patterns.append(progression[ind:])\n",
        "        break\n",
        "      # else, keep building up the current progression\n",
        "      else:\n",
        "        progression.append(value)\n",
        "      # Perform the rules of 3n+1\n",
        "      if value %2 == 0:\n",
        "        value = value//2\n",
        "      else:\n",
        "        value = 3*value - 1\n",
        "  # We've checked the first n values\n",
        "  return num_patterns, full_patterns"
      ],
      "metadata": {
        "id": "DP0-hrVG569y"
      },
      "execution_count": 43,
      "outputs": []
    },
    {
      "cell_type": "markdown",
      "source": [
        "Before we run code to find the patterns, we can try a few tests of the rule. For example, an initial value of 1 will result in the progression $1, 2, 1, 2,\\dots$ As another example, an initial value of 5 will follow the progression $5, 14, 7, 20, 10, 5, \\dots$ These patterns are familiar. In fact, they seem to be the same ones we found in the negative numbers using the $3n+1$ conjecture, only now they occur on the positive side of things. Seeing this, we hypothesize that we will find the third pattern from before, namely the loop \n",
        "$$17, 50, 25, 74, 37, 110, 55, 164, 82, 41, 122, 61, 182, 91, 272, 136, 68, 34,\\dots$$ \n",
        "with positive values instead of negative ones. Also, we want to see whether an equivalent thing occurs in the negative integers. That is, do we find the loop $-1,-4,-2,\\dots$ occurring for all negative initial values?\n",
        "\n",
        "In a similar manner to our analysis of patterns in the $3n+1$ case, we check a certain number of positive and negative starting values and see what patterns result.\n",
        "\n",
        "Using the above function, we check for patterns in the first 10,000 positive integers, and the first 10,000 negative integers.\n",
        "\n",
        "The code below performs this check and then prints out both the number of patterns found and the patterns themselves."
      ],
      "metadata": {
        "id": "kncxWwtI5690"
      }
    },
    {
      "cell_type": "code",
      "source": [
        "num_to_check = 10000\n",
        "pattern_num, full_patterns = check_for_patterns_modified(num_to_check)\n",
        "print(\"We found {:d} pattern(s) while checking the positive integers from 1 to {:d}\".format(pattern_num, num_to_check))\n",
        "print(\"Here are the patterns we found:\")\n",
        "# Print the patterns found above\n",
        "for i in range(len(full_patterns)):\n",
        "  for j in range(len(full_patterns[i])):\n",
        "    if j == 0:\n",
        "      print(\"   \" + str(full_patterns[i][j]), end=\", \")\n",
        "    elif j == len(full_patterns[i]) - 1:\n",
        "      print(str(full_patterns[i][j]) + \"...\")\n",
        "    else:\n",
        "      print(full_patterns[i][j], end=\", \")\n",
        "print()\n",
        "pattern_num, full_patterns = check_for_patterns_modified(-1*num_to_check)\n",
        "print(\"We found {:d} pattern(s) while checking the negative integers from -1 to {:d}\".format(pattern_num, -1*num_to_check))\n",
        "print(\"Here are the patterns we found:\")\n",
        "# Print the patterns found above\n",
        "for i in range(len(full_patterns)):\n",
        "  for j in range(len(full_patterns[i])):\n",
        "    if j == 0:\n",
        "      print(\"   \" + str(full_patterns[i][j]), end=\", \")\n",
        "    elif j == len(full_patterns[i]) - 1:\n",
        "      print(str(full_patterns[i][j]) + \"...\")\n",
        "    else:\n",
        "      print(full_patterns[i][j], end=\", \")\n",
        "print()"
      ],
      "metadata": {
        "colab": {
          "base_uri": "https://localhost:8080/"
        },
        "outputId": "bb23eeaf-aa20-4680-d808-57365a95387c",
        "id": "9cckais05691"
      },
      "execution_count": 44,
      "outputs": [
        {
          "output_type": "stream",
          "name": "stdout",
          "text": [
            "We found 3 pattern(s) while checking the positive integers from 1 to 10000\n",
            "Here are the patterns we found:\n",
            "   1, 2...\n",
            "   5, 14, 7, 20, 10...\n",
            "   17, 50, 25, 74, 37, 110, 55, 164, 82, 41, 122, 61, 182, 91, 272, 136, 68, 34...\n",
            "\n",
            "We found 1 pattern(s) while checking the negative integers from -1 to -10000\n",
            "Here are the patterns we found:\n",
            "   -1, -4, -2...\n",
            "\n"
          ]
        }
      ]
    },
    {
      "cell_type": "markdown",
      "source": [
        "From this test, it seems our conjecture was correct. At least in the first 10,000 positive and 10,000 negative integers, the patterns we find exactly match the ones we found in the $3n+1$ conjecture, just with inverted signs.\n",
        "\n",
        "Using the rule $3n-1$, we now find three loops in the positive integers, and just a single loop in the negative integers. This is an interesting reversal of roles."
      ],
      "metadata": {
        "id": "xL-FGkuB8Nwq"
      }
    },
    {
      "cell_type": "markdown",
      "source": [
        "## Final Remarks"
      ],
      "metadata": {
        "id": "QZHbaoZa9kFI"
      }
    },
    {
      "cell_type": "markdown",
      "source": [
        "We've found a suprising amount of depth in the patterns that evolve from the simple rule $3n+1$, and we've simply scratched the surface. It's interesting how a rule so simple it can be explained to pretty much anyone can generate such complexity. \n",
        "\n",
        "We've seen that numbers which are very close to each other can result in wildly different progressions, and that the dropping times of various values can sometimes be predicted by looking at the congruence class the number belongs to modulo various integers. We discovered that the behavior of the negative numbers is very different from that of the positive numbers, but that the roles can be reversed by a simple rule change from $3n+1$ to $3n-1$.\n",
        "\n",
        "Taking these results and the properties of this conjecture into account, it becomes more clear why this problem has been studied in depth by many."
      ],
      "metadata": {
        "id": "Bc0IopVI9Uaa"
      }
    }
  ]
}